{
 "cells": [
  {
   "cell_type": "code",
   "outputs": [],
   "source": [
    "from constants_app import DF_COMMENTAIRE_PLONGEMENT, LISTE_FILMS_INITIAL, MODELE_LANGAGE, LABEL_COMMENTAIRE_UTILISATEUR\n",
    "from comments import filtrer_commentaire\n",
    "from constants import NB_MAX_COMMENTAIRE_PAR_FILM_INITIAL, MIN_MAX_MOT_INITIAL, PERPLEXITE_TSNE_INITIAL, DISTANCE_TSNE_INITIAL\n",
    "import pandas as pd\n",
    "from io import StringIO\n",
    "from sklearn.manifold import TSNE\n",
    "from sklearn.neighbors import NearestNeighbors"
   ],
   "metadata": {
    "collapsed": false,
    "ExecuteTime": {
     "end_time": "2024-02-18T17:08:38.923012Z",
     "start_time": "2024-02-18T17:08:38.911489Z"
    }
   },
   "id": "f19804423159400c",
   "execution_count": 44
  },
  {
   "cell_type": "code",
   "outputs": [],
   "source": [
    "df_filtre = filtrer_commentaire(DF_COMMENTAIRE_PLONGEMENT, nb_max_commentaire_par_film=NB_MAX_COMMENTAIRE_PAR_FILM_INITIAL, min_max_mot=MIN_MAX_MOT_INITIAL)"
   ],
   "metadata": {
    "collapsed": false,
    "ExecuteTime": {
     "end_time": "2024-02-18T17:08:47.295689Z",
     "start_time": "2024-02-18T17:08:40.137425Z"
    }
   },
   "id": "29e19fca186591d0",
   "execution_count": 45
  },
  {
   "cell_type": "code",
   "outputs": [
    {
     "data": {
      "text/plain": "                           titre        date rating  \\\n0       10 Cloverfield Lane 2016  2017-02-19      3   \n1       10 Cloverfield Lane 2016  2017-02-10      5   \n2       10 Cloverfield Lane 2016  2016-12-14      1   \n3       10 Cloverfield Lane 2016  2016-08-30      6   \n4       10 Cloverfield Lane 2016  2016-07-21      5   \n...                          ...         ...    ...   \n363568                 Zulu 1964  2004-10-20     10   \n363569                 Zulu 1964  2004-01-18     10   \n363570                 Zulu 1964  1999-12-02   Null   \n363571                 Zulu 1964  2006-02-20      9   \n363572                 Zulu 1964  2002-01-14     10   \n\n                                                   review     V_000     V_001  \\\n0       I wish I could rate the first hour of this mov... -0.028970 -0.001207   \n1       Movie Rating like this on IMDb makes it really... -0.059906 -0.007888   \n2       I would love to spoil this so you won't waste ... -0.112675  0.003736   \n3       Great suspense, Goodman doing an excellent job... -0.010714  0.002267   \n4       I've never seen the original \"Cloverfield\", bu... -0.027969 -0.152922   \n...                                                   ...       ...       ...   \n363568  When one sees this film you know great pains w... -0.101831  0.067059   \n363569  While quite a lot of today's action movies dep... -0.006235 -0.131908   \n363570  A stirring, inspiring film about ordinary Brit... -0.133035  0.028559   \n363571  Zulu is my favourite all time film and has bee... -0.102526  0.113231   \n363572  simply my favourite film. A true story well to... -0.112757  0.067062   \n\n           V_002     V_003     V_004     V_005  ...     V_374     V_375  \\\n0      -0.002391  0.060831  0.074947  0.017567  ...  0.118595  0.020172   \n1      -0.028277  0.062930  0.048968 -0.006634  ...  0.155309 -0.067951   \n2       0.003658  0.030246  0.031492  0.056028  ...  0.078484 -0.034838   \n3      -0.064918  0.096290  0.062443  0.076409  ...  0.091952 -0.017621   \n4      -0.013353  0.007773  0.055064  0.032211  ...  0.067877  0.047383   \n...          ...       ...       ...       ...  ...       ...       ...   \n363568 -0.055036  0.012404 -0.035793  0.090411  ...  0.064207  0.027225   \n363569 -0.033591 -0.062634  0.018265  0.093581  ...  0.025185  0.071643   \n363570 -0.051200 -0.045377 -0.061504  0.037782  ...  0.013474  0.089520   \n363571 -0.099816  0.003368 -0.028530  0.036549  ...  0.046299  0.023127   \n363572 -0.069362 -0.013325 -0.045737  0.055752  ...  0.074638 -0.023234   \n\n           V_376     V_377     V_378     V_379     V_380     V_381     V_382  \\\n0      -0.054436  0.017774 -0.041132  0.079366 -0.017481  0.001618 -0.063559   \n1      -0.039774  0.009251 -0.061647  0.077600  0.022015 -0.027876  0.033053   \n2      -0.026177  0.079169 -0.056632  0.022633 -0.022436 -0.030744 -0.034435   \n3      -0.001879 -0.132019 -0.046799 -0.004026 -0.038562 -0.024723 -0.074742   \n4      -0.039394  0.018294  0.004541  0.039569 -0.033773  0.007929  0.034427   \n...          ...       ...       ...       ...       ...       ...       ...   \n363568  0.034250  0.069083  0.007103  0.028638  0.144963 -0.039573 -0.097090   \n363569 -0.006097  0.071878  0.002889  0.027185  0.093982 -0.073659 -0.010753   \n363570  0.027840 -0.000864 -0.076700  0.051896 -0.098770  0.015675 -0.032107   \n363571  0.008594  0.014692 -0.035033  0.035107  0.051330 -0.039209 -0.097382   \n363572  0.000719 -0.012392 -0.011617  0.020496  0.054850  0.019823 -0.038236   \n\n           V_383  \n0      -0.035152  \n1       0.054762  \n2      -0.019224  \n3      -0.052700  \n4       0.022803  \n...          ...  \n363568 -0.005697  \n363569  0.063041  \n363570 -0.018967  \n363571  0.024714  \n363572 -0.048281  \n\n[63194 rows x 388 columns]",
      "text/html": "<div>\n<style scoped>\n    .dataframe tbody tr th:only-of-type {\n        vertical-align: middle;\n    }\n\n    .dataframe tbody tr th {\n        vertical-align: top;\n    }\n\n    .dataframe thead th {\n        text-align: right;\n    }\n</style>\n<table border=\"1\" class=\"dataframe\">\n  <thead>\n    <tr style=\"text-align: right;\">\n      <th></th>\n      <th>titre</th>\n      <th>date</th>\n      <th>rating</th>\n      <th>review</th>\n      <th>V_000</th>\n      <th>V_001</th>\n      <th>V_002</th>\n      <th>V_003</th>\n      <th>V_004</th>\n      <th>V_005</th>\n      <th>...</th>\n      <th>V_374</th>\n      <th>V_375</th>\n      <th>V_376</th>\n      <th>V_377</th>\n      <th>V_378</th>\n      <th>V_379</th>\n      <th>V_380</th>\n      <th>V_381</th>\n      <th>V_382</th>\n      <th>V_383</th>\n    </tr>\n  </thead>\n  <tbody>\n    <tr>\n      <th>0</th>\n      <td>10 Cloverfield Lane 2016</td>\n      <td>2017-02-19</td>\n      <td>3</td>\n      <td>I wish I could rate the first hour of this mov...</td>\n      <td>-0.028970</td>\n      <td>-0.001207</td>\n      <td>-0.002391</td>\n      <td>0.060831</td>\n      <td>0.074947</td>\n      <td>0.017567</td>\n      <td>...</td>\n      <td>0.118595</td>\n      <td>0.020172</td>\n      <td>-0.054436</td>\n      <td>0.017774</td>\n      <td>-0.041132</td>\n      <td>0.079366</td>\n      <td>-0.017481</td>\n      <td>0.001618</td>\n      <td>-0.063559</td>\n      <td>-0.035152</td>\n    </tr>\n    <tr>\n      <th>1</th>\n      <td>10 Cloverfield Lane 2016</td>\n      <td>2017-02-10</td>\n      <td>5</td>\n      <td>Movie Rating like this on IMDb makes it really...</td>\n      <td>-0.059906</td>\n      <td>-0.007888</td>\n      <td>-0.028277</td>\n      <td>0.062930</td>\n      <td>0.048968</td>\n      <td>-0.006634</td>\n      <td>...</td>\n      <td>0.155309</td>\n      <td>-0.067951</td>\n      <td>-0.039774</td>\n      <td>0.009251</td>\n      <td>-0.061647</td>\n      <td>0.077600</td>\n      <td>0.022015</td>\n      <td>-0.027876</td>\n      <td>0.033053</td>\n      <td>0.054762</td>\n    </tr>\n    <tr>\n      <th>2</th>\n      <td>10 Cloverfield Lane 2016</td>\n      <td>2016-12-14</td>\n      <td>1</td>\n      <td>I would love to spoil this so you won't waste ...</td>\n      <td>-0.112675</td>\n      <td>0.003736</td>\n      <td>0.003658</td>\n      <td>0.030246</td>\n      <td>0.031492</td>\n      <td>0.056028</td>\n      <td>...</td>\n      <td>0.078484</td>\n      <td>-0.034838</td>\n      <td>-0.026177</td>\n      <td>0.079169</td>\n      <td>-0.056632</td>\n      <td>0.022633</td>\n      <td>-0.022436</td>\n      <td>-0.030744</td>\n      <td>-0.034435</td>\n      <td>-0.019224</td>\n    </tr>\n    <tr>\n      <th>3</th>\n      <td>10 Cloverfield Lane 2016</td>\n      <td>2016-08-30</td>\n      <td>6</td>\n      <td>Great suspense, Goodman doing an excellent job...</td>\n      <td>-0.010714</td>\n      <td>0.002267</td>\n      <td>-0.064918</td>\n      <td>0.096290</td>\n      <td>0.062443</td>\n      <td>0.076409</td>\n      <td>...</td>\n      <td>0.091952</td>\n      <td>-0.017621</td>\n      <td>-0.001879</td>\n      <td>-0.132019</td>\n      <td>-0.046799</td>\n      <td>-0.004026</td>\n      <td>-0.038562</td>\n      <td>-0.024723</td>\n      <td>-0.074742</td>\n      <td>-0.052700</td>\n    </tr>\n    <tr>\n      <th>4</th>\n      <td>10 Cloverfield Lane 2016</td>\n      <td>2016-07-21</td>\n      <td>5</td>\n      <td>I've never seen the original \"Cloverfield\", bu...</td>\n      <td>-0.027969</td>\n      <td>-0.152922</td>\n      <td>-0.013353</td>\n      <td>0.007773</td>\n      <td>0.055064</td>\n      <td>0.032211</td>\n      <td>...</td>\n      <td>0.067877</td>\n      <td>0.047383</td>\n      <td>-0.039394</td>\n      <td>0.018294</td>\n      <td>0.004541</td>\n      <td>0.039569</td>\n      <td>-0.033773</td>\n      <td>0.007929</td>\n      <td>0.034427</td>\n      <td>0.022803</td>\n    </tr>\n    <tr>\n      <th>...</th>\n      <td>...</td>\n      <td>...</td>\n      <td>...</td>\n      <td>...</td>\n      <td>...</td>\n      <td>...</td>\n      <td>...</td>\n      <td>...</td>\n      <td>...</td>\n      <td>...</td>\n      <td>...</td>\n      <td>...</td>\n      <td>...</td>\n      <td>...</td>\n      <td>...</td>\n      <td>...</td>\n      <td>...</td>\n      <td>...</td>\n      <td>...</td>\n      <td>...</td>\n      <td>...</td>\n    </tr>\n    <tr>\n      <th>363568</th>\n      <td>Zulu 1964</td>\n      <td>2004-10-20</td>\n      <td>10</td>\n      <td>When one sees this film you know great pains w...</td>\n      <td>-0.101831</td>\n      <td>0.067059</td>\n      <td>-0.055036</td>\n      <td>0.012404</td>\n      <td>-0.035793</td>\n      <td>0.090411</td>\n      <td>...</td>\n      <td>0.064207</td>\n      <td>0.027225</td>\n      <td>0.034250</td>\n      <td>0.069083</td>\n      <td>0.007103</td>\n      <td>0.028638</td>\n      <td>0.144963</td>\n      <td>-0.039573</td>\n      <td>-0.097090</td>\n      <td>-0.005697</td>\n    </tr>\n    <tr>\n      <th>363569</th>\n      <td>Zulu 1964</td>\n      <td>2004-01-18</td>\n      <td>10</td>\n      <td>While quite a lot of today's action movies dep...</td>\n      <td>-0.006235</td>\n      <td>-0.131908</td>\n      <td>-0.033591</td>\n      <td>-0.062634</td>\n      <td>0.018265</td>\n      <td>0.093581</td>\n      <td>...</td>\n      <td>0.025185</td>\n      <td>0.071643</td>\n      <td>-0.006097</td>\n      <td>0.071878</td>\n      <td>0.002889</td>\n      <td>0.027185</td>\n      <td>0.093982</td>\n      <td>-0.073659</td>\n      <td>-0.010753</td>\n      <td>0.063041</td>\n    </tr>\n    <tr>\n      <th>363570</th>\n      <td>Zulu 1964</td>\n      <td>1999-12-02</td>\n      <td>Null</td>\n      <td>A stirring, inspiring film about ordinary Brit...</td>\n      <td>-0.133035</td>\n      <td>0.028559</td>\n      <td>-0.051200</td>\n      <td>-0.045377</td>\n      <td>-0.061504</td>\n      <td>0.037782</td>\n      <td>...</td>\n      <td>0.013474</td>\n      <td>0.089520</td>\n      <td>0.027840</td>\n      <td>-0.000864</td>\n      <td>-0.076700</td>\n      <td>0.051896</td>\n      <td>-0.098770</td>\n      <td>0.015675</td>\n      <td>-0.032107</td>\n      <td>-0.018967</td>\n    </tr>\n    <tr>\n      <th>363571</th>\n      <td>Zulu 1964</td>\n      <td>2006-02-20</td>\n      <td>9</td>\n      <td>Zulu is my favourite all time film and has bee...</td>\n      <td>-0.102526</td>\n      <td>0.113231</td>\n      <td>-0.099816</td>\n      <td>0.003368</td>\n      <td>-0.028530</td>\n      <td>0.036549</td>\n      <td>...</td>\n      <td>0.046299</td>\n      <td>0.023127</td>\n      <td>0.008594</td>\n      <td>0.014692</td>\n      <td>-0.035033</td>\n      <td>0.035107</td>\n      <td>0.051330</td>\n      <td>-0.039209</td>\n      <td>-0.097382</td>\n      <td>0.024714</td>\n    </tr>\n    <tr>\n      <th>363572</th>\n      <td>Zulu 1964</td>\n      <td>2002-01-14</td>\n      <td>10</td>\n      <td>simply my favourite film. A true story well to...</td>\n      <td>-0.112757</td>\n      <td>0.067062</td>\n      <td>-0.069362</td>\n      <td>-0.013325</td>\n      <td>-0.045737</td>\n      <td>0.055752</td>\n      <td>...</td>\n      <td>0.074638</td>\n      <td>-0.023234</td>\n      <td>0.000719</td>\n      <td>-0.012392</td>\n      <td>-0.011617</td>\n      <td>0.020496</td>\n      <td>0.054850</td>\n      <td>0.019823</td>\n      <td>-0.038236</td>\n      <td>-0.048281</td>\n    </tr>\n  </tbody>\n</table>\n<p>63194 rows × 388 columns</p>\n</div>"
     },
     "execution_count": 46,
     "metadata": {},
     "output_type": "execute_result"
    }
   ],
   "source": [
    "df_filtre"
   ],
   "metadata": {
    "collapsed": false,
    "ExecuteTime": {
     "end_time": "2024-02-18T17:08:47.358663Z",
     "start_time": "2024-02-18T17:08:47.290960Z"
    }
   },
   "id": "16ed25f42e762c67",
   "execution_count": 46
  },
  {
   "cell_type": "code",
   "outputs": [
    {
     "name": "stdout",
     "output_type": "stream",
     "text": [
      "['10 Cloverfield Lane 2016', '10 Things I Hate About You 1999', '12 Angry Men 1957', '12 Monkeys 1995', '12 Strong 2018']\n"
     ]
    }
   ],
   "source": [
    "print(LISTE_FILMS_INITIAL)\n",
    "df_filtre = df_filtre.query(\"titre in @LISTE_FILMS_INITIAL\")"
   ],
   "metadata": {
    "collapsed": false,
    "ExecuteTime": {
     "end_time": "2024-02-18T17:08:47.401636Z",
     "start_time": "2024-02-18T17:08:47.323194Z"
    }
   },
   "id": "5ade86adf1640d0a",
   "execution_count": 47
  },
  {
   "cell_type": "code",
   "outputs": [
    {
     "data": {
      "text/plain": "                         titre        date rating  \\\n0     10 Cloverfield Lane 2016  2017-02-19      3   \n1     10 Cloverfield Lane 2016  2017-02-10      5   \n2     10 Cloverfield Lane 2016  2016-12-14      1   \n3     10 Cloverfield Lane 2016  2016-08-30      6   \n4     10 Cloverfield Lane 2016  2016-07-21      5   \n...                        ...         ...    ...   \n1612            12 Strong 2018  2018-04-13     10   \n1613            12 Strong 2018  2018-06-03      8   \n1614            12 Strong 2018  2020-02-10      1   \n1615            12 Strong 2018  2018-12-14      4   \n1616            12 Strong 2018  2018-03-18      7   \n\n                                                 review     V_000     V_001  \\\n0     I wish I could rate the first hour of this mov... -0.028970 -0.001207   \n1     Movie Rating like this on IMDb makes it really... -0.059906 -0.007888   \n2     I would love to spoil this so you won't waste ... -0.112675  0.003736   \n3     Great suspense, Goodman doing an excellent job... -0.010714  0.002267   \n4     I've never seen the original \"Cloverfield\", bu... -0.027969 -0.152922   \n...                                                 ...       ...       ...   \n1612  It is unimaginable to go to Afghanistan, and e... -0.074956  0.007687   \n1613  It very good war movie. It brings back the mem... -0.072772 -0.067160   \n1614  I see al lot of reviews like: \"american propag... -0.057923 -0.006791   \n1615  After the tragic events of 9/11, the US determ... -0.069424 -0.075507   \n1616  This military film exceeded my expectations. I...  0.015108 -0.000571   \n\n         V_002     V_003     V_004     V_005  ...     V_374     V_375  \\\n0    -0.002391  0.060831  0.074947  0.017567  ...  0.118595  0.020172   \n1    -0.028277  0.062930  0.048968 -0.006634  ...  0.155309 -0.067951   \n2     0.003658  0.030246  0.031492  0.056028  ...  0.078484 -0.034838   \n3    -0.064918  0.096290  0.062443  0.076409  ...  0.091952 -0.017621   \n4    -0.013353  0.007773  0.055064  0.032211  ...  0.067877  0.047383   \n...        ...       ...       ...       ...  ...       ...       ...   \n1612  0.007526 -0.032629 -0.035816  0.029308  ...  0.023888  0.039797   \n1613 -0.062672 -0.057667 -0.027165  0.066148  ...  0.060927  0.064094   \n1614 -0.057569 -0.037657  0.026253  0.066385  ...  0.069454  0.033990   \n1615 -0.011454 -0.005499  0.023167  0.050003  ...  0.008316  0.079670   \n1616  0.009139 -0.031863 -0.004330  0.087497  ... -0.012764  0.006254   \n\n         V_376     V_377     V_378     V_379     V_380     V_381     V_382  \\\n0    -0.054436  0.017774 -0.041132  0.079366 -0.017481  0.001618 -0.063559   \n1    -0.039774  0.009251 -0.061647  0.077600  0.022015 -0.027876  0.033053   \n2    -0.026177  0.079169 -0.056632  0.022633 -0.022436 -0.030744 -0.034435   \n3    -0.001879 -0.132019 -0.046799 -0.004026 -0.038562 -0.024723 -0.074742   \n4    -0.039394  0.018294  0.004541  0.039569 -0.033773  0.007929  0.034427   \n...        ...       ...       ...       ...       ...       ...       ...   \n1612  0.070033  0.027971 -0.013184  0.024363  0.028984 -0.107008  0.013743   \n1613 -0.044070  0.011718  0.052528 -0.013307  0.063377 -0.077481 -0.027340   \n1614 -0.053433  0.015815  0.029048  0.028465  0.043841 -0.064877 -0.034143   \n1615  0.086630  0.048784 -0.049305 -0.021616 -0.004585 -0.045977  0.038047   \n1616  0.069413 -0.020076 -0.059468  0.030689  0.040234 -0.068265 -0.016019   \n\n         V_383  \n0    -0.035152  \n1     0.054762  \n2    -0.019224  \n3    -0.052700  \n4     0.022803  \n...        ...  \n1612  0.022045  \n1613  0.058107  \n1614 -0.010508  \n1615  0.015678  \n1616  0.016092  \n\n[275 rows x 388 columns]",
      "text/html": "<div>\n<style scoped>\n    .dataframe tbody tr th:only-of-type {\n        vertical-align: middle;\n    }\n\n    .dataframe tbody tr th {\n        vertical-align: top;\n    }\n\n    .dataframe thead th {\n        text-align: right;\n    }\n</style>\n<table border=\"1\" class=\"dataframe\">\n  <thead>\n    <tr style=\"text-align: right;\">\n      <th></th>\n      <th>titre</th>\n      <th>date</th>\n      <th>rating</th>\n      <th>review</th>\n      <th>V_000</th>\n      <th>V_001</th>\n      <th>V_002</th>\n      <th>V_003</th>\n      <th>V_004</th>\n      <th>V_005</th>\n      <th>...</th>\n      <th>V_374</th>\n      <th>V_375</th>\n      <th>V_376</th>\n      <th>V_377</th>\n      <th>V_378</th>\n      <th>V_379</th>\n      <th>V_380</th>\n      <th>V_381</th>\n      <th>V_382</th>\n      <th>V_383</th>\n    </tr>\n  </thead>\n  <tbody>\n    <tr>\n      <th>0</th>\n      <td>10 Cloverfield Lane 2016</td>\n      <td>2017-02-19</td>\n      <td>3</td>\n      <td>I wish I could rate the first hour of this mov...</td>\n      <td>-0.028970</td>\n      <td>-0.001207</td>\n      <td>-0.002391</td>\n      <td>0.060831</td>\n      <td>0.074947</td>\n      <td>0.017567</td>\n      <td>...</td>\n      <td>0.118595</td>\n      <td>0.020172</td>\n      <td>-0.054436</td>\n      <td>0.017774</td>\n      <td>-0.041132</td>\n      <td>0.079366</td>\n      <td>-0.017481</td>\n      <td>0.001618</td>\n      <td>-0.063559</td>\n      <td>-0.035152</td>\n    </tr>\n    <tr>\n      <th>1</th>\n      <td>10 Cloverfield Lane 2016</td>\n      <td>2017-02-10</td>\n      <td>5</td>\n      <td>Movie Rating like this on IMDb makes it really...</td>\n      <td>-0.059906</td>\n      <td>-0.007888</td>\n      <td>-0.028277</td>\n      <td>0.062930</td>\n      <td>0.048968</td>\n      <td>-0.006634</td>\n      <td>...</td>\n      <td>0.155309</td>\n      <td>-0.067951</td>\n      <td>-0.039774</td>\n      <td>0.009251</td>\n      <td>-0.061647</td>\n      <td>0.077600</td>\n      <td>0.022015</td>\n      <td>-0.027876</td>\n      <td>0.033053</td>\n      <td>0.054762</td>\n    </tr>\n    <tr>\n      <th>2</th>\n      <td>10 Cloverfield Lane 2016</td>\n      <td>2016-12-14</td>\n      <td>1</td>\n      <td>I would love to spoil this so you won't waste ...</td>\n      <td>-0.112675</td>\n      <td>0.003736</td>\n      <td>0.003658</td>\n      <td>0.030246</td>\n      <td>0.031492</td>\n      <td>0.056028</td>\n      <td>...</td>\n      <td>0.078484</td>\n      <td>-0.034838</td>\n      <td>-0.026177</td>\n      <td>0.079169</td>\n      <td>-0.056632</td>\n      <td>0.022633</td>\n      <td>-0.022436</td>\n      <td>-0.030744</td>\n      <td>-0.034435</td>\n      <td>-0.019224</td>\n    </tr>\n    <tr>\n      <th>3</th>\n      <td>10 Cloverfield Lane 2016</td>\n      <td>2016-08-30</td>\n      <td>6</td>\n      <td>Great suspense, Goodman doing an excellent job...</td>\n      <td>-0.010714</td>\n      <td>0.002267</td>\n      <td>-0.064918</td>\n      <td>0.096290</td>\n      <td>0.062443</td>\n      <td>0.076409</td>\n      <td>...</td>\n      <td>0.091952</td>\n      <td>-0.017621</td>\n      <td>-0.001879</td>\n      <td>-0.132019</td>\n      <td>-0.046799</td>\n      <td>-0.004026</td>\n      <td>-0.038562</td>\n      <td>-0.024723</td>\n      <td>-0.074742</td>\n      <td>-0.052700</td>\n    </tr>\n    <tr>\n      <th>4</th>\n      <td>10 Cloverfield Lane 2016</td>\n      <td>2016-07-21</td>\n      <td>5</td>\n      <td>I've never seen the original \"Cloverfield\", bu...</td>\n      <td>-0.027969</td>\n      <td>-0.152922</td>\n      <td>-0.013353</td>\n      <td>0.007773</td>\n      <td>0.055064</td>\n      <td>0.032211</td>\n      <td>...</td>\n      <td>0.067877</td>\n      <td>0.047383</td>\n      <td>-0.039394</td>\n      <td>0.018294</td>\n      <td>0.004541</td>\n      <td>0.039569</td>\n      <td>-0.033773</td>\n      <td>0.007929</td>\n      <td>0.034427</td>\n      <td>0.022803</td>\n    </tr>\n    <tr>\n      <th>...</th>\n      <td>...</td>\n      <td>...</td>\n      <td>...</td>\n      <td>...</td>\n      <td>...</td>\n      <td>...</td>\n      <td>...</td>\n      <td>...</td>\n      <td>...</td>\n      <td>...</td>\n      <td>...</td>\n      <td>...</td>\n      <td>...</td>\n      <td>...</td>\n      <td>...</td>\n      <td>...</td>\n      <td>...</td>\n      <td>...</td>\n      <td>...</td>\n      <td>...</td>\n      <td>...</td>\n    </tr>\n    <tr>\n      <th>1612</th>\n      <td>12 Strong 2018</td>\n      <td>2018-04-13</td>\n      <td>10</td>\n      <td>It is unimaginable to go to Afghanistan, and e...</td>\n      <td>-0.074956</td>\n      <td>0.007687</td>\n      <td>0.007526</td>\n      <td>-0.032629</td>\n      <td>-0.035816</td>\n      <td>0.029308</td>\n      <td>...</td>\n      <td>0.023888</td>\n      <td>0.039797</td>\n      <td>0.070033</td>\n      <td>0.027971</td>\n      <td>-0.013184</td>\n      <td>0.024363</td>\n      <td>0.028984</td>\n      <td>-0.107008</td>\n      <td>0.013743</td>\n      <td>0.022045</td>\n    </tr>\n    <tr>\n      <th>1613</th>\n      <td>12 Strong 2018</td>\n      <td>2018-06-03</td>\n      <td>8</td>\n      <td>It very good war movie. It brings back the mem...</td>\n      <td>-0.072772</td>\n      <td>-0.067160</td>\n      <td>-0.062672</td>\n      <td>-0.057667</td>\n      <td>-0.027165</td>\n      <td>0.066148</td>\n      <td>...</td>\n      <td>0.060927</td>\n      <td>0.064094</td>\n      <td>-0.044070</td>\n      <td>0.011718</td>\n      <td>0.052528</td>\n      <td>-0.013307</td>\n      <td>0.063377</td>\n      <td>-0.077481</td>\n      <td>-0.027340</td>\n      <td>0.058107</td>\n    </tr>\n    <tr>\n      <th>1614</th>\n      <td>12 Strong 2018</td>\n      <td>2020-02-10</td>\n      <td>1</td>\n      <td>I see al lot of reviews like: \"american propag...</td>\n      <td>-0.057923</td>\n      <td>-0.006791</td>\n      <td>-0.057569</td>\n      <td>-0.037657</td>\n      <td>0.026253</td>\n      <td>0.066385</td>\n      <td>...</td>\n      <td>0.069454</td>\n      <td>0.033990</td>\n      <td>-0.053433</td>\n      <td>0.015815</td>\n      <td>0.029048</td>\n      <td>0.028465</td>\n      <td>0.043841</td>\n      <td>-0.064877</td>\n      <td>-0.034143</td>\n      <td>-0.010508</td>\n    </tr>\n    <tr>\n      <th>1615</th>\n      <td>12 Strong 2018</td>\n      <td>2018-12-14</td>\n      <td>4</td>\n      <td>After the tragic events of 9/11, the US determ...</td>\n      <td>-0.069424</td>\n      <td>-0.075507</td>\n      <td>-0.011454</td>\n      <td>-0.005499</td>\n      <td>0.023167</td>\n      <td>0.050003</td>\n      <td>...</td>\n      <td>0.008316</td>\n      <td>0.079670</td>\n      <td>0.086630</td>\n      <td>0.048784</td>\n      <td>-0.049305</td>\n      <td>-0.021616</td>\n      <td>-0.004585</td>\n      <td>-0.045977</td>\n      <td>0.038047</td>\n      <td>0.015678</td>\n    </tr>\n    <tr>\n      <th>1616</th>\n      <td>12 Strong 2018</td>\n      <td>2018-03-18</td>\n      <td>7</td>\n      <td>This military film exceeded my expectations. I...</td>\n      <td>0.015108</td>\n      <td>-0.000571</td>\n      <td>0.009139</td>\n      <td>-0.031863</td>\n      <td>-0.004330</td>\n      <td>0.087497</td>\n      <td>...</td>\n      <td>-0.012764</td>\n      <td>0.006254</td>\n      <td>0.069413</td>\n      <td>-0.020076</td>\n      <td>-0.059468</td>\n      <td>0.030689</td>\n      <td>0.040234</td>\n      <td>-0.068265</td>\n      <td>-0.016019</td>\n      <td>0.016092</td>\n    </tr>\n  </tbody>\n</table>\n<p>275 rows × 388 columns</p>\n</div>"
     },
     "execution_count": 48,
     "metadata": {},
     "output_type": "execute_result"
    }
   ],
   "source": [
    "df_filtre"
   ],
   "metadata": {
    "collapsed": false,
    "ExecuteTime": {
     "end_time": "2024-02-18T17:08:47.729468Z",
     "start_time": "2024-02-18T17:08:47.398212Z"
    }
   },
   "id": "4668da65c3e44c1c",
   "execution_count": 48
  },
  {
   "cell_type": "code",
   "outputs": [],
   "source": [
    "plongement = MODELE_LANGAGE(\"i love programming\")"
   ],
   "metadata": {
    "collapsed": false,
    "ExecuteTime": {
     "end_time": "2024-02-18T17:08:48.211374Z",
     "start_time": "2024-02-18T17:08:47.424319Z"
    }
   },
   "id": "93fd3e682d6e89bf",
   "execution_count": 49
  },
  {
   "cell_type": "code",
   "outputs": [
    {
     "data": {
      "text/plain": "      V_000     V_001     V_002     V_003     V_004     V_005     V_006  \\\n0 -0.036179 -0.012774  0.003006 -0.016903  0.009484 -0.065152  0.093766   \n\n      V_007     V_008     V_009  ...     V_374     V_375     V_376     V_377  \\\n0  0.071424  0.018526  0.053583  ...  0.103388  0.028651 -0.104112 -0.038166   \n\n      V_378     V_379    V_380     V_381     V_382     V_383  \n0  0.012494  0.069112  0.04437  0.070562  0.028095 -0.024323  \n\n[1 rows x 384 columns]",
      "text/html": "<div>\n<style scoped>\n    .dataframe tbody tr th:only-of-type {\n        vertical-align: middle;\n    }\n\n    .dataframe tbody tr th {\n        vertical-align: top;\n    }\n\n    .dataframe thead th {\n        text-align: right;\n    }\n</style>\n<table border=\"1\" class=\"dataframe\">\n  <thead>\n    <tr style=\"text-align: right;\">\n      <th></th>\n      <th>V_000</th>\n      <th>V_001</th>\n      <th>V_002</th>\n      <th>V_003</th>\n      <th>V_004</th>\n      <th>V_005</th>\n      <th>V_006</th>\n      <th>V_007</th>\n      <th>V_008</th>\n      <th>V_009</th>\n      <th>...</th>\n      <th>V_374</th>\n      <th>V_375</th>\n      <th>V_376</th>\n      <th>V_377</th>\n      <th>V_378</th>\n      <th>V_379</th>\n      <th>V_380</th>\n      <th>V_381</th>\n      <th>V_382</th>\n      <th>V_383</th>\n    </tr>\n  </thead>\n  <tbody>\n    <tr>\n      <th>0</th>\n      <td>-0.036179</td>\n      <td>-0.012774</td>\n      <td>0.003006</td>\n      <td>-0.016903</td>\n      <td>0.009484</td>\n      <td>-0.065152</td>\n      <td>0.093766</td>\n      <td>0.071424</td>\n      <td>0.018526</td>\n      <td>0.053583</td>\n      <td>...</td>\n      <td>0.103388</td>\n      <td>0.028651</td>\n      <td>-0.104112</td>\n      <td>-0.038166</td>\n      <td>0.012494</td>\n      <td>0.069112</td>\n      <td>0.04437</td>\n      <td>0.070562</td>\n      <td>0.028095</td>\n      <td>-0.024323</td>\n    </tr>\n  </tbody>\n</table>\n<p>1 rows × 384 columns</p>\n</div>"
     },
     "execution_count": 50,
     "metadata": {},
     "output_type": "execute_result"
    }
   ],
   "source": [
    "plongement"
   ],
   "metadata": {
    "collapsed": false,
    "ExecuteTime": {
     "end_time": "2024-02-18T17:08:48.230637Z",
     "start_time": "2024-02-18T17:08:48.218745Z"
    }
   },
   "id": "735bc8b699872e32",
   "execution_count": 50
  },
  {
   "cell_type": "code",
   "outputs": [],
   "source": [
    "df_plongement = pd.read_json(StringIO(plongement.to_json(orient='split')), orient='split')"
   ],
   "metadata": {
    "collapsed": false,
    "ExecuteTime": {
     "end_time": "2024-02-18T17:08:48.343184Z",
     "start_time": "2024-02-18T17:08:48.260438Z"
    }
   },
   "id": "4933d8a8b4690e74",
   "execution_count": 51
  },
  {
   "cell_type": "code",
   "outputs": [
    {
     "data": {
      "text/plain": "      V_000     V_001     V_002     V_003     V_004     V_005     V_006  \\\n0 -0.036179 -0.012774  0.003006 -0.016903  0.009484 -0.065152  0.093766   \n\n      V_007     V_008     V_009  ...     V_374     V_375     V_376     V_377  \\\n0  0.071424  0.018526  0.053583  ...  0.103388  0.028651 -0.104112 -0.038166   \n\n      V_378     V_379    V_380     V_381     V_382     V_383  \n0  0.012494  0.069112  0.04437  0.070562  0.028095 -0.024323  \n\n[1 rows x 384 columns]",
      "text/html": "<div>\n<style scoped>\n    .dataframe tbody tr th:only-of-type {\n        vertical-align: middle;\n    }\n\n    .dataframe tbody tr th {\n        vertical-align: top;\n    }\n\n    .dataframe thead th {\n        text-align: right;\n    }\n</style>\n<table border=\"1\" class=\"dataframe\">\n  <thead>\n    <tr style=\"text-align: right;\">\n      <th></th>\n      <th>V_000</th>\n      <th>V_001</th>\n      <th>V_002</th>\n      <th>V_003</th>\n      <th>V_004</th>\n      <th>V_005</th>\n      <th>V_006</th>\n      <th>V_007</th>\n      <th>V_008</th>\n      <th>V_009</th>\n      <th>...</th>\n      <th>V_374</th>\n      <th>V_375</th>\n      <th>V_376</th>\n      <th>V_377</th>\n      <th>V_378</th>\n      <th>V_379</th>\n      <th>V_380</th>\n      <th>V_381</th>\n      <th>V_382</th>\n      <th>V_383</th>\n    </tr>\n  </thead>\n  <tbody>\n    <tr>\n      <th>0</th>\n      <td>-0.036179</td>\n      <td>-0.012774</td>\n      <td>0.003006</td>\n      <td>-0.016903</td>\n      <td>0.009484</td>\n      <td>-0.065152</td>\n      <td>0.093766</td>\n      <td>0.071424</td>\n      <td>0.018526</td>\n      <td>0.053583</td>\n      <td>...</td>\n      <td>0.103388</td>\n      <td>0.028651</td>\n      <td>-0.104112</td>\n      <td>-0.038166</td>\n      <td>0.012494</td>\n      <td>0.069112</td>\n      <td>0.04437</td>\n      <td>0.070562</td>\n      <td>0.028095</td>\n      <td>-0.024323</td>\n    </tr>\n  </tbody>\n</table>\n<p>1 rows × 384 columns</p>\n</div>"
     },
     "execution_count": 52,
     "metadata": {},
     "output_type": "execute_result"
    }
   ],
   "source": [
    "df_plongement"
   ],
   "metadata": {
    "collapsed": false,
    "ExecuteTime": {
     "end_time": "2024-02-18T17:08:48.345092Z",
     "start_time": "2024-02-18T17:08:48.310007Z"
    }
   },
   "id": "144084fe2e1939ec",
   "execution_count": 52
  },
  {
   "cell_type": "code",
   "outputs": [],
   "source": [
    "df_une_ligne = pd.DataFrame({'titre': [LABEL_COMMENTAIRE_UTILISATEUR], 'rating': [-1], 'review': [\"i love programming\"]})"
   ],
   "metadata": {
    "collapsed": false,
    "ExecuteTime": {
     "end_time": "2024-02-18T17:08:48.346964Z",
     "start_time": "2024-02-18T17:08:48.323276Z"
    }
   },
   "id": "fde48f826a7ddd33",
   "execution_count": 53
  },
  {
   "cell_type": "code",
   "outputs": [
    {
     "data": {
      "text/plain": "          titre  rating              review\n0  |---USER---|      -1  i love programming",
      "text/html": "<div>\n<style scoped>\n    .dataframe tbody tr th:only-of-type {\n        vertical-align: middle;\n    }\n\n    .dataframe tbody tr th {\n        vertical-align: top;\n    }\n\n    .dataframe thead th {\n        text-align: right;\n    }\n</style>\n<table border=\"1\" class=\"dataframe\">\n  <thead>\n    <tr style=\"text-align: right;\">\n      <th></th>\n      <th>titre</th>\n      <th>rating</th>\n      <th>review</th>\n    </tr>\n  </thead>\n  <tbody>\n    <tr>\n      <th>0</th>\n      <td>|---USER---|</td>\n      <td>-1</td>\n      <td>i love programming</td>\n    </tr>\n  </tbody>\n</table>\n</div>"
     },
     "execution_count": 54,
     "metadata": {},
     "output_type": "execute_result"
    }
   ],
   "source": [
    "df_une_ligne"
   ],
   "metadata": {
    "collapsed": false,
    "ExecuteTime": {
     "end_time": "2024-02-18T17:08:48.362612Z",
     "start_time": "2024-02-18T17:08:48.326448Z"
    }
   },
   "id": "40fbad6009c3ec5c",
   "execution_count": 54
  },
  {
   "cell_type": "code",
   "outputs": [],
   "source": [
    "df_une_ligne = pd.concat([df_une_ligne, df_plongement], axis=1)"
   ],
   "metadata": {
    "collapsed": false,
    "ExecuteTime": {
     "end_time": "2024-02-18T17:08:48.363288Z",
     "start_time": "2024-02-18T17:08:48.333652Z"
    }
   },
   "id": "fd546d0b4fde9907",
   "execution_count": 55
  },
  {
   "cell_type": "code",
   "outputs": [
    {
     "data": {
      "text/plain": "          titre  rating              review     V_000     V_001     V_002  \\\n0  |---USER---|      -1  i love programming -0.036179 -0.012774  0.003006   \n\n      V_003     V_004     V_005     V_006  ...     V_374     V_375     V_376  \\\n0 -0.016903  0.009484 -0.065152  0.093766  ...  0.103388  0.028651 -0.104112   \n\n      V_377     V_378     V_379    V_380     V_381     V_382     V_383  \n0 -0.038166  0.012494  0.069112  0.04437  0.070562  0.028095 -0.024323  \n\n[1 rows x 387 columns]",
      "text/html": "<div>\n<style scoped>\n    .dataframe tbody tr th:only-of-type {\n        vertical-align: middle;\n    }\n\n    .dataframe tbody tr th {\n        vertical-align: top;\n    }\n\n    .dataframe thead th {\n        text-align: right;\n    }\n</style>\n<table border=\"1\" class=\"dataframe\">\n  <thead>\n    <tr style=\"text-align: right;\">\n      <th></th>\n      <th>titre</th>\n      <th>rating</th>\n      <th>review</th>\n      <th>V_000</th>\n      <th>V_001</th>\n      <th>V_002</th>\n      <th>V_003</th>\n      <th>V_004</th>\n      <th>V_005</th>\n      <th>V_006</th>\n      <th>...</th>\n      <th>V_374</th>\n      <th>V_375</th>\n      <th>V_376</th>\n      <th>V_377</th>\n      <th>V_378</th>\n      <th>V_379</th>\n      <th>V_380</th>\n      <th>V_381</th>\n      <th>V_382</th>\n      <th>V_383</th>\n    </tr>\n  </thead>\n  <tbody>\n    <tr>\n      <th>0</th>\n      <td>|---USER---|</td>\n      <td>-1</td>\n      <td>i love programming</td>\n      <td>-0.036179</td>\n      <td>-0.012774</td>\n      <td>0.003006</td>\n      <td>-0.016903</td>\n      <td>0.009484</td>\n      <td>-0.065152</td>\n      <td>0.093766</td>\n      <td>...</td>\n      <td>0.103388</td>\n      <td>0.028651</td>\n      <td>-0.104112</td>\n      <td>-0.038166</td>\n      <td>0.012494</td>\n      <td>0.069112</td>\n      <td>0.04437</td>\n      <td>0.070562</td>\n      <td>0.028095</td>\n      <td>-0.024323</td>\n    </tr>\n  </tbody>\n</table>\n<p>1 rows × 387 columns</p>\n</div>"
     },
     "execution_count": 56,
     "metadata": {},
     "output_type": "execute_result"
    }
   ],
   "source": [
    "df_une_ligne"
   ],
   "metadata": {
    "collapsed": false,
    "ExecuteTime": {
     "end_time": "2024-02-18T17:08:48.470707Z",
     "start_time": "2024-02-18T17:08:48.369986Z"
    }
   },
   "id": "4a44284988fed55a",
   "execution_count": 56
  },
  {
   "cell_type": "code",
   "outputs": [],
   "source": [
    "df_filtre = pd.concat([df_filtre, df_une_ligne])"
   ],
   "metadata": {
    "collapsed": false,
    "ExecuteTime": {
     "end_time": "2024-02-18T17:08:48.484376Z",
     "start_time": "2024-02-18T17:08:48.375147Z"
    }
   },
   "id": "330496069e61d49b",
   "execution_count": 57
  },
  {
   "cell_type": "code",
   "outputs": [
    {
     "data": {
      "text/plain": "                         titre        date rating  \\\n0     10 Cloverfield Lane 2016  2017-02-19      3   \n1     10 Cloverfield Lane 2016  2017-02-10      5   \n2     10 Cloverfield Lane 2016  2016-12-14      1   \n3     10 Cloverfield Lane 2016  2016-08-30      6   \n4     10 Cloverfield Lane 2016  2016-07-21      5   \n...                        ...         ...    ...   \n1613            12 Strong 2018  2018-06-03      8   \n1614            12 Strong 2018  2020-02-10      1   \n1615            12 Strong 2018  2018-12-14      4   \n1616            12 Strong 2018  2018-03-18      7   \n0                 |---USER---|         NaN     -1   \n\n                                                 review     V_000     V_001  \\\n0     I wish I could rate the first hour of this mov... -0.028970 -0.001207   \n1     Movie Rating like this on IMDb makes it really... -0.059906 -0.007888   \n2     I would love to spoil this so you won't waste ... -0.112675  0.003736   \n3     Great suspense, Goodman doing an excellent job... -0.010714  0.002267   \n4     I've never seen the original \"Cloverfield\", bu... -0.027969 -0.152922   \n...                                                 ...       ...       ...   \n1613  It very good war movie. It brings back the mem... -0.072772 -0.067160   \n1614  I see al lot of reviews like: \"american propag... -0.057923 -0.006791   \n1615  After the tragic events of 9/11, the US determ... -0.069424 -0.075507   \n1616  This military film exceeded my expectations. I...  0.015108 -0.000571   \n0                                    i love programming -0.036179 -0.012774   \n\n         V_002     V_003     V_004     V_005  ...     V_374     V_375  \\\n0    -0.002391  0.060831  0.074947  0.017567  ...  0.118595  0.020172   \n1    -0.028277  0.062930  0.048968 -0.006634  ...  0.155309 -0.067951   \n2     0.003658  0.030246  0.031492  0.056028  ...  0.078484 -0.034838   \n3    -0.064918  0.096290  0.062443  0.076409  ...  0.091952 -0.017621   \n4    -0.013353  0.007773  0.055064  0.032211  ...  0.067877  0.047383   \n...        ...       ...       ...       ...  ...       ...       ...   \n1613 -0.062672 -0.057667 -0.027165  0.066148  ...  0.060927  0.064094   \n1614 -0.057569 -0.037657  0.026253  0.066385  ...  0.069454  0.033990   \n1615 -0.011454 -0.005499  0.023167  0.050003  ...  0.008316  0.079670   \n1616  0.009139 -0.031863 -0.004330  0.087497  ... -0.012764  0.006254   \n0     0.003006 -0.016903  0.009484 -0.065152  ...  0.103388  0.028651   \n\n         V_376     V_377     V_378     V_379     V_380     V_381     V_382  \\\n0    -0.054436  0.017774 -0.041132  0.079366 -0.017481  0.001618 -0.063559   \n1    -0.039774  0.009251 -0.061647  0.077600  0.022015 -0.027876  0.033053   \n2    -0.026177  0.079169 -0.056632  0.022633 -0.022436 -0.030744 -0.034435   \n3    -0.001879 -0.132019 -0.046799 -0.004026 -0.038562 -0.024723 -0.074742   \n4    -0.039394  0.018294  0.004541  0.039569 -0.033773  0.007929  0.034427   \n...        ...       ...       ...       ...       ...       ...       ...   \n1613 -0.044070  0.011718  0.052528 -0.013307  0.063377 -0.077481 -0.027340   \n1614 -0.053433  0.015815  0.029048  0.028465  0.043841 -0.064877 -0.034143   \n1615  0.086630  0.048784 -0.049305 -0.021616 -0.004585 -0.045977  0.038047   \n1616  0.069413 -0.020076 -0.059468  0.030689  0.040234 -0.068265 -0.016019   \n0    -0.104112 -0.038166  0.012494  0.069112  0.044370  0.070562  0.028095   \n\n         V_383  \n0    -0.035152  \n1     0.054762  \n2    -0.019224  \n3    -0.052700  \n4     0.022803  \n...        ...  \n1613  0.058107  \n1614 -0.010508  \n1615  0.015678  \n1616  0.016092  \n0    -0.024323  \n\n[276 rows x 388 columns]",
      "text/html": "<div>\n<style scoped>\n    .dataframe tbody tr th:only-of-type {\n        vertical-align: middle;\n    }\n\n    .dataframe tbody tr th {\n        vertical-align: top;\n    }\n\n    .dataframe thead th {\n        text-align: right;\n    }\n</style>\n<table border=\"1\" class=\"dataframe\">\n  <thead>\n    <tr style=\"text-align: right;\">\n      <th></th>\n      <th>titre</th>\n      <th>date</th>\n      <th>rating</th>\n      <th>review</th>\n      <th>V_000</th>\n      <th>V_001</th>\n      <th>V_002</th>\n      <th>V_003</th>\n      <th>V_004</th>\n      <th>V_005</th>\n      <th>...</th>\n      <th>V_374</th>\n      <th>V_375</th>\n      <th>V_376</th>\n      <th>V_377</th>\n      <th>V_378</th>\n      <th>V_379</th>\n      <th>V_380</th>\n      <th>V_381</th>\n      <th>V_382</th>\n      <th>V_383</th>\n    </tr>\n  </thead>\n  <tbody>\n    <tr>\n      <th>0</th>\n      <td>10 Cloverfield Lane 2016</td>\n      <td>2017-02-19</td>\n      <td>3</td>\n      <td>I wish I could rate the first hour of this mov...</td>\n      <td>-0.028970</td>\n      <td>-0.001207</td>\n      <td>-0.002391</td>\n      <td>0.060831</td>\n      <td>0.074947</td>\n      <td>0.017567</td>\n      <td>...</td>\n      <td>0.118595</td>\n      <td>0.020172</td>\n      <td>-0.054436</td>\n      <td>0.017774</td>\n      <td>-0.041132</td>\n      <td>0.079366</td>\n      <td>-0.017481</td>\n      <td>0.001618</td>\n      <td>-0.063559</td>\n      <td>-0.035152</td>\n    </tr>\n    <tr>\n      <th>1</th>\n      <td>10 Cloverfield Lane 2016</td>\n      <td>2017-02-10</td>\n      <td>5</td>\n      <td>Movie Rating like this on IMDb makes it really...</td>\n      <td>-0.059906</td>\n      <td>-0.007888</td>\n      <td>-0.028277</td>\n      <td>0.062930</td>\n      <td>0.048968</td>\n      <td>-0.006634</td>\n      <td>...</td>\n      <td>0.155309</td>\n      <td>-0.067951</td>\n      <td>-0.039774</td>\n      <td>0.009251</td>\n      <td>-0.061647</td>\n      <td>0.077600</td>\n      <td>0.022015</td>\n      <td>-0.027876</td>\n      <td>0.033053</td>\n      <td>0.054762</td>\n    </tr>\n    <tr>\n      <th>2</th>\n      <td>10 Cloverfield Lane 2016</td>\n      <td>2016-12-14</td>\n      <td>1</td>\n      <td>I would love to spoil this so you won't waste ...</td>\n      <td>-0.112675</td>\n      <td>0.003736</td>\n      <td>0.003658</td>\n      <td>0.030246</td>\n      <td>0.031492</td>\n      <td>0.056028</td>\n      <td>...</td>\n      <td>0.078484</td>\n      <td>-0.034838</td>\n      <td>-0.026177</td>\n      <td>0.079169</td>\n      <td>-0.056632</td>\n      <td>0.022633</td>\n      <td>-0.022436</td>\n      <td>-0.030744</td>\n      <td>-0.034435</td>\n      <td>-0.019224</td>\n    </tr>\n    <tr>\n      <th>3</th>\n      <td>10 Cloverfield Lane 2016</td>\n      <td>2016-08-30</td>\n      <td>6</td>\n      <td>Great suspense, Goodman doing an excellent job...</td>\n      <td>-0.010714</td>\n      <td>0.002267</td>\n      <td>-0.064918</td>\n      <td>0.096290</td>\n      <td>0.062443</td>\n      <td>0.076409</td>\n      <td>...</td>\n      <td>0.091952</td>\n      <td>-0.017621</td>\n      <td>-0.001879</td>\n      <td>-0.132019</td>\n      <td>-0.046799</td>\n      <td>-0.004026</td>\n      <td>-0.038562</td>\n      <td>-0.024723</td>\n      <td>-0.074742</td>\n      <td>-0.052700</td>\n    </tr>\n    <tr>\n      <th>4</th>\n      <td>10 Cloverfield Lane 2016</td>\n      <td>2016-07-21</td>\n      <td>5</td>\n      <td>I've never seen the original \"Cloverfield\", bu...</td>\n      <td>-0.027969</td>\n      <td>-0.152922</td>\n      <td>-0.013353</td>\n      <td>0.007773</td>\n      <td>0.055064</td>\n      <td>0.032211</td>\n      <td>...</td>\n      <td>0.067877</td>\n      <td>0.047383</td>\n      <td>-0.039394</td>\n      <td>0.018294</td>\n      <td>0.004541</td>\n      <td>0.039569</td>\n      <td>-0.033773</td>\n      <td>0.007929</td>\n      <td>0.034427</td>\n      <td>0.022803</td>\n    </tr>\n    <tr>\n      <th>...</th>\n      <td>...</td>\n      <td>...</td>\n      <td>...</td>\n      <td>...</td>\n      <td>...</td>\n      <td>...</td>\n      <td>...</td>\n      <td>...</td>\n      <td>...</td>\n      <td>...</td>\n      <td>...</td>\n      <td>...</td>\n      <td>...</td>\n      <td>...</td>\n      <td>...</td>\n      <td>...</td>\n      <td>...</td>\n      <td>...</td>\n      <td>...</td>\n      <td>...</td>\n      <td>...</td>\n    </tr>\n    <tr>\n      <th>1613</th>\n      <td>12 Strong 2018</td>\n      <td>2018-06-03</td>\n      <td>8</td>\n      <td>It very good war movie. It brings back the mem...</td>\n      <td>-0.072772</td>\n      <td>-0.067160</td>\n      <td>-0.062672</td>\n      <td>-0.057667</td>\n      <td>-0.027165</td>\n      <td>0.066148</td>\n      <td>...</td>\n      <td>0.060927</td>\n      <td>0.064094</td>\n      <td>-0.044070</td>\n      <td>0.011718</td>\n      <td>0.052528</td>\n      <td>-0.013307</td>\n      <td>0.063377</td>\n      <td>-0.077481</td>\n      <td>-0.027340</td>\n      <td>0.058107</td>\n    </tr>\n    <tr>\n      <th>1614</th>\n      <td>12 Strong 2018</td>\n      <td>2020-02-10</td>\n      <td>1</td>\n      <td>I see al lot of reviews like: \"american propag...</td>\n      <td>-0.057923</td>\n      <td>-0.006791</td>\n      <td>-0.057569</td>\n      <td>-0.037657</td>\n      <td>0.026253</td>\n      <td>0.066385</td>\n      <td>...</td>\n      <td>0.069454</td>\n      <td>0.033990</td>\n      <td>-0.053433</td>\n      <td>0.015815</td>\n      <td>0.029048</td>\n      <td>0.028465</td>\n      <td>0.043841</td>\n      <td>-0.064877</td>\n      <td>-0.034143</td>\n      <td>-0.010508</td>\n    </tr>\n    <tr>\n      <th>1615</th>\n      <td>12 Strong 2018</td>\n      <td>2018-12-14</td>\n      <td>4</td>\n      <td>After the tragic events of 9/11, the US determ...</td>\n      <td>-0.069424</td>\n      <td>-0.075507</td>\n      <td>-0.011454</td>\n      <td>-0.005499</td>\n      <td>0.023167</td>\n      <td>0.050003</td>\n      <td>...</td>\n      <td>0.008316</td>\n      <td>0.079670</td>\n      <td>0.086630</td>\n      <td>0.048784</td>\n      <td>-0.049305</td>\n      <td>-0.021616</td>\n      <td>-0.004585</td>\n      <td>-0.045977</td>\n      <td>0.038047</td>\n      <td>0.015678</td>\n    </tr>\n    <tr>\n      <th>1616</th>\n      <td>12 Strong 2018</td>\n      <td>2018-03-18</td>\n      <td>7</td>\n      <td>This military film exceeded my expectations. I...</td>\n      <td>0.015108</td>\n      <td>-0.000571</td>\n      <td>0.009139</td>\n      <td>-0.031863</td>\n      <td>-0.004330</td>\n      <td>0.087497</td>\n      <td>...</td>\n      <td>-0.012764</td>\n      <td>0.006254</td>\n      <td>0.069413</td>\n      <td>-0.020076</td>\n      <td>-0.059468</td>\n      <td>0.030689</td>\n      <td>0.040234</td>\n      <td>-0.068265</td>\n      <td>-0.016019</td>\n      <td>0.016092</td>\n    </tr>\n    <tr>\n      <th>0</th>\n      <td>|---USER---|</td>\n      <td>NaN</td>\n      <td>-1</td>\n      <td>i love programming</td>\n      <td>-0.036179</td>\n      <td>-0.012774</td>\n      <td>0.003006</td>\n      <td>-0.016903</td>\n      <td>0.009484</td>\n      <td>-0.065152</td>\n      <td>...</td>\n      <td>0.103388</td>\n      <td>0.028651</td>\n      <td>-0.104112</td>\n      <td>-0.038166</td>\n      <td>0.012494</td>\n      <td>0.069112</td>\n      <td>0.044370</td>\n      <td>0.070562</td>\n      <td>0.028095</td>\n      <td>-0.024323</td>\n    </tr>\n  </tbody>\n</table>\n<p>276 rows × 388 columns</p>\n</div>"
     },
     "execution_count": 58,
     "metadata": {},
     "output_type": "execute_result"
    }
   ],
   "source": [
    "df_filtre"
   ],
   "metadata": {
    "collapsed": false,
    "ExecuteTime": {
     "end_time": "2024-02-18T17:08:48.557566Z",
     "start_time": "2024-02-18T17:08:48.412536Z"
    }
   },
   "id": "b70a09c93499a5db",
   "execution_count": 58
  },
  {
   "cell_type": "code",
   "outputs": [],
   "source": [
    "perplexite = min(PERPLEXITE_TSNE_INITIAL, df_filtre.shape[0] - 1)"
   ],
   "metadata": {
    "collapsed": false,
    "ExecuteTime": {
     "end_time": "2024-02-18T17:08:48.562682Z",
     "start_time": "2024-02-18T17:08:48.413080Z"
    }
   },
   "id": "b51a7eb9fd9bc292",
   "execution_count": 59
  },
  {
   "cell_type": "code",
   "outputs": [
    {
     "data": {
      "text/plain": "5"
     },
     "execution_count": 60,
     "metadata": {},
     "output_type": "execute_result"
    }
   ],
   "source": [
    "perplexite"
   ],
   "metadata": {
    "collapsed": false,
    "ExecuteTime": {
     "end_time": "2024-02-18T17:08:48.565067Z",
     "start_time": "2024-02-18T17:08:48.413295Z"
    }
   },
   "id": "3451f0b46cf45443",
   "execution_count": 60
  },
  {
   "cell_type": "code",
   "outputs": [],
   "source": [
    "tsne = TSNE(n_components=2, perplexity=perplexite, metric=DISTANCE_TSNE_INITIAL, learning_rate='auto', init='random')"
   ],
   "metadata": {
    "collapsed": false,
    "ExecuteTime": {
     "end_time": "2024-02-18T17:08:48.566062Z",
     "start_time": "2024-02-18T17:08:48.415914Z"
    }
   },
   "id": "ab5e257fdefe403e",
   "execution_count": 61
  },
  {
   "cell_type": "code",
   "outputs": [
    {
     "data": {
      "text/plain": "TSNE(init='random', metric='cosine', perplexity=5)",
      "text/html": "<style>#sk-container-id-3 {color: black;background-color: white;}#sk-container-id-3 pre{padding: 0;}#sk-container-id-3 div.sk-toggleable {background-color: white;}#sk-container-id-3 label.sk-toggleable__label {cursor: pointer;display: block;width: 100%;margin-bottom: 0;padding: 0.3em;box-sizing: border-box;text-align: center;}#sk-container-id-3 label.sk-toggleable__label-arrow:before {content: \"▸\";float: left;margin-right: 0.25em;color: #696969;}#sk-container-id-3 label.sk-toggleable__label-arrow:hover:before {color: black;}#sk-container-id-3 div.sk-estimator:hover label.sk-toggleable__label-arrow:before {color: black;}#sk-container-id-3 div.sk-toggleable__content {max-height: 0;max-width: 0;overflow: hidden;text-align: left;background-color: #f0f8ff;}#sk-container-id-3 div.sk-toggleable__content pre {margin: 0.2em;color: black;border-radius: 0.25em;background-color: #f0f8ff;}#sk-container-id-3 input.sk-toggleable__control:checked~div.sk-toggleable__content {max-height: 200px;max-width: 100%;overflow: auto;}#sk-container-id-3 input.sk-toggleable__control:checked~label.sk-toggleable__label-arrow:before {content: \"▾\";}#sk-container-id-3 div.sk-estimator input.sk-toggleable__control:checked~label.sk-toggleable__label {background-color: #d4ebff;}#sk-container-id-3 div.sk-label input.sk-toggleable__control:checked~label.sk-toggleable__label {background-color: #d4ebff;}#sk-container-id-3 input.sk-hidden--visually {border: 0;clip: rect(1px 1px 1px 1px);clip: rect(1px, 1px, 1px, 1px);height: 1px;margin: -1px;overflow: hidden;padding: 0;position: absolute;width: 1px;}#sk-container-id-3 div.sk-estimator {font-family: monospace;background-color: #f0f8ff;border: 1px dotted black;border-radius: 0.25em;box-sizing: border-box;margin-bottom: 0.5em;}#sk-container-id-3 div.sk-estimator:hover {background-color: #d4ebff;}#sk-container-id-3 div.sk-parallel-item::after {content: \"\";width: 100%;border-bottom: 1px solid gray;flex-grow: 1;}#sk-container-id-3 div.sk-label:hover label.sk-toggleable__label {background-color: #d4ebff;}#sk-container-id-3 div.sk-serial::before {content: \"\";position: absolute;border-left: 1px solid gray;box-sizing: border-box;top: 0;bottom: 0;left: 50%;z-index: 0;}#sk-container-id-3 div.sk-serial {display: flex;flex-direction: column;align-items: center;background-color: white;padding-right: 0.2em;padding-left: 0.2em;position: relative;}#sk-container-id-3 div.sk-item {position: relative;z-index: 1;}#sk-container-id-3 div.sk-parallel {display: flex;align-items: stretch;justify-content: center;background-color: white;position: relative;}#sk-container-id-3 div.sk-item::before, #sk-container-id-3 div.sk-parallel-item::before {content: \"\";position: absolute;border-left: 1px solid gray;box-sizing: border-box;top: 0;bottom: 0;left: 50%;z-index: -1;}#sk-container-id-3 div.sk-parallel-item {display: flex;flex-direction: column;z-index: 1;position: relative;background-color: white;}#sk-container-id-3 div.sk-parallel-item:first-child::after {align-self: flex-end;width: 50%;}#sk-container-id-3 div.sk-parallel-item:last-child::after {align-self: flex-start;width: 50%;}#sk-container-id-3 div.sk-parallel-item:only-child::after {width: 0;}#sk-container-id-3 div.sk-dashed-wrapped {border: 1px dashed gray;margin: 0 0.4em 0.5em 0.4em;box-sizing: border-box;padding-bottom: 0.4em;background-color: white;}#sk-container-id-3 div.sk-label label {font-family: monospace;font-weight: bold;display: inline-block;line-height: 1.2em;}#sk-container-id-3 div.sk-label-container {text-align: center;}#sk-container-id-3 div.sk-container {/* jupyter's `normalize.less` sets `[hidden] { display: none; }` but bootstrap.min.css set `[hidden] { display: none !important; }` so we also need the `!important` here to be able to override the default hidden behavior on the sphinx rendered scikit-learn.org. See: https://github.com/scikit-learn/scikit-learn/issues/21755 */display: inline-block !important;position: relative;}#sk-container-id-3 div.sk-text-repr-fallback {display: none;}</style><div id=\"sk-container-id-3\" class=\"sk-top-container\"><div class=\"sk-text-repr-fallback\"><pre>TSNE(init=&#x27;random&#x27;, metric=&#x27;cosine&#x27;, perplexity=5)</pre><b>In a Jupyter environment, please rerun this cell to show the HTML representation or trust the notebook. <br />On GitHub, the HTML representation is unable to render, please try loading this page with nbviewer.org.</b></div><div class=\"sk-container\" hidden><div class=\"sk-item\"><div class=\"sk-estimator sk-toggleable\"><input class=\"sk-toggleable__control sk-hidden--visually\" id=\"sk-estimator-id-3\" type=\"checkbox\" checked><label for=\"sk-estimator-id-3\" class=\"sk-toggleable__label sk-toggleable__label-arrow\">TSNE</label><div class=\"sk-toggleable__content\"><pre>TSNE(init=&#x27;random&#x27;, metric=&#x27;cosine&#x27;, perplexity=5)</pre></div></div></div></div></div>"
     },
     "execution_count": 62,
     "metadata": {},
     "output_type": "execute_result"
    }
   ],
   "source": [
    "tsne"
   ],
   "metadata": {
    "collapsed": false,
    "ExecuteTime": {
     "end_time": "2024-02-18T17:08:48.623860Z",
     "start_time": "2024-02-18T17:08:48.430087Z"
    }
   },
   "id": "ed77f1792c1c28c6",
   "execution_count": 62
  },
  {
   "cell_type": "code",
   "outputs": [],
   "source": [
    "coord = tsne.fit_transform(df_filtre.loc[:, 'V_000':])\n",
    "coord_titre = pd.DataFrame(coord, columns=['x', 'y'], index=df_filtre.index)"
   ],
   "metadata": {
    "collapsed": false,
    "ExecuteTime": {
     "end_time": "2024-02-18T17:08:49.496503Z",
     "start_time": "2024-02-18T17:08:48.439649Z"
    }
   },
   "id": "3cef9343d63fa7b9",
   "execution_count": 63
  },
  {
   "cell_type": "code",
   "outputs": [
    {
     "data": {
      "text/plain": "array([[ 2.47294674e+01,  4.49471664e+00],\n       [ 2.59042816e+01,  5.97788239e+00],\n       [ 1.56277533e+01, -2.56151938e+00],\n       [ 2.46699905e+01, -5.93849277e+00],\n       [ 3.61519661e+01,  1.31051433e+00],\n       [ 2.90019608e+01, -8.32954526e-01],\n       [ 3.11450119e+01, -7.96568632e+00],\n       [ 1.51950960e+01, -1.45820343e+00],\n       [ 4.88344803e+01,  6.84457111e+00],\n       [ 5.29901390e+01,  5.32362747e+00],\n       [ 3.83290062e+01, -2.25264192e+00],\n       [ 4.99599457e+01, -5.65694451e-01],\n       [ 2.46987152e+01, -3.84256315e+00],\n       [ 3.72732239e+01, -1.53431165e+00],\n       [ 1.28723307e+01,  5.13984077e-03],\n       [ 5.16599388e+01,  5.27367592e+00],\n       [ 1.12659073e+01, -1.81112995e+01],\n       [ 4.38902893e+01,  2.70315504e+00],\n       [ 2.73811569e+01,  3.71995926e+00],\n       [ 4.27651253e+01, -9.62922037e-01],\n       [ 2.97927837e+01, -8.13483906e+00],\n       [ 2.31930790e+01, -7.09286261e+00],\n       [ 3.23468399e+01,  3.51112056e+00],\n       [ 1.74400406e+01, -7.06885338e-01],\n       [ 2.51092644e+01, -6.42001295e+00],\n       [ 1.46228504e+01, -4.01639414e+00],\n       [ 2.51394081e+01,  5.11367130e+00],\n       [ 4.99996872e+01, -1.98347926e+00],\n       [ 1.24017973e+01, -5.38559139e-01],\n       [ 1.81721783e+01, -3.84597468e+00],\n       [ 3.91422234e+01,  1.66977787e+00],\n       [ 4.57267723e+01,  1.57472563e+00],\n       [ 3.55890312e+01,  1.88380146e+00],\n       [ 3.26147842e+01,  6.65247977e-01],\n       [ 4.65161362e+01,  2.64019823e+00],\n       [ 3.21126823e+01,  1.85679543e+00],\n       [ 4.16548538e+01,  6.16241693e-01],\n       [ 4.44726219e+01,  1.95959902e+00],\n       [ 5.12865562e+01,  6.90174520e-01],\n       [ 1.37035275e+01,  7.48716831e-01],\n       [ 4.67868233e+01,  4.36694288e+00],\n       [ 3.41841240e+01, -9.79349017e-01],\n       [ 3.94011230e+01, -3.35087729e+00],\n       [ 4.89401703e+01,  1.06372392e+00],\n       [ 3.04279861e+01,  2.23880744e+00],\n       [ 2.91080685e+01, -8.22668362e+00],\n       [ 4.88487549e+01,  2.72070718e+00],\n       [ 2.37600231e+01,  6.44670200e+00],\n       [ 4.85154762e+01,  4.58469057e+00],\n       [ 3.25098114e+01, -1.76347625e+00],\n       [ 1.89166832e+01, -4.96620798e+00],\n       [ 4.31797791e+01, -1.55969501e+00],\n       [ 4.54103432e+01, -3.41310501e-01],\n       [ 2.21652088e+01,  3.69231343e+00],\n       [ 3.61982803e+01,  3.20769143e+00],\n       [-4.61798668e+01, -1.72436218e+01],\n       [-2.81691399e+01, -2.65860577e+01],\n       [-4.79249306e+01, -1.86724644e+01],\n       [-2.75304985e+01, -1.42347174e+01],\n       [-3.33674164e+01, -1.48309269e+01],\n       [-3.92652435e+01, -2.50055084e+01],\n       [-3.44615517e+01, -2.26777840e+01],\n       [-5.04781952e+01, -1.80709534e+01],\n       [-3.76682854e+01, -1.74577274e+01],\n       [-2.61197109e+01, -1.40603094e+01],\n       [-3.88183937e+01, -1.08355885e+01],\n       [-3.45482941e+01, -2.75236797e+01],\n       [-3.77034531e+01, -1.68578415e+01],\n       [-4.98367691e+01, -2.26275330e+01],\n       [-2.93228149e+01, -2.81288834e+01],\n       [-2.95785751e+01, -2.89352245e+01],\n       [-2.88757153e+01, -1.40449781e+01],\n       [-5.10554237e+01, -2.30626507e+01],\n       [-4.36722794e+01, -3.13685894e+01],\n       [-3.23293457e+01, -2.35657272e+01],\n       [-3.87437668e+01, -1.51686363e+01],\n       [-3.24873161e+01, -1.39138288e+01],\n       [-2.95531998e+01, -3.01219368e+01],\n       [-4.17639694e+01, -1.16346292e+01],\n       [-2.75860691e+01, -2.24249554e+01],\n       [-2.84814854e+01, -2.17958183e+01],\n       [-5.02781754e+01, -2.08078842e+01],\n       [-4.25210190e+01, -1.05659685e+01],\n       [-5.12176590e+01, -1.54499836e+01],\n       [-4.42055855e+01, -3.12516441e+01],\n       [-3.60465355e+01, -2.32698841e+01],\n       [-3.42784271e+01, -2.07761841e+01],\n       [-4.53977051e+01, -1.53048706e+01],\n       [-2.68583221e+01, -1.78527088e+01],\n       [-3.97032661e+01, -9.34716892e+00],\n       [-3.87145882e+01, -2.57803917e+01],\n       [-4.80503273e+01, -1.55222216e+01],\n       [-3.36608963e+01, -2.32480354e+01],\n       [-3.69065437e+01, -2.27182121e+01],\n       [-2.70016003e+01, -1.18622255e+01],\n       [-3.69373016e+01, -1.08503189e+01],\n       [-3.92767067e+01, -2.72359734e+01],\n       [-5.22655754e+01, -2.03051853e+01],\n       [-4.85602531e+01, -2.45598412e+01],\n       [-3.79932213e+01, -1.10089626e+01],\n       [-3.53840332e+01, -2.64882259e+01],\n       [-4.41994934e+01, -2.19720917e+01],\n       [-4.85177879e+01, -1.76699009e+01],\n       [-2.70947571e+01, -1.36480188e+01],\n       [-2.75220146e+01, -2.55068989e+01],\n       [-5.00784760e+01, -1.64920101e+01],\n       [-4.48828506e+01, -2.21624622e+01],\n       [-2.68819904e+01, -1.89493313e+01],\n       [-4.62776031e+01, -1.98123856e+01],\n       [-4.92380486e+01, -2.14770832e+01],\n       [-1.97381210e+01,  2.41964474e+01],\n       [-3.44406586e+01,  2.55681896e+01],\n       [-1.41155901e+01,  2.16958675e+01],\n       [-4.04424591e+01,  2.06746063e+01],\n       [-3.28775902e+01,  2.51405621e+01],\n       [-2.54005241e+01,  2.70993958e+01],\n       [-3.70248642e+01,  1.78151951e+01],\n       [-3.52813263e+01,  2.44880466e+01],\n       [-3.67740898e+01,  2.40577374e+01],\n       [-2.16133003e+01,  2.63265781e+01],\n       [ 9.87914371e+00, -2.59897441e-01],\n       [-1.85197983e+01,  2.75901318e+01],\n       [-3.59714661e+01,  1.93631554e+01],\n       [-3.79505920e+01,  1.64757500e+01],\n       [-1.95771675e+01,  2.59271355e+01],\n       [ 8.69234943e+00,  2.02808216e-01],\n       [-1.83765392e+01,  2.62187920e+01],\n       [-3.48965073e+01,  1.85870361e+01],\n       [-2.62249050e+01,  2.82062721e+01],\n       [-1.58594351e+01,  1.05501366e+01],\n       [-3.33984566e+01,  2.05919094e+01],\n       [ 1.68570113e+00,  1.84431286e+01],\n       [-1.22524347e+01,  2.17092705e+01],\n       [-3.06251106e+01,  2.10388870e+01],\n       [-1.74694805e+01,  2.66525917e+01],\n       [-9.57379436e+00,  9.29299641e+00],\n       [-2.91432781e+01,  2.14541073e+01],\n       [-3.19385929e+01,  2.01705856e+01],\n       [-4.02284470e+01,  2.26697464e+01],\n       [-2.29248352e+01,  1.21313505e+01],\n       [-1.90398102e+01,  1.58187571e+01],\n       [-3.22122765e+01,  2.15142002e+01],\n       [-3.14051895e+01,  1.80123177e+01],\n       [-3.41889954e+01,  1.73853149e+01],\n       [-1.82172756e+01,  1.38279867e+01],\n       [-2.25867767e+01,  1.04668293e+01],\n       [-2.43194733e+01,  1.24106493e+01],\n       [-1.60512371e+01,  1.98363571e+01],\n       [-2.02218113e+01,  1.29859409e+01],\n       [-1.85268173e+01,  2.86846962e+01],\n       [-2.05950699e+01,  2.36550465e+01],\n       [ 1.99205422e+00,  1.87092133e+01],\n       [-2.13542576e+01,  1.39000454e+01],\n       [-2.85095921e+01,  1.47192640e+01],\n       [-1.25977116e+01,  1.76191921e+01],\n       [-3.53266296e+01,  2.10750656e+01],\n       [-2.26406765e+01,  1.52116127e+01],\n       [-3.45626831e+01,  1.63242931e+01],\n       [-2.29162102e+01,  1.59391174e+01],\n       [-1.45783558e+01,  2.06661911e+01],\n       [-3.92902641e+01,  2.13800945e+01],\n       [-1.95782986e+01,  1.14577570e+01],\n       [-1.68519726e+01,  2.41639347e+01],\n       [-1.54885149e+01,  2.50569515e+01],\n       [ 6.35653114e+00,  2.27526665e+01],\n       [ 1.79017487e+01,  4.71982498e+01],\n       [ 3.20337868e+01,  5.12359390e+01],\n       [ 2.19681377e+01,  4.06616173e+01],\n       [ 2.17819481e+01,  3.65224953e+01],\n       [ 9.60999203e+00,  2.62597065e+01],\n       [ 2.64089260e+01,  4.67308388e+01],\n       [ 2.54780045e+01,  4.84502029e+01],\n       [ 2.29594994e+01,  3.60144119e+01],\n       [ 8.60740757e+00,  2.90039997e+01],\n       [ 1.54799089e+01,  4.54139671e+01],\n       [ 1.62067947e+01,  4.03925934e+01],\n       [ 6.74775553e+00,  3.04123859e+01],\n       [ 1.52187405e+01,  3.89536667e+01],\n       [ 6.85644484e+00,  2.58669262e+01],\n       [ 2.10182209e+01,  4.57050972e+01],\n       [ 8.55744839e+00,  3.71138191e+01],\n       [ 2.48550472e+01,  4.61981239e+01],\n       [ 1.07742844e+01,  3.31854286e+01],\n       [ 2.77992630e+01,  5.21716957e+01],\n       [ 2.42088528e+01,  4.22787247e+01],\n       [ 1.22360935e+01,  3.10657558e+01],\n       [ 7.78232765e+00,  2.93310032e+01],\n       [ 3.26390495e+01,  5.28416214e+01],\n       [ 9.60372829e+00,  2.42047710e+01],\n       [ 2.04924126e+01,  4.64311562e+01],\n       [ 1.02177496e+01,  3.89560318e+01],\n       [ 5.97762871e+00,  3.20949059e+01],\n       [ 2.08876495e+01,  4.11553612e+01],\n       [ 1.06903524e+01,  3.44393997e+01],\n       [ 2.72309761e+01,  4.77722931e+01],\n       [ 3.08509846e+01,  4.98543053e+01],\n       [ 2.47852688e+01,  5.10476837e+01],\n       [ 2.75989170e+01,  5.02408600e+01],\n       [ 2.35919094e+01,  4.67880516e+01],\n       [ 9.77094460e+00,  3.81350250e+01],\n       [ 1.00359135e+01,  3.07872028e+01],\n       [ 3.05738544e+01,  4.09796906e+01],\n       [ 1.98332787e+01,  4.37693558e+01],\n       [ 7.96568584e+00,  2.50888309e+01],\n       [ 9.33308506e+00,  3.06314030e+01],\n       [ 2.28003502e+01,  4.08025322e+01],\n       [ 2.61031094e+01,  4.51868401e+01],\n       [ 3.02453651e+01,  4.61200981e+01],\n       [ 1.36823130e+01,  3.00783195e+01],\n       [ 1.48558598e+01,  2.98352680e+01],\n       [ 1.60070381e+01,  4.87231636e+01],\n       [ 1.69314175e+01,  4.71808701e+01],\n       [ 3.29472046e+01,  5.18616714e+01],\n       [ 5.71103096e+00,  2.90027370e+01],\n       [ 2.93158531e+01,  4.21681862e+01],\n       [ 2.24335251e+01,  3.75094681e+01],\n       [ 2.93206615e+01,  4.84838905e+01],\n       [ 2.75832806e+01,  4.56215477e+01],\n       [ 1.31224813e+01,  2.30986729e+01],\n       [ 1.37135592e+01,  2.24728889e+01],\n       [ 6.41751719e+00, -2.64390106e+01],\n       [ 1.05142908e+01, -2.60257931e+01],\n       [ 2.24653645e+01, -4.08944702e+01],\n       [ 2.96040106e+00, -2.80266838e+01],\n       [-7.50459790e-01, -3.70521317e+01],\n       [-1.33207214e+00, -3.11626835e+01],\n       [ 1.09250994e+01, -3.25536003e+01],\n       [-3.04160714e-01, -4.39037857e+01],\n       [ 1.18988791e+01, -3.88610535e+01],\n       [ 1.46303635e+01, -3.58201790e+01],\n       [ 4.14371777e+00, -2.48171921e+01],\n       [-8.67003143e-01, -4.20169678e+01],\n       [ 7.09524632e+00, -2.32785702e+01],\n       [ 1.29419317e+01, -3.36685181e+01],\n       [-1.07344170e+01,  8.82187653e+00],\n       [ 2.99268627e+00, -2.02170544e+01],\n       [-4.20785874e-01, -3.85183334e+01],\n       [ 1.77790201e+00, -3.43225479e+01],\n       [ 1.04400959e+01, -1.88823528e+01],\n       [ 8.78627300e+00, -3.32641487e+01],\n       [ 3.18274856e-01, -4.24498177e+01],\n       [ 1.51216164e+01, -3.08087902e+01],\n       [ 1.94928150e+01, -3.79542198e+01],\n       [ 7.99169064e+00, -2.67835655e+01],\n       [-1.20673447e+01,  8.77645111e+00],\n       [ 1.01882734e+01, -3.54616699e+01],\n       [ 1.93148994e+01, -3.70637207e+01],\n       [ 7.50279093e+00, -2.89478569e+01],\n       [ 8.81247234e+00, -2.69204865e+01],\n       [ 1.66294587e+00, -2.48211384e+01],\n       [ 2.19853950e+00, -3.54509850e+01],\n       [-2.97493243e+00, -3.92851334e+01],\n       [ 1.16679716e+01, -3.39116592e+01],\n       [-8.58086169e-01, -4.11598282e+01],\n       [ 9.05814457e+00, -1.95309219e+01],\n       [ 3.13682008e+00, -3.19989510e+01],\n       [ 1.79550457e+00, -3.67163277e+01],\n       [ 1.35567951e+01, -2.93144474e+01],\n       [ 3.15606632e+01,  3.99845695e+01],\n       [ 1.53820457e+01, -3.64729996e+01],\n       [ 3.28286242e+00, -3.07819881e+01],\n       [ 2.12726212e+01, -3.98898201e+01],\n       [ 1.22215586e+01, -3.77758217e+01],\n       [-1.34808779e+00, -3.96551208e+01],\n       [-4.34102714e-01, -3.25000877e+01],\n       [ 1.38880501e+01, -3.12017536e+01],\n       [ 1.87307892e+01, -3.52821617e+01],\n       [ 3.69903731e+00, -2.58887253e+01],\n       [-4.24613619e+00, -3.92710991e+01],\n       [ 4.33924961e+00, -3.60967407e+01],\n       [ 2.04152679e+01, -3.90730133e+01],\n       [ 7.42173052e+00, -2.39770241e+01],\n       [ 4.25278759e+00, -2.08441296e+01],\n       [ 1.30898228e+01, -3.46817932e+01],\n       [ 5.01713896e+00, -4.01291809e+01],\n       [ 4.86747856e+01,  8.94818687e+00]], dtype=float32)"
     },
     "execution_count": 64,
     "metadata": {},
     "output_type": "execute_result"
    }
   ],
   "source": [
    "coord"
   ],
   "metadata": {
    "collapsed": false,
    "ExecuteTime": {
     "end_time": "2024-02-18T17:08:49.505681Z",
     "start_time": "2024-02-18T17:08:49.497311Z"
    }
   },
   "id": "bbd96b7988681092",
   "execution_count": 64
  },
  {
   "cell_type": "code",
   "outputs": [
    {
     "data": {
      "text/plain": "              x          y\n0     24.729467   4.494717\n1     25.904282   5.977882\n2     15.627753  -2.561519\n3     24.669991  -5.938493\n4     36.151966   1.310514\n...         ...        ...\n1613   7.421731 -23.977024\n1614   4.252788 -20.844130\n1615  13.089823 -34.681793\n1616   5.017139 -40.129181\n0     48.674786   8.948187\n\n[276 rows x 2 columns]",
      "text/html": "<div>\n<style scoped>\n    .dataframe tbody tr th:only-of-type {\n        vertical-align: middle;\n    }\n\n    .dataframe tbody tr th {\n        vertical-align: top;\n    }\n\n    .dataframe thead th {\n        text-align: right;\n    }\n</style>\n<table border=\"1\" class=\"dataframe\">\n  <thead>\n    <tr style=\"text-align: right;\">\n      <th></th>\n      <th>x</th>\n      <th>y</th>\n    </tr>\n  </thead>\n  <tbody>\n    <tr>\n      <th>0</th>\n      <td>24.729467</td>\n      <td>4.494717</td>\n    </tr>\n    <tr>\n      <th>1</th>\n      <td>25.904282</td>\n      <td>5.977882</td>\n    </tr>\n    <tr>\n      <th>2</th>\n      <td>15.627753</td>\n      <td>-2.561519</td>\n    </tr>\n    <tr>\n      <th>3</th>\n      <td>24.669991</td>\n      <td>-5.938493</td>\n    </tr>\n    <tr>\n      <th>4</th>\n      <td>36.151966</td>\n      <td>1.310514</td>\n    </tr>\n    <tr>\n      <th>...</th>\n      <td>...</td>\n      <td>...</td>\n    </tr>\n    <tr>\n      <th>1613</th>\n      <td>7.421731</td>\n      <td>-23.977024</td>\n    </tr>\n    <tr>\n      <th>1614</th>\n      <td>4.252788</td>\n      <td>-20.844130</td>\n    </tr>\n    <tr>\n      <th>1615</th>\n      <td>13.089823</td>\n      <td>-34.681793</td>\n    </tr>\n    <tr>\n      <th>1616</th>\n      <td>5.017139</td>\n      <td>-40.129181</td>\n    </tr>\n    <tr>\n      <th>0</th>\n      <td>48.674786</td>\n      <td>8.948187</td>\n    </tr>\n  </tbody>\n</table>\n<p>276 rows × 2 columns</p>\n</div>"
     },
     "execution_count": 65,
     "metadata": {},
     "output_type": "execute_result"
    }
   ],
   "source": [
    "coord_titre"
   ],
   "metadata": {
    "collapsed": false,
    "ExecuteTime": {
     "end_time": "2024-02-18T17:08:49.512398Z",
     "start_time": "2024-02-18T17:08:49.507259Z"
    }
   },
   "id": "2e584db309a6cc08",
   "execution_count": 65
  },
  {
   "cell_type": "code",
   "outputs": [],
   "source": [
    "nbrs = NearestNeighbors(n_neighbors=6, metric=DISTANCE_TSNE_INITIAL).fit(coord)"
   ],
   "metadata": {
    "collapsed": false,
    "ExecuteTime": {
     "end_time": "2024-02-18T17:08:49.516007Z",
     "start_time": "2024-02-18T17:08:49.512544Z"
    }
   },
   "id": "b79adebafbe88e5",
   "execution_count": 66
  },
  {
   "cell_type": "code",
   "outputs": [
    {
     "data": {
      "text/plain": "NearestNeighbors(metric='cosine', n_neighbors=6)",
      "text/html": "<style>#sk-container-id-4 {color: black;background-color: white;}#sk-container-id-4 pre{padding: 0;}#sk-container-id-4 div.sk-toggleable {background-color: white;}#sk-container-id-4 label.sk-toggleable__label {cursor: pointer;display: block;width: 100%;margin-bottom: 0;padding: 0.3em;box-sizing: border-box;text-align: center;}#sk-container-id-4 label.sk-toggleable__label-arrow:before {content: \"▸\";float: left;margin-right: 0.25em;color: #696969;}#sk-container-id-4 label.sk-toggleable__label-arrow:hover:before {color: black;}#sk-container-id-4 div.sk-estimator:hover label.sk-toggleable__label-arrow:before {color: black;}#sk-container-id-4 div.sk-toggleable__content {max-height: 0;max-width: 0;overflow: hidden;text-align: left;background-color: #f0f8ff;}#sk-container-id-4 div.sk-toggleable__content pre {margin: 0.2em;color: black;border-radius: 0.25em;background-color: #f0f8ff;}#sk-container-id-4 input.sk-toggleable__control:checked~div.sk-toggleable__content {max-height: 200px;max-width: 100%;overflow: auto;}#sk-container-id-4 input.sk-toggleable__control:checked~label.sk-toggleable__label-arrow:before {content: \"▾\";}#sk-container-id-4 div.sk-estimator input.sk-toggleable__control:checked~label.sk-toggleable__label {background-color: #d4ebff;}#sk-container-id-4 div.sk-label input.sk-toggleable__control:checked~label.sk-toggleable__label {background-color: #d4ebff;}#sk-container-id-4 input.sk-hidden--visually {border: 0;clip: rect(1px 1px 1px 1px);clip: rect(1px, 1px, 1px, 1px);height: 1px;margin: -1px;overflow: hidden;padding: 0;position: absolute;width: 1px;}#sk-container-id-4 div.sk-estimator {font-family: monospace;background-color: #f0f8ff;border: 1px dotted black;border-radius: 0.25em;box-sizing: border-box;margin-bottom: 0.5em;}#sk-container-id-4 div.sk-estimator:hover {background-color: #d4ebff;}#sk-container-id-4 div.sk-parallel-item::after {content: \"\";width: 100%;border-bottom: 1px solid gray;flex-grow: 1;}#sk-container-id-4 div.sk-label:hover label.sk-toggleable__label {background-color: #d4ebff;}#sk-container-id-4 div.sk-serial::before {content: \"\";position: absolute;border-left: 1px solid gray;box-sizing: border-box;top: 0;bottom: 0;left: 50%;z-index: 0;}#sk-container-id-4 div.sk-serial {display: flex;flex-direction: column;align-items: center;background-color: white;padding-right: 0.2em;padding-left: 0.2em;position: relative;}#sk-container-id-4 div.sk-item {position: relative;z-index: 1;}#sk-container-id-4 div.sk-parallel {display: flex;align-items: stretch;justify-content: center;background-color: white;position: relative;}#sk-container-id-4 div.sk-item::before, #sk-container-id-4 div.sk-parallel-item::before {content: \"\";position: absolute;border-left: 1px solid gray;box-sizing: border-box;top: 0;bottom: 0;left: 50%;z-index: -1;}#sk-container-id-4 div.sk-parallel-item {display: flex;flex-direction: column;z-index: 1;position: relative;background-color: white;}#sk-container-id-4 div.sk-parallel-item:first-child::after {align-self: flex-end;width: 50%;}#sk-container-id-4 div.sk-parallel-item:last-child::after {align-self: flex-start;width: 50%;}#sk-container-id-4 div.sk-parallel-item:only-child::after {width: 0;}#sk-container-id-4 div.sk-dashed-wrapped {border: 1px dashed gray;margin: 0 0.4em 0.5em 0.4em;box-sizing: border-box;padding-bottom: 0.4em;background-color: white;}#sk-container-id-4 div.sk-label label {font-family: monospace;font-weight: bold;display: inline-block;line-height: 1.2em;}#sk-container-id-4 div.sk-label-container {text-align: center;}#sk-container-id-4 div.sk-container {/* jupyter's `normalize.less` sets `[hidden] { display: none; }` but bootstrap.min.css set `[hidden] { display: none !important; }` so we also need the `!important` here to be able to override the default hidden behavior on the sphinx rendered scikit-learn.org. See: https://github.com/scikit-learn/scikit-learn/issues/21755 */display: inline-block !important;position: relative;}#sk-container-id-4 div.sk-text-repr-fallback {display: none;}</style><div id=\"sk-container-id-4\" class=\"sk-top-container\"><div class=\"sk-text-repr-fallback\"><pre>NearestNeighbors(metric=&#x27;cosine&#x27;, n_neighbors=6)</pre><b>In a Jupyter environment, please rerun this cell to show the HTML representation or trust the notebook. <br />On GitHub, the HTML representation is unable to render, please try loading this page with nbviewer.org.</b></div><div class=\"sk-container\" hidden><div class=\"sk-item\"><div class=\"sk-estimator sk-toggleable\"><input class=\"sk-toggleable__control sk-hidden--visually\" id=\"sk-estimator-id-4\" type=\"checkbox\" checked><label for=\"sk-estimator-id-4\" class=\"sk-toggleable__label sk-toggleable__label-arrow\">NearestNeighbors</label><div class=\"sk-toggleable__content\"><pre>NearestNeighbors(metric=&#x27;cosine&#x27;, n_neighbors=6)</pre></div></div></div></div></div>"
     },
     "execution_count": 67,
     "metadata": {},
     "output_type": "execute_result"
    }
   ],
   "source": [
    "nbrs"
   ],
   "metadata": {
    "collapsed": false,
    "ExecuteTime": {
     "end_time": "2024-02-18T17:08:49.540784Z",
     "start_time": "2024-02-18T17:08:49.515062Z"
    }
   },
   "id": "8af4f583dbd61ce",
   "execution_count": 67
  },
  {
   "cell_type": "code",
   "outputs": [],
   "source": [
    "distances, indices = nbrs.kneighbors(coord)"
   ],
   "metadata": {
    "collapsed": false,
    "ExecuteTime": {
     "end_time": "2024-02-18T17:08:49.561903Z",
     "start_time": "2024-02-18T17:08:49.520361Z"
    }
   },
   "id": "ab16834f34842460",
   "execution_count": 68
  },
  {
   "cell_type": "code",
   "outputs": [
    {
     "data": {
      "text/plain": "[[0, 275, 53, 26, 8, 18],\n [1, 26, 47, 275, 0, 53],\n [2, 12, 29, 7, 3, 42],\n [3, 24, 6, 50, 29, 20],\n [4, 31, 30, 37, 125, 43],\n [5, 41, 120, 19, 51, 27],\n [6, 24, 50, 3, 20, 25],\n [7, 42, 10, 49, 28, 13],\n [8, 18, 53, 22, 15, 9],\n [9, 15, 48, 40, 22, 54],\n [10, 49, 28, 13, 23, 27],\n [11, 52, 19, 14, 120, 41],\n [12, 2, 29, 7, 42, 3],\n [13, 23, 27, 28, 51, 5],\n [14, 52, 11, 38, 36, 33],\n [15, 9, 22, 48, 40, 54],\n [16, 238, 222, 261, 266, 270],\n [17, 35, 34, 46, 39, 32],\n [18, 8, 22, 53, 15, 9],\n [19, 120, 41, 5, 11, 51],\n [20, 25, 45, 50, 6, 24],\n [21, 45, 25, 20, 50, 6],\n [22, 15, 9, 48, 40, 54],\n [23, 13, 27, 28, 51, 5],\n [6, 24, 50, 3, 20, 25],\n [25, 20, 45, 50, 6, 24],\n [26, 275, 0, 1, 53, 8],\n [27, 23, 13, 51, 28, 5],\n [28, 13, 23, 27, 51, 49],\n [29, 3, 24, 6, 2, 50],\n [30, 37, 4, 31, 32, 39],\n [31, 4, 30, 37, 125, 43],\n [32, 39, 46, 34, 35, 17],\n [33, 43, 125, 36, 38, 31],\n [34, 35, 46, 39, 32, 17],\n [35, 34, 46, 39, 17, 32],\n [36, 38, 33, 43, 125, 14],\n [37, 30, 4, 32, 31, 39],\n [38, 36, 33, 43, 125, 14],\n [39, 46, 32, 34, 35, 17],\n [40, 48, 54, 9, 15, 22],\n [5, 41, 120, 19, 51, 27],\n [42, 7, 10, 49, 28, 13],\n [43, 33, 125, 36, 38, 31],\n [44, 17, 54, 35, 34, 46],\n [45, 25, 20, 50, 21, 6],\n [46, 39, 34, 35, 32, 17],\n [47, 1, 26, 275, 0, 53],\n [48, 40, 54, 9, 15, 22],\n [49, 10, 28, 13, 23, 27],\n [50, 6, 24, 20, 25, 45],\n [51, 27, 23, 13, 28, 5],\n [52, 11, 14, 19, 120, 38],\n [53, 0, 275, 8, 18, 26],\n [54, 40, 48, 9, 15, 44],\n [55, 102, 97, 62, 57, 75],\n [56, 69, 104, 70, 77, 79],\n [57, 97, 75, 55, 81, 102],\n [58, 98, 103, 101, 64, 106],\n [59, 67, 94, 72, 109, 68],\n [60, 85, 61, 93, 88, 90],\n [61, 88, 90, 85, 60, 92],\n [62, 102, 55, 87, 105, 97],\n [63, 68, 72, 67, 59, 71],\n [64, 58, 98, 103, 101, 106],\n [65, 78, 99, 95, 83, 82],\n [66, 79, 80, 100, 74, 73],\n [67, 59, 72, 68, 94, 109],\n [68, 72, 67, 63, 59, 94],\n [69, 56, 70, 104, 77, 79],\n [70, 69, 56, 77, 104, 79],\n [71, 106, 101, 103, 98, 63],\n [72, 68, 67, 59, 63, 94],\n [73, 74, 84, 107, 96, 92],\n [74, 73, 100, 84, 107, 80],\n [75, 57, 97, 55, 81, 102],\n [108, 76, 109, 94, 81, 59],\n [77, 70, 69, 56, 104, 79],\n [78, 65, 99, 95, 83, 82],\n [79, 66, 80, 100, 74, 73],\n [80, 100, 66, 74, 79, 73],\n [81, 108, 76, 109, 75, 57],\n [82, 89, 78, 65, 99, 95],\n [83, 95, 99, 91, 65, 78],\n [84, 107, 73, 96, 92, 74],\n [85, 60, 61, 88, 90, 93],\n [86, 93, 60, 85, 61, 88],\n [87, 105, 91, 62, 102, 83],\n [88, 90, 61, 85, 92, 60],\n [89, 82, 78, 65, 99, 95],\n [90, 88, 61, 85, 92, 96],\n [91, 105, 87, 83, 95, 99],\n [92, 96, 107, 84, 90, 88],\n [93, 86, 60, 85, 61, 88],\n [94, 109, 59, 67, 76, 108],\n [95, 99, 83, 65, 78, 91],\n [96, 92, 107, 84, 73, 90],\n [97, 57, 75, 55, 102, 81],\n [98, 103, 101, 58, 106, 71],\n [99, 95, 65, 78, 83, 91],\n [100, 80, 74, 73, 84, 107],\n [101, 106, 103, 98, 71, 58],\n [102, 62, 55, 97, 57, 75],\n [103, 98, 101, 106, 58, 71],\n [104, 56, 69, 70, 77, 79],\n [105, 91, 87, 83, 62, 102],\n [106, 101, 71, 103, 98, 58],\n [107, 84, 96, 73, 92, 74],\n [108, 76, 109, 94, 81, 59],\n [109, 94, 76, 108, 59, 67],\n [110, 119, 147, 150, 124, 154],\n [111, 136, 244, 144, 114, 158],\n [112, 149, 134, 121, 163, 162],\n [113, 146, 143, 153, 139, 127],\n [114, 144, 111, 136, 244, 234],\n [115, 128, 150, 135, 119, 110],\n [116, 157, 145, 143, 146, 113],\n [117, 158, 133, 156, 141, 129],\n [118, 152, 129, 148, 141, 156],\n [119, 110, 147, 150, 124, 128],\n [120, 41, 5, 19, 51, 27],\n [121, 134, 112, 149, 162, 126],\n [122, 127, 160, 139, 153, 138],\n [123, 145, 157, 116, 143, 146],\n [124, 154, 159, 147, 126, 110],\n [125, 43, 33, 36, 38, 31],\n [126, 162, 159, 154, 121, 134],\n [127, 139, 122, 160, 153, 113],\n [128, 115, 150, 135, 119, 110],\n [129, 141, 156, 118, 152, 133],\n [130, 137, 155, 148, 161, 152],\n [131, 151, 191, 213, 176, 180],\n [132, 163, 149, 112, 134, 121],\n [133, 117, 158, 156, 141, 129],\n [134, 112, 149, 121, 163, 162],\n [135, 115, 128, 140, 234, 150],\n [136, 111, 244, 144, 114, 158],\n [137, 148, 130, 152, 118, 129],\n [138, 142, 160, 161, 122, 127],\n [139, 127, 122, 153, 160, 113],\n [140, 234, 114, 144, 111, 136],\n [141, 129, 156, 118, 152, 133],\n [142, 138, 161, 155, 160, 122],\n [143, 146, 113, 153, 139, 127],\n [144, 114, 111, 136, 244, 234],\n [145, 157, 116, 123, 143, 146],\n [146, 113, 143, 153, 139, 127],\n [147, 110, 119, 124, 150, 154],\n [148, 152, 137, 118, 129, 141],\n [149, 112, 134, 121, 163, 162],\n [150, 119, 110, 128, 147, 115],\n [151, 131, 191, 213, 176, 180],\n [152, 118, 148, 129, 141, 137],\n [153, 113, 146, 143, 139, 127],\n [154, 159, 126, 162, 124, 121],\n [155, 161, 130, 142, 138, 137],\n [156, 141, 129, 133, 118, 152],\n [157, 116, 145, 143, 146, 113],\n [158, 117, 133, 156, 141, 129],\n [159, 126, 162, 154, 121, 124],\n [160, 122, 127, 139, 138, 153],\n [161, 155, 142, 138, 130, 160],\n [162, 126, 159, 154, 121, 134],\n [163, 149, 112, 134, 121, 132],\n [164, 186, 178, 190, 173, 199],\n [165, 177, 169, 185, 188, 211],\n [166, 195, 187, 212, 172, 219],\n [167, 181, 183, 197, 171, 205],\n [168, 215, 217, 216, 219, 206],\n [169, 211, 165, 177, 174, 185],\n [170, 218, 194, 205, 184, 206],\n [171, 183, 181, 167, 192, 198],\n [172, 212, 166, 207, 195, 187],\n [173, 204, 193, 164, 203, 182],\n [174, 210, 200, 182, 211, 203],\n [175, 188, 185, 177, 165, 169],\n [176, 180, 213, 199, 191, 190],\n [177, 185, 188, 175, 165, 169],\n [178, 186, 190, 199, 164, 173],\n [179, 208, 202, 189, 196, 209],\n [180, 176, 199, 190, 213, 178],\n [181, 167, 183, 197, 171, 205],\n [182, 200, 210, 203, 193, 174],\n [183, 181, 171, 167, 197, 192],\n [184, 194, 218, 206, 170, 205],\n [185, 188, 177, 175, 165, 169],\n [178, 186, 190, 199, 164, 173],\n [187, 195, 219, 166, 216, 217],\n [188, 185, 175, 177, 165, 169],\n [189, 202, 208, 179, 175, 196],\n [190, 178, 186, 199, 164, 180],\n [191, 213, 176, 180, 199, 190],\n [192, 198, 209, 171, 196, 183],\n [193, 204, 203, 173, 182, 200],\n [194, 218, 184, 170, 206, 205],\n [195, 187, 166, 219, 216, 217],\n [196, 209, 198, 192, 179, 208],\n [197, 167, 205, 181, 170, 183],\n [198, 192, 209, 196, 171, 183],\n [199, 190, 178, 186, 164, 180],\n [200, 182, 210, 203, 174, 193],\n [201, 258, 214, 207, 172, 212],\n [202, 208, 179, 189, 196, 209],\n [203, 193, 182, 200, 210, 204],\n [204, 193, 173, 203, 182, 200],\n [205, 170, 218, 197, 194, 184],\n [206, 184, 194, 218, 170, 168],\n [207, 172, 212, 166, 195, 214],\n [208, 202, 179, 189, 196, 209],\n [209, 198, 192, 196, 171, 183],\n [210, 200, 182, 203, 174, 193],\n [211, 169, 174, 165, 210, 177],\n [212, 172, 166, 195, 187, 207],\n [213, 191, 176, 180, 199, 190],\n [214, 207, 201, 172, 212, 166],\n [215, 168, 217, 216, 219, 187],\n [216, 217, 219, 215, 168, 187],\n [217, 216, 219, 215, 168, 187],\n [218, 194, 170, 184, 205, 206],\n [219, 216, 217, 187, 195, 215],\n [220, 247, 239, 272, 245, 243],\n [221, 229, 259, 233, 273, 265],\n [222, 238, 261, 266, 270, 246],\n [223, 260, 255, 269, 274, 267],\n [224, 231, 253, 264, 236, 227],\n [225, 263, 253, 231, 224, 264],\n [226, 248, 252, 262, 271, 228],\n [227, 236, 264, 224, 231, 253],\n [228, 232, 271, 243, 262, 245],\n [229, 221, 259, 233, 273, 265],\n [230, 235, 267, 272, 274, 269],\n [231, 253, 224, 264, 236, 263],\n [232, 228, 271, 243, 245, 262],\n [233, 273, 221, 229, 259, 252],\n [234, 140, 114, 144, 111, 136],\n [235, 267, 230, 274, 269, 260],\n [236, 264, 227, 224, 231, 253],\n [237, 256, 250, 249, 240, 255],\n [238, 222, 261, 266, 270, 246],\n [239, 247, 220, 245, 243, 232],\n [240, 227, 236, 264, 224, 231],\n [241, 242, 254, 257, 246, 270],\n [242, 246, 270, 266, 261, 241],\n [243, 232, 228, 245, 271, 262],\n [244, 136, 111, 144, 158, 117],\n [245, 243, 232, 228, 271, 239],\n [246, 270, 242, 266, 261, 222],\n [247, 239, 220, 245, 243, 232],\n [248, 262, 226, 252, 271, 228],\n [249, 250, 237, 256, 255, 223],\n [250, 249, 237, 256, 255, 223],\n [251, 268, 225, 263, 253, 231],\n [252, 226, 248, 262, 273, 271],\n [253, 231, 224, 264, 236, 263],\n [254, 257, 265, 241, 259, 242],\n [255, 223, 260, 269, 274, 249],\n [256, 237, 250, 249, 240, 255],\n [257, 254, 265, 241, 259, 242],\n [258, 201, 214, 207, 172, 212],\n [259, 229, 221, 265, 233, 257],\n [260, 223, 255, 269, 274, 267],\n [261, 266, 270, 246, 222, 238],\n [262, 248, 226, 271, 228, 232],\n [263, 225, 253, 231, 224, 264],\n [264, 236, 227, 224, 231, 253],\n [265, 257, 254, 259, 229, 221],\n [266, 261, 270, 246, 242, 222],\n [267, 235, 274, 269, 230, 260],\n [268, 251, 225, 263, 253, 231],\n [269, 274, 260, 223, 255, 267],\n [270, 246, 266, 242, 261, 222],\n [271, 228, 232, 243, 262, 248],\n [272, 230, 220, 247, 235, 239],\n [273, 233, 221, 229, 252, 226],\n [274, 269, 267, 260, 223, 235],\n [275, 0, 53, 26, 8, 1]]"
     },
     "execution_count": 69,
     "metadata": {},
     "output_type": "execute_result"
    }
   ],
   "source": [
    "indices.tolist()"
   ],
   "metadata": {
    "collapsed": false,
    "ExecuteTime": {
     "end_time": "2024-02-18T17:08:49.619138Z",
     "start_time": "2024-02-18T17:08:49.529206Z"
    }
   },
   "id": "ccc6997da79c0175",
   "execution_count": 69
  },
  {
   "cell_type": "code",
   "outputs": [],
   "source": [
    "nearest_movies_names = df_filtre.iloc[indices[-1]][\"titre\"]"
   ],
   "metadata": {
    "collapsed": false,
    "ExecuteTime": {
     "end_time": "2024-02-18T17:08:49.623522Z",
     "start_time": "2024-02-18T17:08:49.564548Z"
    }
   },
   "id": "1d6f89cecf034ad",
   "execution_count": 70
  },
  {
   "cell_type": "code",
   "outputs": [
    {
     "data": {
      "text/plain": "0                 |---USER---|\n0     10 Cloverfield Lane 2016\n53    10 Cloverfield Lane 2016\n26    10 Cloverfield Lane 2016\n8     10 Cloverfield Lane 2016\n1     10 Cloverfield Lane 2016\nName: titre, dtype: object"
     },
     "execution_count": 71,
     "metadata": {},
     "output_type": "execute_result"
    }
   ],
   "source": [
    "nearest_movies_names"
   ],
   "metadata": {
    "collapsed": false,
    "ExecuteTime": {
     "end_time": "2024-02-18T17:08:49.626847Z",
     "start_time": "2024-02-18T17:08:49.593234Z"
    }
   },
   "id": "9b6295d2988bf622",
   "execution_count": 71
  },
  {
   "cell_type": "code",
   "outputs": [],
   "source": [
    "list_films = nearest_movies_names.tolist()[1:]"
   ],
   "metadata": {
    "collapsed": false,
    "ExecuteTime": {
     "end_time": "2024-02-18T17:08:49.647322Z",
     "start_time": "2024-02-18T17:08:49.599887Z"
    }
   },
   "id": "bd642160d9e98d79",
   "execution_count": 72
  },
  {
   "cell_type": "code",
   "outputs": [
    {
     "data": {
      "text/plain": "['10 Cloverfield Lane 2016',\n '10 Cloverfield Lane 2016',\n '10 Cloverfield Lane 2016',\n '10 Cloverfield Lane 2016',\n '10 Cloverfield Lane 2016']"
     },
     "execution_count": 102,
     "metadata": {},
     "output_type": "execute_result"
    }
   ],
   "source": [
    "list_films"
   ],
   "metadata": {
    "collapsed": false,
    "ExecuteTime": {
     "end_time": "2024-02-18T17:23:55.042235Z",
     "start_time": "2024-02-18T17:23:55.036990Z"
    }
   },
   "id": "5534f95b4ceb84b8",
   "execution_count": 102
  },
  {
   "cell_type": "code",
   "outputs": [],
   "source": [],
   "metadata": {
    "collapsed": false
   },
   "id": "fb2c0b3d3dbf1218"
  },
  {
   "cell_type": "code",
   "outputs": [],
   "source": [
    "list_films_name = list(set(df_filtre.titre.tolist()[:-1]))"
   ],
   "metadata": {
    "collapsed": false,
    "ExecuteTime": {
     "end_time": "2024-02-18T17:24:09.923938Z",
     "start_time": "2024-02-18T17:24:09.917847Z"
    }
   },
   "id": "28193707b95c0ac6",
   "execution_count": 107
  },
  {
   "cell_type": "code",
   "outputs": [
    {
     "data": {
      "text/plain": "['10 Cloverfield Lane 2016',\n '12 Monkeys 1995',\n '12 Strong 2018',\n '12 Angry Men 1957',\n '10 Things I Hate About You 1999']"
     },
     "execution_count": 108,
     "metadata": {},
     "output_type": "execute_result"
    }
   ],
   "source": [
    "list_films_name"
   ],
   "metadata": {
    "collapsed": false,
    "ExecuteTime": {
     "end_time": "2024-02-18T17:24:10.457033Z",
     "start_time": "2024-02-18T17:24:10.452221Z"
    }
   },
   "id": "fe560598da6eef9d",
   "execution_count": 108
  },
  {
   "cell_type": "code",
   "outputs": [
    {
     "data": {
      "text/plain": "[5, 0, 0, 0, 0]"
     },
     "execution_count": 110,
     "metadata": {},
     "output_type": "execute_result"
    }
   ],
   "source": [
    "[list_films.count(film) for film in list_films_name]"
   ],
   "metadata": {
    "collapsed": false,
    "ExecuteTime": {
     "end_time": "2024-02-18T17:25:57.384211Z",
     "start_time": "2024-02-18T17:25:57.362354Z"
    }
   },
   "id": "1080ed2399fab491",
   "execution_count": 110
  },
  {
   "cell_type": "code",
   "outputs": [],
   "source": [],
   "metadata": {
    "collapsed": false
   },
   "id": "6c2b7820b8b3ba65"
  }
 ],
 "metadata": {
  "kernelspec": {
   "display_name": "Python 3",
   "language": "python",
   "name": "python3"
  },
  "language_info": {
   "codemirror_mode": {
    "name": "ipython",
    "version": 2
   },
   "file_extension": ".py",
   "mimetype": "text/x-python",
   "name": "python",
   "nbconvert_exporter": "python",
   "pygments_lexer": "ipython2",
   "version": "2.7.6"
  }
 },
 "nbformat": 4,
 "nbformat_minor": 5
}
