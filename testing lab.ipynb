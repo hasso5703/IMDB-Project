{
 "cells": [
  {
   "cell_type": "code",
   "outputs": [
    {
     "name": "stdout",
     "output_type": "stream",
     "text": [
      "Matrice de confusion rechargée:\n",
      "[[ 5180  2878]\n",
      " [ 1727 22522]]\n"
     ]
    }
   ],
   "source": [
    "from constants_app import DF_COMMENTAIRE_PLONGEMENT"
   ],
   "metadata": {
    "collapsed": false,
    "ExecuteTime": {
     "end_time": "2024-02-21T08:22:28.143491Z",
     "start_time": "2024-02-21T08:22:00.942910Z"
    }
   },
   "id": "a4d79f31f0c5a62f",
   "execution_count": 1
  },
  {
   "cell_type": "code",
   "outputs": [
    {
     "data": {
      "text/plain": "                           titre        date rating  \\\n0       10 Cloverfield Lane 2016  2017-02-19      3   \n1       10 Cloverfield Lane 2016  2017-02-10      5   \n2       10 Cloverfield Lane 2016  2016-12-14      1   \n3       10 Cloverfield Lane 2016  2016-08-30      6   \n4       10 Cloverfield Lane 2016  2016-07-21      5   \n...                          ...         ...    ...   \n363666                 Zulu 1964  2001-12-27   Null   \n363667                 Zulu 1964  2003-10-17   Null   \n363668                 Zulu 1964  2006-11-06   Null   \n363669                 Zulu 1964  2007-09-03      9   \n363670                 Zulu 1964  2017-12-19      7   \n\n                                                   review     V_000     V_001  \\\n0       I wish I could rate the first hour of this mov... -0.028970 -0.001207   \n1       Movie Rating like this on IMDb makes it really... -0.059906 -0.007888   \n2       I would love to spoil this so you won't waste ... -0.112675  0.003736   \n3       Great suspense, Goodman doing an excellent job... -0.010714  0.002267   \n4       I've never seen the original \"Cloverfield\", bu... -0.027969 -0.152922   \n...                                                   ...       ...       ...   \n363666  I watched this film when it was on network tel... -0.077383  0.070497   \n363667  This film is historically innacurate in its de... -0.070720  0.054163   \n363668  I have recently been researching the Portsdown... -0.043901  0.001089   \n363669  I love the movie Zulu, as well as Russel Crowe... -0.098427  0.068596   \n363670  Although he had been acting in movies since at... -0.110094  0.012454   \n\n           V_002     V_003     V_004     V_005  ...     V_374     V_375  \\\n0      -0.002391  0.060831  0.074947  0.017567  ...  0.118595  0.020172   \n1      -0.028277  0.062930  0.048968 -0.006634  ...  0.155309 -0.067951   \n2       0.003658  0.030246  0.031492  0.056028  ...  0.078484 -0.034838   \n3      -0.064918  0.096290  0.062443  0.076409  ...  0.091952 -0.017621   \n4      -0.013353  0.007773  0.055064  0.032211  ...  0.067877  0.047383   \n...          ...       ...       ...       ...  ...       ...       ...   \n363666 -0.107077 -0.007993 -0.068396  0.048113  ...  0.067399  0.056334   \n363667 -0.081828 -0.036286 -0.017811  0.048355  ...  0.050908  0.016392   \n363668 -0.083503  0.000892  0.019845  0.004680  ... -0.012394 -0.049280   \n363669 -0.106839 -0.069263 -0.100559  0.029045  ...  0.035211  0.017315   \n363670 -0.125467  0.041177 -0.137888  0.066763  ...  0.024090 -0.051147   \n\n           V_376     V_377     V_378     V_379     V_380     V_381     V_382  \\\n0      -0.054436  0.017774 -0.041132  0.079366 -0.017481  0.001618 -0.063559   \n1      -0.039774  0.009251 -0.061647  0.077600  0.022015 -0.027876  0.033053   \n2      -0.026177  0.079169 -0.056632  0.022633 -0.022436 -0.030744 -0.034435   \n3      -0.001879 -0.132019 -0.046799 -0.004026 -0.038562 -0.024723 -0.074742   \n4      -0.039394  0.018294  0.004541  0.039569 -0.033773  0.007929  0.034427   \n...          ...       ...       ...       ...       ...       ...       ...   \n363666  0.004636  0.101765 -0.032201  0.027627  0.054593 -0.028304 -0.009891   \n363667  0.031382  0.062073 -0.060888  0.052128  0.012028  0.006782 -0.068391   \n363668  0.005287 -0.025061 -0.033075  0.054886 -0.095324 -0.022466 -0.026082   \n363669 -0.020371  0.040703  0.003274  0.047114  0.088187  0.082322 -0.018698   \n363670  0.033784  0.025397 -0.037445  0.055676  0.089556 -0.058645 -0.025363   \n\n           V_383  \n0      -0.035152  \n1       0.054762  \n2      -0.019224  \n3      -0.052700  \n4       0.022803  \n...          ...  \n363666 -0.017689  \n363667 -0.014637  \n363668  0.035881  \n363669 -0.025632  \n363670 -0.006149  \n\n[363671 rows x 388 columns]",
      "text/html": "<div>\n<style scoped>\n    .dataframe tbody tr th:only-of-type {\n        vertical-align: middle;\n    }\n\n    .dataframe tbody tr th {\n        vertical-align: top;\n    }\n\n    .dataframe thead th {\n        text-align: right;\n    }\n</style>\n<table border=\"1\" class=\"dataframe\">\n  <thead>\n    <tr style=\"text-align: right;\">\n      <th></th>\n      <th>titre</th>\n      <th>date</th>\n      <th>rating</th>\n      <th>review</th>\n      <th>V_000</th>\n      <th>V_001</th>\n      <th>V_002</th>\n      <th>V_003</th>\n      <th>V_004</th>\n      <th>V_005</th>\n      <th>...</th>\n      <th>V_374</th>\n      <th>V_375</th>\n      <th>V_376</th>\n      <th>V_377</th>\n      <th>V_378</th>\n      <th>V_379</th>\n      <th>V_380</th>\n      <th>V_381</th>\n      <th>V_382</th>\n      <th>V_383</th>\n    </tr>\n  </thead>\n  <tbody>\n    <tr>\n      <th>0</th>\n      <td>10 Cloverfield Lane 2016</td>\n      <td>2017-02-19</td>\n      <td>3</td>\n      <td>I wish I could rate the first hour of this mov...</td>\n      <td>-0.028970</td>\n      <td>-0.001207</td>\n      <td>-0.002391</td>\n      <td>0.060831</td>\n      <td>0.074947</td>\n      <td>0.017567</td>\n      <td>...</td>\n      <td>0.118595</td>\n      <td>0.020172</td>\n      <td>-0.054436</td>\n      <td>0.017774</td>\n      <td>-0.041132</td>\n      <td>0.079366</td>\n      <td>-0.017481</td>\n      <td>0.001618</td>\n      <td>-0.063559</td>\n      <td>-0.035152</td>\n    </tr>\n    <tr>\n      <th>1</th>\n      <td>10 Cloverfield Lane 2016</td>\n      <td>2017-02-10</td>\n      <td>5</td>\n      <td>Movie Rating like this on IMDb makes it really...</td>\n      <td>-0.059906</td>\n      <td>-0.007888</td>\n      <td>-0.028277</td>\n      <td>0.062930</td>\n      <td>0.048968</td>\n      <td>-0.006634</td>\n      <td>...</td>\n      <td>0.155309</td>\n      <td>-0.067951</td>\n      <td>-0.039774</td>\n      <td>0.009251</td>\n      <td>-0.061647</td>\n      <td>0.077600</td>\n      <td>0.022015</td>\n      <td>-0.027876</td>\n      <td>0.033053</td>\n      <td>0.054762</td>\n    </tr>\n    <tr>\n      <th>2</th>\n      <td>10 Cloverfield Lane 2016</td>\n      <td>2016-12-14</td>\n      <td>1</td>\n      <td>I would love to spoil this so you won't waste ...</td>\n      <td>-0.112675</td>\n      <td>0.003736</td>\n      <td>0.003658</td>\n      <td>0.030246</td>\n      <td>0.031492</td>\n      <td>0.056028</td>\n      <td>...</td>\n      <td>0.078484</td>\n      <td>-0.034838</td>\n      <td>-0.026177</td>\n      <td>0.079169</td>\n      <td>-0.056632</td>\n      <td>0.022633</td>\n      <td>-0.022436</td>\n      <td>-0.030744</td>\n      <td>-0.034435</td>\n      <td>-0.019224</td>\n    </tr>\n    <tr>\n      <th>3</th>\n      <td>10 Cloverfield Lane 2016</td>\n      <td>2016-08-30</td>\n      <td>6</td>\n      <td>Great suspense, Goodman doing an excellent job...</td>\n      <td>-0.010714</td>\n      <td>0.002267</td>\n      <td>-0.064918</td>\n      <td>0.096290</td>\n      <td>0.062443</td>\n      <td>0.076409</td>\n      <td>...</td>\n      <td>0.091952</td>\n      <td>-0.017621</td>\n      <td>-0.001879</td>\n      <td>-0.132019</td>\n      <td>-0.046799</td>\n      <td>-0.004026</td>\n      <td>-0.038562</td>\n      <td>-0.024723</td>\n      <td>-0.074742</td>\n      <td>-0.052700</td>\n    </tr>\n    <tr>\n      <th>4</th>\n      <td>10 Cloverfield Lane 2016</td>\n      <td>2016-07-21</td>\n      <td>5</td>\n      <td>I've never seen the original \"Cloverfield\", bu...</td>\n      <td>-0.027969</td>\n      <td>-0.152922</td>\n      <td>-0.013353</td>\n      <td>0.007773</td>\n      <td>0.055064</td>\n      <td>0.032211</td>\n      <td>...</td>\n      <td>0.067877</td>\n      <td>0.047383</td>\n      <td>-0.039394</td>\n      <td>0.018294</td>\n      <td>0.004541</td>\n      <td>0.039569</td>\n      <td>-0.033773</td>\n      <td>0.007929</td>\n      <td>0.034427</td>\n      <td>0.022803</td>\n    </tr>\n    <tr>\n      <th>...</th>\n      <td>...</td>\n      <td>...</td>\n      <td>...</td>\n      <td>...</td>\n      <td>...</td>\n      <td>...</td>\n      <td>...</td>\n      <td>...</td>\n      <td>...</td>\n      <td>...</td>\n      <td>...</td>\n      <td>...</td>\n      <td>...</td>\n      <td>...</td>\n      <td>...</td>\n      <td>...</td>\n      <td>...</td>\n      <td>...</td>\n      <td>...</td>\n      <td>...</td>\n      <td>...</td>\n    </tr>\n    <tr>\n      <th>363666</th>\n      <td>Zulu 1964</td>\n      <td>2001-12-27</td>\n      <td>Null</td>\n      <td>I watched this film when it was on network tel...</td>\n      <td>-0.077383</td>\n      <td>0.070497</td>\n      <td>-0.107077</td>\n      <td>-0.007993</td>\n      <td>-0.068396</td>\n      <td>0.048113</td>\n      <td>...</td>\n      <td>0.067399</td>\n      <td>0.056334</td>\n      <td>0.004636</td>\n      <td>0.101765</td>\n      <td>-0.032201</td>\n      <td>0.027627</td>\n      <td>0.054593</td>\n      <td>-0.028304</td>\n      <td>-0.009891</td>\n      <td>-0.017689</td>\n    </tr>\n    <tr>\n      <th>363667</th>\n      <td>Zulu 1964</td>\n      <td>2003-10-17</td>\n      <td>Null</td>\n      <td>This film is historically innacurate in its de...</td>\n      <td>-0.070720</td>\n      <td>0.054163</td>\n      <td>-0.081828</td>\n      <td>-0.036286</td>\n      <td>-0.017811</td>\n      <td>0.048355</td>\n      <td>...</td>\n      <td>0.050908</td>\n      <td>0.016392</td>\n      <td>0.031382</td>\n      <td>0.062073</td>\n      <td>-0.060888</td>\n      <td>0.052128</td>\n      <td>0.012028</td>\n      <td>0.006782</td>\n      <td>-0.068391</td>\n      <td>-0.014637</td>\n    </tr>\n    <tr>\n      <th>363668</th>\n      <td>Zulu 1964</td>\n      <td>2006-11-06</td>\n      <td>Null</td>\n      <td>I have recently been researching the Portsdown...</td>\n      <td>-0.043901</td>\n      <td>0.001089</td>\n      <td>-0.083503</td>\n      <td>0.000892</td>\n      <td>0.019845</td>\n      <td>0.004680</td>\n      <td>...</td>\n      <td>-0.012394</td>\n      <td>-0.049280</td>\n      <td>0.005287</td>\n      <td>-0.025061</td>\n      <td>-0.033075</td>\n      <td>0.054886</td>\n      <td>-0.095324</td>\n      <td>-0.022466</td>\n      <td>-0.026082</td>\n      <td>0.035881</td>\n    </tr>\n    <tr>\n      <th>363669</th>\n      <td>Zulu 1964</td>\n      <td>2007-09-03</td>\n      <td>9</td>\n      <td>I love the movie Zulu, as well as Russel Crowe...</td>\n      <td>-0.098427</td>\n      <td>0.068596</td>\n      <td>-0.106839</td>\n      <td>-0.069263</td>\n      <td>-0.100559</td>\n      <td>0.029045</td>\n      <td>...</td>\n      <td>0.035211</td>\n      <td>0.017315</td>\n      <td>-0.020371</td>\n      <td>0.040703</td>\n      <td>0.003274</td>\n      <td>0.047114</td>\n      <td>0.088187</td>\n      <td>0.082322</td>\n      <td>-0.018698</td>\n      <td>-0.025632</td>\n    </tr>\n    <tr>\n      <th>363670</th>\n      <td>Zulu 1964</td>\n      <td>2017-12-19</td>\n      <td>7</td>\n      <td>Although he had been acting in movies since at...</td>\n      <td>-0.110094</td>\n      <td>0.012454</td>\n      <td>-0.125467</td>\n      <td>0.041177</td>\n      <td>-0.137888</td>\n      <td>0.066763</td>\n      <td>...</td>\n      <td>0.024090</td>\n      <td>-0.051147</td>\n      <td>0.033784</td>\n      <td>0.025397</td>\n      <td>-0.037445</td>\n      <td>0.055676</td>\n      <td>0.089556</td>\n      <td>-0.058645</td>\n      <td>-0.025363</td>\n      <td>-0.006149</td>\n    </tr>\n  </tbody>\n</table>\n<p>363671 rows × 388 columns</p>\n</div>"
     },
     "execution_count": 2,
     "metadata": {},
     "output_type": "execute_result"
    }
   ],
   "source": [
    "df = DF_COMMENTAIRE_PLONGEMENT\n",
    "df"
   ],
   "metadata": {
    "collapsed": false,
    "ExecuteTime": {
     "end_time": "2024-02-21T08:22:28.451929Z",
     "start_time": "2024-02-21T08:22:28.129853Z"
    }
   },
   "id": "a4f01d78c77ce4e2",
   "execution_count": 2
  },
  {
   "cell_type": "code",
   "outputs": [
    {
     "ename": "ValueError",
     "evalue": "time data \"2017-02-19\" doesn't match format \"%d %B %Y\", at position 0. You might want to try:\n    - passing `format` if your strings have a consistent format;\n    - passing `format='ISO8601'` if your strings are all ISO8601 but not necessarily in exactly the same format;\n    - passing `format='mixed'`, and the format will be inferred for each element individually. You might want to use `dayfirst` alongside this.",
     "output_type": "error",
     "traceback": [
      "\u001B[0;31m---------------------------------------------------------------------------\u001B[0m",
      "\u001B[0;31mValueError\u001B[0m                                Traceback (most recent call last)",
      "Cell \u001B[0;32mIn[4], line 2\u001B[0m\n\u001B[1;32m      1\u001B[0m \u001B[38;5;28;01mimport\u001B[39;00m \u001B[38;5;21;01mpandas\u001B[39;00m \u001B[38;5;28;01mas\u001B[39;00m \u001B[38;5;21;01mpd\u001B[39;00m\n\u001B[0;32m----> 2\u001B[0m df[\u001B[38;5;124m'\u001B[39m\u001B[38;5;124mdate\u001B[39m\u001B[38;5;124m'\u001B[39m] \u001B[38;5;241m=\u001B[39m pd\u001B[38;5;241m.\u001B[39mto_datetime(df[\u001B[38;5;124m'\u001B[39m\u001B[38;5;124mdate\u001B[39m\u001B[38;5;124m'\u001B[39m], \u001B[38;5;28mformat\u001B[39m\u001B[38;5;241m=\u001B[39m\u001B[38;5;124m'\u001B[39m\u001B[38;5;132;01m%d\u001B[39;00m\u001B[38;5;124m \u001B[39m\u001B[38;5;124m%\u001B[39m\u001B[38;5;124mB \u001B[39m\u001B[38;5;124m%\u001B[39m\u001B[38;5;124mY\u001B[39m\u001B[38;5;124m'\u001B[39m)\n",
      "File \u001B[0;32m~/anaconda3/envs/imdb-env/lib/python3.11/site-packages/pandas/core/tools/datetimes.py:1108\u001B[0m, in \u001B[0;36mto_datetime\u001B[0;34m(arg, errors, dayfirst, yearfirst, utc, format, exact, unit, infer_datetime_format, origin, cache)\u001B[0m\n\u001B[1;32m   1106\u001B[0m             result \u001B[38;5;241m=\u001B[39m arg\u001B[38;5;241m.\u001B[39mtz_localize(\u001B[38;5;124m\"\u001B[39m\u001B[38;5;124mutc\u001B[39m\u001B[38;5;124m\"\u001B[39m)\n\u001B[1;32m   1107\u001B[0m \u001B[38;5;28;01melif\u001B[39;00m \u001B[38;5;28misinstance\u001B[39m(arg, ABCSeries):\n\u001B[0;32m-> 1108\u001B[0m     cache_array \u001B[38;5;241m=\u001B[39m _maybe_cache(arg, \u001B[38;5;28mformat\u001B[39m, cache, convert_listlike)\n\u001B[1;32m   1109\u001B[0m     \u001B[38;5;28;01mif\u001B[39;00m \u001B[38;5;129;01mnot\u001B[39;00m cache_array\u001B[38;5;241m.\u001B[39mempty:\n\u001B[1;32m   1110\u001B[0m         result \u001B[38;5;241m=\u001B[39m arg\u001B[38;5;241m.\u001B[39mmap(cache_array)\n",
      "File \u001B[0;32m~/anaconda3/envs/imdb-env/lib/python3.11/site-packages/pandas/core/tools/datetimes.py:254\u001B[0m, in \u001B[0;36m_maybe_cache\u001B[0;34m(arg, format, cache, convert_listlike)\u001B[0m\n\u001B[1;32m    252\u001B[0m unique_dates \u001B[38;5;241m=\u001B[39m unique(arg)\n\u001B[1;32m    253\u001B[0m \u001B[38;5;28;01mif\u001B[39;00m \u001B[38;5;28mlen\u001B[39m(unique_dates) \u001B[38;5;241m<\u001B[39m \u001B[38;5;28mlen\u001B[39m(arg):\n\u001B[0;32m--> 254\u001B[0m     cache_dates \u001B[38;5;241m=\u001B[39m convert_listlike(unique_dates, \u001B[38;5;28mformat\u001B[39m)\n\u001B[1;32m    255\u001B[0m     \u001B[38;5;66;03m# GH#45319\u001B[39;00m\n\u001B[1;32m    256\u001B[0m     \u001B[38;5;28;01mtry\u001B[39;00m:\n",
      "File \u001B[0;32m~/anaconda3/envs/imdb-env/lib/python3.11/site-packages/pandas/core/tools/datetimes.py:488\u001B[0m, in \u001B[0;36m_convert_listlike_datetimes\u001B[0;34m(arg, format, name, utc, unit, errors, dayfirst, yearfirst, exact)\u001B[0m\n\u001B[1;32m    486\u001B[0m \u001B[38;5;66;03m# `format` could be inferred, or user didn't ask for mixed-format parsing.\u001B[39;00m\n\u001B[1;32m    487\u001B[0m \u001B[38;5;28;01mif\u001B[39;00m \u001B[38;5;28mformat\u001B[39m \u001B[38;5;129;01mis\u001B[39;00m \u001B[38;5;129;01mnot\u001B[39;00m \u001B[38;5;28;01mNone\u001B[39;00m \u001B[38;5;129;01mand\u001B[39;00m \u001B[38;5;28mformat\u001B[39m \u001B[38;5;241m!=\u001B[39m \u001B[38;5;124m\"\u001B[39m\u001B[38;5;124mmixed\u001B[39m\u001B[38;5;124m\"\u001B[39m:\n\u001B[0;32m--> 488\u001B[0m     \u001B[38;5;28;01mreturn\u001B[39;00m _array_strptime_with_fallback(arg, name, utc, \u001B[38;5;28mformat\u001B[39m, exact, errors)\n\u001B[1;32m    490\u001B[0m result, tz_parsed \u001B[38;5;241m=\u001B[39m objects_to_datetime64ns(\n\u001B[1;32m    491\u001B[0m     arg,\n\u001B[1;32m    492\u001B[0m     dayfirst\u001B[38;5;241m=\u001B[39mdayfirst,\n\u001B[0;32m   (...)\u001B[0m\n\u001B[1;32m    496\u001B[0m     allow_object\u001B[38;5;241m=\u001B[39m\u001B[38;5;28;01mTrue\u001B[39;00m,\n\u001B[1;32m    497\u001B[0m )\n\u001B[1;32m    499\u001B[0m \u001B[38;5;28;01mif\u001B[39;00m tz_parsed \u001B[38;5;129;01mis\u001B[39;00m \u001B[38;5;129;01mnot\u001B[39;00m \u001B[38;5;28;01mNone\u001B[39;00m:\n\u001B[1;32m    500\u001B[0m     \u001B[38;5;66;03m# We can take a shortcut since the datetime64 numpy array\u001B[39;00m\n\u001B[1;32m    501\u001B[0m     \u001B[38;5;66;03m# is in UTC\u001B[39;00m\n",
      "File \u001B[0;32m~/anaconda3/envs/imdb-env/lib/python3.11/site-packages/pandas/core/tools/datetimes.py:519\u001B[0m, in \u001B[0;36m_array_strptime_with_fallback\u001B[0;34m(arg, name, utc, fmt, exact, errors)\u001B[0m\n\u001B[1;32m    508\u001B[0m \u001B[38;5;28;01mdef\u001B[39;00m \u001B[38;5;21m_array_strptime_with_fallback\u001B[39m(\n\u001B[1;32m    509\u001B[0m     arg,\n\u001B[1;32m    510\u001B[0m     name,\n\u001B[0;32m   (...)\u001B[0m\n\u001B[1;32m    514\u001B[0m     errors: \u001B[38;5;28mstr\u001B[39m,\n\u001B[1;32m    515\u001B[0m ) \u001B[38;5;241m-\u001B[39m\u001B[38;5;241m>\u001B[39m Index:\n\u001B[1;32m    516\u001B[0m \u001B[38;5;250m    \u001B[39m\u001B[38;5;124;03m\"\"\"\u001B[39;00m\n\u001B[1;32m    517\u001B[0m \u001B[38;5;124;03m    Call array_strptime, with fallback behavior depending on 'errors'.\u001B[39;00m\n\u001B[1;32m    518\u001B[0m \u001B[38;5;124;03m    \"\"\"\u001B[39;00m\n\u001B[0;32m--> 519\u001B[0m     result, timezones \u001B[38;5;241m=\u001B[39m array_strptime(arg, fmt, exact\u001B[38;5;241m=\u001B[39mexact, errors\u001B[38;5;241m=\u001B[39merrors, utc\u001B[38;5;241m=\u001B[39mutc)\n\u001B[1;32m    520\u001B[0m     \u001B[38;5;28;01mif\u001B[39;00m \u001B[38;5;28many\u001B[39m(tz \u001B[38;5;129;01mis\u001B[39;00m \u001B[38;5;129;01mnot\u001B[39;00m \u001B[38;5;28;01mNone\u001B[39;00m \u001B[38;5;28;01mfor\u001B[39;00m tz \u001B[38;5;129;01min\u001B[39;00m timezones):\n\u001B[1;32m    521\u001B[0m         \u001B[38;5;28;01mreturn\u001B[39;00m _return_parsed_timezone_results(result, timezones, utc, name)\n",
      "File \u001B[0;32mstrptime.pyx:534\u001B[0m, in \u001B[0;36mpandas._libs.tslibs.strptime.array_strptime\u001B[0;34m()\u001B[0m\n",
      "File \u001B[0;32mstrptime.pyx:355\u001B[0m, in \u001B[0;36mpandas._libs.tslibs.strptime.array_strptime\u001B[0;34m()\u001B[0m\n",
      "\u001B[0;31mValueError\u001B[0m: time data \"2017-02-19\" doesn't match format \"%d %B %Y\", at position 0. You might want to try:\n    - passing `format` if your strings have a consistent format;\n    - passing `format='ISO8601'` if your strings are all ISO8601 but not necessarily in exactly the same format;\n    - passing `format='mixed'`, and the format will be inferred for each element individually. You might want to use `dayfirst` alongside this."
     ]
    }
   ],
   "source": [
    "import pandas as pd\n",
    "df['date'] = pd.to_datetime(df['date'], format='%d %B %Y')"
   ],
   "metadata": {
    "collapsed": false,
    "ExecuteTime": {
     "end_time": "2024-02-21T08:23:16.327200Z",
     "start_time": "2024-02-21T08:23:15.576117Z"
    }
   },
   "id": "93739c41f01bc31",
   "execution_count": 4
  },
  {
   "cell_type": "code",
   "outputs": [],
   "source": [
    "filtered_df = df[(df['date'] >= '2019-07-07') & (df['date'] <= '2023-07-07')]"
   ],
   "metadata": {
    "collapsed": false,
    "ExecuteTime": {
     "end_time": "2024-02-21T08:25:21.370642Z",
     "start_time": "2024-02-21T08:25:21.140317Z"
    }
   },
   "id": "67548e31dbfb0693",
   "execution_count": 7
  },
  {
   "cell_type": "code",
   "outputs": [
    {
     "data": {
      "text/plain": "                           titre        date rating  \\\n29      10 Cloverfield Lane 2016  2020-04-20      8   \n30      10 Cloverfield Lane 2016  2020-04-17      7   \n31      10 Cloverfield Lane 2016  2020-03-28      8   \n32      10 Cloverfield Lane 2016  2020-04-26      7   \n33      10 Cloverfield Lane 2016  2020-01-30      9   \n...                          ...         ...    ...   \n363422             Zootopia 2016  2019-09-22      9   \n363590                 Zulu 1964  2019-09-10     10   \n363639                 Zulu 1964  2020-02-04      7   \n363643                 Zulu 1964  2019-12-05      9   \n363644                 Zulu 1964  2019-12-08      8   \n\n                                                   review     V_000     V_001  \\\n29      Wow. What a great movie. The elements that I c... -0.077323 -0.004481   \n30      Re-watching the drama in a bunker that is \"10 ... -0.011128 -0.123888   \n31      10 Cloverfield Lane is the spiritual successor... -0.011056 -0.146703   \n32      I was conflicted as to whether to categorize t...  0.000616 -0.119908   \n33      Perfect blend of psychological thriller and sc... -0.071494 -0.173537   \n...                                                   ...       ...       ...   \n363422  I thought this movie will be a bit childish wh...  0.001888  0.005863   \n363590  This is one of the great stories of desperate ... -0.022275  0.025854   \n363639  Zulu is a very insparing film to be made and i... -0.097380  0.071633   \n363643  Perhaps the definitive \"front rank - FIRE - se... -0.075340  0.046700   \n363644  A superb adventure tale about a British battal... -0.001502  0.070454   \n\n           V_002     V_003     V_004     V_005  ...     V_374     V_375  \\\n29     -0.034963  0.003825 -0.051284  0.087700  ...  0.166123  0.047323   \n30     -0.011834  0.005997  0.099440  0.042398  ...  0.065701 -0.028880   \n31      0.024542 -0.016547  0.033285  0.025164  ... -0.006621 -0.006107   \n32     -0.030451  0.057456  0.088840  0.031811  ...  0.089608 -0.028282   \n33     -0.042182  0.032867  0.020276  0.069822  ...  0.084687  0.051287   \n...          ...       ...       ...       ...  ...       ...       ...   \n363422  0.035569 -0.025733 -0.041944 -0.003118  ...  0.078794  0.023801   \n363590 -0.058733 -0.036283 -0.009801  0.057069  ...  0.055019  0.095169   \n363639 -0.072917 -0.027049 -0.042245  0.077834  ...  0.031799  0.052796   \n363643 -0.040663  0.027095 -0.035577  0.094851  ... -0.055264 -0.002254   \n363644  0.024415 -0.037207 -0.025254  0.060371  ...  0.076019 -0.011995   \n\n           V_376     V_377     V_378     V_379     V_380     V_381     V_382  \\\n29      0.027773  0.068310 -0.026157 -0.039905  0.039172  0.025349 -0.068604   \n30     -0.001600 -0.007066  0.028005  0.077355 -0.000179  0.002543  0.068592   \n31     -0.017239  0.027955 -0.047392  0.038497  0.039301  0.044566  0.097924   \n32     -0.053157  0.042837 -0.045361  0.029638  0.052224 -0.038201  0.028337   \n33      0.000625  0.021053 -0.036765  0.036208  0.023638 -0.023198 -0.014371   \n...          ...       ...       ...       ...       ...       ...       ...   \n363422 -0.048689  0.019440 -0.086897  0.007176  0.054534  0.046563 -0.010545   \n363590  0.016241  0.033032 -0.094690  0.072714  0.092085 -0.028198 -0.055732   \n363639  0.053089  0.019023 -0.016392 -0.003732  0.104007 -0.008742 -0.018113   \n363643 -0.008843  0.129879 -0.048653  0.006856  0.075826 -0.057989 -0.013790   \n363644  0.002976 -0.029587 -0.050854  0.014946 -0.057326  0.031036 -0.052083   \n\n           V_383  \n29     -0.031989  \n30     -0.004019  \n31      0.039786  \n32      0.045940  \n33      0.004920  \n...          ...  \n363422  0.004381  \n363590  0.048429  \n363639  0.026554  \n363643  0.045864  \n363644 -0.012864  \n\n[19191 rows x 388 columns]",
      "text/html": "<div>\n<style scoped>\n    .dataframe tbody tr th:only-of-type {\n        vertical-align: middle;\n    }\n\n    .dataframe tbody tr th {\n        vertical-align: top;\n    }\n\n    .dataframe thead th {\n        text-align: right;\n    }\n</style>\n<table border=\"1\" class=\"dataframe\">\n  <thead>\n    <tr style=\"text-align: right;\">\n      <th></th>\n      <th>titre</th>\n      <th>date</th>\n      <th>rating</th>\n      <th>review</th>\n      <th>V_000</th>\n      <th>V_001</th>\n      <th>V_002</th>\n      <th>V_003</th>\n      <th>V_004</th>\n      <th>V_005</th>\n      <th>...</th>\n      <th>V_374</th>\n      <th>V_375</th>\n      <th>V_376</th>\n      <th>V_377</th>\n      <th>V_378</th>\n      <th>V_379</th>\n      <th>V_380</th>\n      <th>V_381</th>\n      <th>V_382</th>\n      <th>V_383</th>\n    </tr>\n  </thead>\n  <tbody>\n    <tr>\n      <th>29</th>\n      <td>10 Cloverfield Lane 2016</td>\n      <td>2020-04-20</td>\n      <td>8</td>\n      <td>Wow. What a great movie. The elements that I c...</td>\n      <td>-0.077323</td>\n      <td>-0.004481</td>\n      <td>-0.034963</td>\n      <td>0.003825</td>\n      <td>-0.051284</td>\n      <td>0.087700</td>\n      <td>...</td>\n      <td>0.166123</td>\n      <td>0.047323</td>\n      <td>0.027773</td>\n      <td>0.068310</td>\n      <td>-0.026157</td>\n      <td>-0.039905</td>\n      <td>0.039172</td>\n      <td>0.025349</td>\n      <td>-0.068604</td>\n      <td>-0.031989</td>\n    </tr>\n    <tr>\n      <th>30</th>\n      <td>10 Cloverfield Lane 2016</td>\n      <td>2020-04-17</td>\n      <td>7</td>\n      <td>Re-watching the drama in a bunker that is \"10 ...</td>\n      <td>-0.011128</td>\n      <td>-0.123888</td>\n      <td>-0.011834</td>\n      <td>0.005997</td>\n      <td>0.099440</td>\n      <td>0.042398</td>\n      <td>...</td>\n      <td>0.065701</td>\n      <td>-0.028880</td>\n      <td>-0.001600</td>\n      <td>-0.007066</td>\n      <td>0.028005</td>\n      <td>0.077355</td>\n      <td>-0.000179</td>\n      <td>0.002543</td>\n      <td>0.068592</td>\n      <td>-0.004019</td>\n    </tr>\n    <tr>\n      <th>31</th>\n      <td>10 Cloverfield Lane 2016</td>\n      <td>2020-03-28</td>\n      <td>8</td>\n      <td>10 Cloverfield Lane is the spiritual successor...</td>\n      <td>-0.011056</td>\n      <td>-0.146703</td>\n      <td>0.024542</td>\n      <td>-0.016547</td>\n      <td>0.033285</td>\n      <td>0.025164</td>\n      <td>...</td>\n      <td>-0.006621</td>\n      <td>-0.006107</td>\n      <td>-0.017239</td>\n      <td>0.027955</td>\n      <td>-0.047392</td>\n      <td>0.038497</td>\n      <td>0.039301</td>\n      <td>0.044566</td>\n      <td>0.097924</td>\n      <td>0.039786</td>\n    </tr>\n    <tr>\n      <th>32</th>\n      <td>10 Cloverfield Lane 2016</td>\n      <td>2020-04-26</td>\n      <td>7</td>\n      <td>I was conflicted as to whether to categorize t...</td>\n      <td>0.000616</td>\n      <td>-0.119908</td>\n      <td>-0.030451</td>\n      <td>0.057456</td>\n      <td>0.088840</td>\n      <td>0.031811</td>\n      <td>...</td>\n      <td>0.089608</td>\n      <td>-0.028282</td>\n      <td>-0.053157</td>\n      <td>0.042837</td>\n      <td>-0.045361</td>\n      <td>0.029638</td>\n      <td>0.052224</td>\n      <td>-0.038201</td>\n      <td>0.028337</td>\n      <td>0.045940</td>\n    </tr>\n    <tr>\n      <th>33</th>\n      <td>10 Cloverfield Lane 2016</td>\n      <td>2020-01-30</td>\n      <td>9</td>\n      <td>Perfect blend of psychological thriller and sc...</td>\n      <td>-0.071494</td>\n      <td>-0.173537</td>\n      <td>-0.042182</td>\n      <td>0.032867</td>\n      <td>0.020276</td>\n      <td>0.069822</td>\n      <td>...</td>\n      <td>0.084687</td>\n      <td>0.051287</td>\n      <td>0.000625</td>\n      <td>0.021053</td>\n      <td>-0.036765</td>\n      <td>0.036208</td>\n      <td>0.023638</td>\n      <td>-0.023198</td>\n      <td>-0.014371</td>\n      <td>0.004920</td>\n    </tr>\n    <tr>\n      <th>...</th>\n      <td>...</td>\n      <td>...</td>\n      <td>...</td>\n      <td>...</td>\n      <td>...</td>\n      <td>...</td>\n      <td>...</td>\n      <td>...</td>\n      <td>...</td>\n      <td>...</td>\n      <td>...</td>\n      <td>...</td>\n      <td>...</td>\n      <td>...</td>\n      <td>...</td>\n      <td>...</td>\n      <td>...</td>\n      <td>...</td>\n      <td>...</td>\n      <td>...</td>\n      <td>...</td>\n    </tr>\n    <tr>\n      <th>363422</th>\n      <td>Zootopia 2016</td>\n      <td>2019-09-22</td>\n      <td>9</td>\n      <td>I thought this movie will be a bit childish wh...</td>\n      <td>0.001888</td>\n      <td>0.005863</td>\n      <td>0.035569</td>\n      <td>-0.025733</td>\n      <td>-0.041944</td>\n      <td>-0.003118</td>\n      <td>...</td>\n      <td>0.078794</td>\n      <td>0.023801</td>\n      <td>-0.048689</td>\n      <td>0.019440</td>\n      <td>-0.086897</td>\n      <td>0.007176</td>\n      <td>0.054534</td>\n      <td>0.046563</td>\n      <td>-0.010545</td>\n      <td>0.004381</td>\n    </tr>\n    <tr>\n      <th>363590</th>\n      <td>Zulu 1964</td>\n      <td>2019-09-10</td>\n      <td>10</td>\n      <td>This is one of the great stories of desperate ...</td>\n      <td>-0.022275</td>\n      <td>0.025854</td>\n      <td>-0.058733</td>\n      <td>-0.036283</td>\n      <td>-0.009801</td>\n      <td>0.057069</td>\n      <td>...</td>\n      <td>0.055019</td>\n      <td>0.095169</td>\n      <td>0.016241</td>\n      <td>0.033032</td>\n      <td>-0.094690</td>\n      <td>0.072714</td>\n      <td>0.092085</td>\n      <td>-0.028198</td>\n      <td>-0.055732</td>\n      <td>0.048429</td>\n    </tr>\n    <tr>\n      <th>363639</th>\n      <td>Zulu 1964</td>\n      <td>2020-02-04</td>\n      <td>7</td>\n      <td>Zulu is a very insparing film to be made and i...</td>\n      <td>-0.097380</td>\n      <td>0.071633</td>\n      <td>-0.072917</td>\n      <td>-0.027049</td>\n      <td>-0.042245</td>\n      <td>0.077834</td>\n      <td>...</td>\n      <td>0.031799</td>\n      <td>0.052796</td>\n      <td>0.053089</td>\n      <td>0.019023</td>\n      <td>-0.016392</td>\n      <td>-0.003732</td>\n      <td>0.104007</td>\n      <td>-0.008742</td>\n      <td>-0.018113</td>\n      <td>0.026554</td>\n    </tr>\n    <tr>\n      <th>363643</th>\n      <td>Zulu 1964</td>\n      <td>2019-12-05</td>\n      <td>9</td>\n      <td>Perhaps the definitive \"front rank - FIRE - se...</td>\n      <td>-0.075340</td>\n      <td>0.046700</td>\n      <td>-0.040663</td>\n      <td>0.027095</td>\n      <td>-0.035577</td>\n      <td>0.094851</td>\n      <td>...</td>\n      <td>-0.055264</td>\n      <td>-0.002254</td>\n      <td>-0.008843</td>\n      <td>0.129879</td>\n      <td>-0.048653</td>\n      <td>0.006856</td>\n      <td>0.075826</td>\n      <td>-0.057989</td>\n      <td>-0.013790</td>\n      <td>0.045864</td>\n    </tr>\n    <tr>\n      <th>363644</th>\n      <td>Zulu 1964</td>\n      <td>2019-12-08</td>\n      <td>8</td>\n      <td>A superb adventure tale about a British battal...</td>\n      <td>-0.001502</td>\n      <td>0.070454</td>\n      <td>0.024415</td>\n      <td>-0.037207</td>\n      <td>-0.025254</td>\n      <td>0.060371</td>\n      <td>...</td>\n      <td>0.076019</td>\n      <td>-0.011995</td>\n      <td>0.002976</td>\n      <td>-0.029587</td>\n      <td>-0.050854</td>\n      <td>0.014946</td>\n      <td>-0.057326</td>\n      <td>0.031036</td>\n      <td>-0.052083</td>\n      <td>-0.012864</td>\n    </tr>\n  </tbody>\n</table>\n<p>19191 rows × 388 columns</p>\n</div>"
     },
     "execution_count": 8,
     "metadata": {},
     "output_type": "execute_result"
    }
   ],
   "source": [
    "filtered_df"
   ],
   "metadata": {
    "collapsed": false,
    "ExecuteTime": {
     "end_time": "2024-02-21T08:25:22.195908Z",
     "start_time": "2024-02-21T08:25:22.147710Z"
    }
   },
   "id": "bdfe57acab40c3ec",
   "execution_count": 8
  },
  {
   "cell_type": "code",
   "outputs": [],
   "source": [
    "df = df[df['rating']!=\"Null\"]"
   ],
   "metadata": {
    "collapsed": false,
    "ExecuteTime": {
     "end_time": "2024-02-20T19:46:01.079098Z",
     "start_time": "2024-02-20T19:46:00.270656Z"
    }
   },
   "id": "2f5db31f50710031",
   "execution_count": 4
  },
  {
   "cell_type": "code",
   "outputs": [
    {
     "data": {
      "text/plain": "                           titre        date rating  \\\n0       10 Cloverfield Lane 2016  2017-02-19      3   \n1       10 Cloverfield Lane 2016  2017-02-10      5   \n2       10 Cloverfield Lane 2016  2016-12-14      1   \n3       10 Cloverfield Lane 2016  2016-08-30      6   \n4       10 Cloverfield Lane 2016  2016-07-21      5   \n...                          ...         ...    ...   \n363658                 Zulu 1964  2013-06-17      5   \n363659                 Zulu 1964  2006-07-09      3   \n363664                 Zulu 1964  2001-03-18     10   \n363669                 Zulu 1964  2007-09-03      9   \n363670                 Zulu 1964  2017-12-19      7   \n\n                                                   review     V_000     V_001  \\\n0       I wish I could rate the first hour of this mov... -0.028970 -0.001207   \n1       Movie Rating like this on IMDb makes it really... -0.059906 -0.007888   \n2       I would love to spoil this so you won't waste ... -0.112675  0.003736   \n3       Great suspense, Goodman doing an excellent job... -0.010714  0.002267   \n4       I've never seen the original \"Cloverfield\", bu... -0.027969 -0.152922   \n...                                                   ...       ...       ...   \n363658  ZULUWhat a disappointment. I was thinking this... -0.129043  0.001314   \n363659  It was painfully obviously watching 'Zulu' tha... -0.120940  0.022492   \n363664  Although the film makes a few historical error... -0.093720  0.047275   \n363669  I love the movie Zulu, as well as Russel Crowe... -0.098427  0.068596   \n363670  Although he had been acting in movies since at... -0.110094  0.012454   \n\n           V_002     V_003     V_004     V_005  ...     V_374     V_375  \\\n0      -0.002391  0.060831  0.074947  0.017567  ...  0.118595  0.020172   \n1      -0.028277  0.062930  0.048968 -0.006634  ...  0.155309 -0.067951   \n2       0.003658  0.030246  0.031492  0.056028  ...  0.078484 -0.034838   \n3      -0.064918  0.096290  0.062443  0.076409  ...  0.091952 -0.017621   \n4      -0.013353  0.007773  0.055064  0.032211  ...  0.067877  0.047383   \n...          ...       ...       ...       ...  ...       ...       ...   \n363658 -0.109946  0.018224 -0.091467  0.053675  ...  0.025184  0.026565   \n363659 -0.049983  0.031896  0.003427  0.133443  ...  0.044710 -0.026632   \n363664 -0.065158 -0.000644 -0.043440  0.050563  ...  0.012096  0.035983   \n363669 -0.106839 -0.069263 -0.100559  0.029045  ...  0.035211  0.017315   \n363670 -0.125467  0.041177 -0.137888  0.066763  ...  0.024090 -0.051147   \n\n           V_376     V_377     V_378     V_379     V_380     V_381     V_382  \\\n0      -0.054436  0.017774 -0.041132  0.079366 -0.017481  0.001618 -0.063559   \n1      -0.039774  0.009251 -0.061647  0.077600  0.022015 -0.027876  0.033053   \n2      -0.026177  0.079169 -0.056632  0.022633 -0.022436 -0.030744 -0.034435   \n3      -0.001879 -0.132019 -0.046799 -0.004026 -0.038562 -0.024723 -0.074742   \n4      -0.039394  0.018294  0.004541  0.039569 -0.033773  0.007929  0.034427   \n...          ...       ...       ...       ...       ...       ...       ...   \n363658  0.018836  0.039882 -0.017201  0.051592  0.069132 -0.068010 -0.097546   \n363659  0.049450  0.075306 -0.056932  0.032155  0.052508 -0.071337 -0.055896   \n363664 -0.005378  0.036312 -0.014196  0.076289 -0.005047 -0.010306 -0.090026   \n363669 -0.020371  0.040703  0.003274  0.047114  0.088187  0.082322 -0.018698   \n363670  0.033784  0.025397 -0.037445  0.055676  0.089556 -0.058645 -0.025363   \n\n           V_383  \n0      -0.035152  \n1       0.054762  \n2      -0.019224  \n3      -0.052700  \n4       0.022803  \n...          ...  \n363658  0.018902  \n363659  0.004316  \n363664 -0.018628  \n363669 -0.025632  \n363670 -0.006149  \n\n[323068 rows x 388 columns]",
      "text/html": "<div>\n<style scoped>\n    .dataframe tbody tr th:only-of-type {\n        vertical-align: middle;\n    }\n\n    .dataframe tbody tr th {\n        vertical-align: top;\n    }\n\n    .dataframe thead th {\n        text-align: right;\n    }\n</style>\n<table border=\"1\" class=\"dataframe\">\n  <thead>\n    <tr style=\"text-align: right;\">\n      <th></th>\n      <th>titre</th>\n      <th>date</th>\n      <th>rating</th>\n      <th>review</th>\n      <th>V_000</th>\n      <th>V_001</th>\n      <th>V_002</th>\n      <th>V_003</th>\n      <th>V_004</th>\n      <th>V_005</th>\n      <th>...</th>\n      <th>V_374</th>\n      <th>V_375</th>\n      <th>V_376</th>\n      <th>V_377</th>\n      <th>V_378</th>\n      <th>V_379</th>\n      <th>V_380</th>\n      <th>V_381</th>\n      <th>V_382</th>\n      <th>V_383</th>\n    </tr>\n  </thead>\n  <tbody>\n    <tr>\n      <th>0</th>\n      <td>10 Cloverfield Lane 2016</td>\n      <td>2017-02-19</td>\n      <td>3</td>\n      <td>I wish I could rate the first hour of this mov...</td>\n      <td>-0.028970</td>\n      <td>-0.001207</td>\n      <td>-0.002391</td>\n      <td>0.060831</td>\n      <td>0.074947</td>\n      <td>0.017567</td>\n      <td>...</td>\n      <td>0.118595</td>\n      <td>0.020172</td>\n      <td>-0.054436</td>\n      <td>0.017774</td>\n      <td>-0.041132</td>\n      <td>0.079366</td>\n      <td>-0.017481</td>\n      <td>0.001618</td>\n      <td>-0.063559</td>\n      <td>-0.035152</td>\n    </tr>\n    <tr>\n      <th>1</th>\n      <td>10 Cloverfield Lane 2016</td>\n      <td>2017-02-10</td>\n      <td>5</td>\n      <td>Movie Rating like this on IMDb makes it really...</td>\n      <td>-0.059906</td>\n      <td>-0.007888</td>\n      <td>-0.028277</td>\n      <td>0.062930</td>\n      <td>0.048968</td>\n      <td>-0.006634</td>\n      <td>...</td>\n      <td>0.155309</td>\n      <td>-0.067951</td>\n      <td>-0.039774</td>\n      <td>0.009251</td>\n      <td>-0.061647</td>\n      <td>0.077600</td>\n      <td>0.022015</td>\n      <td>-0.027876</td>\n      <td>0.033053</td>\n      <td>0.054762</td>\n    </tr>\n    <tr>\n      <th>2</th>\n      <td>10 Cloverfield Lane 2016</td>\n      <td>2016-12-14</td>\n      <td>1</td>\n      <td>I would love to spoil this so you won't waste ...</td>\n      <td>-0.112675</td>\n      <td>0.003736</td>\n      <td>0.003658</td>\n      <td>0.030246</td>\n      <td>0.031492</td>\n      <td>0.056028</td>\n      <td>...</td>\n      <td>0.078484</td>\n      <td>-0.034838</td>\n      <td>-0.026177</td>\n      <td>0.079169</td>\n      <td>-0.056632</td>\n      <td>0.022633</td>\n      <td>-0.022436</td>\n      <td>-0.030744</td>\n      <td>-0.034435</td>\n      <td>-0.019224</td>\n    </tr>\n    <tr>\n      <th>3</th>\n      <td>10 Cloverfield Lane 2016</td>\n      <td>2016-08-30</td>\n      <td>6</td>\n      <td>Great suspense, Goodman doing an excellent job...</td>\n      <td>-0.010714</td>\n      <td>0.002267</td>\n      <td>-0.064918</td>\n      <td>0.096290</td>\n      <td>0.062443</td>\n      <td>0.076409</td>\n      <td>...</td>\n      <td>0.091952</td>\n      <td>-0.017621</td>\n      <td>-0.001879</td>\n      <td>-0.132019</td>\n      <td>-0.046799</td>\n      <td>-0.004026</td>\n      <td>-0.038562</td>\n      <td>-0.024723</td>\n      <td>-0.074742</td>\n      <td>-0.052700</td>\n    </tr>\n    <tr>\n      <th>4</th>\n      <td>10 Cloverfield Lane 2016</td>\n      <td>2016-07-21</td>\n      <td>5</td>\n      <td>I've never seen the original \"Cloverfield\", bu...</td>\n      <td>-0.027969</td>\n      <td>-0.152922</td>\n      <td>-0.013353</td>\n      <td>0.007773</td>\n      <td>0.055064</td>\n      <td>0.032211</td>\n      <td>...</td>\n      <td>0.067877</td>\n      <td>0.047383</td>\n      <td>-0.039394</td>\n      <td>0.018294</td>\n      <td>0.004541</td>\n      <td>0.039569</td>\n      <td>-0.033773</td>\n      <td>0.007929</td>\n      <td>0.034427</td>\n      <td>0.022803</td>\n    </tr>\n    <tr>\n      <th>...</th>\n      <td>...</td>\n      <td>...</td>\n      <td>...</td>\n      <td>...</td>\n      <td>...</td>\n      <td>...</td>\n      <td>...</td>\n      <td>...</td>\n      <td>...</td>\n      <td>...</td>\n      <td>...</td>\n      <td>...</td>\n      <td>...</td>\n      <td>...</td>\n      <td>...</td>\n      <td>...</td>\n      <td>...</td>\n      <td>...</td>\n      <td>...</td>\n      <td>...</td>\n      <td>...</td>\n    </tr>\n    <tr>\n      <th>363658</th>\n      <td>Zulu 1964</td>\n      <td>2013-06-17</td>\n      <td>5</td>\n      <td>ZULUWhat a disappointment. I was thinking this...</td>\n      <td>-0.129043</td>\n      <td>0.001314</td>\n      <td>-0.109946</td>\n      <td>0.018224</td>\n      <td>-0.091467</td>\n      <td>0.053675</td>\n      <td>...</td>\n      <td>0.025184</td>\n      <td>0.026565</td>\n      <td>0.018836</td>\n      <td>0.039882</td>\n      <td>-0.017201</td>\n      <td>0.051592</td>\n      <td>0.069132</td>\n      <td>-0.068010</td>\n      <td>-0.097546</td>\n      <td>0.018902</td>\n    </tr>\n    <tr>\n      <th>363659</th>\n      <td>Zulu 1964</td>\n      <td>2006-07-09</td>\n      <td>3</td>\n      <td>It was painfully obviously watching 'Zulu' tha...</td>\n      <td>-0.120940</td>\n      <td>0.022492</td>\n      <td>-0.049983</td>\n      <td>0.031896</td>\n      <td>0.003427</td>\n      <td>0.133443</td>\n      <td>...</td>\n      <td>0.044710</td>\n      <td>-0.026632</td>\n      <td>0.049450</td>\n      <td>0.075306</td>\n      <td>-0.056932</td>\n      <td>0.032155</td>\n      <td>0.052508</td>\n      <td>-0.071337</td>\n      <td>-0.055896</td>\n      <td>0.004316</td>\n    </tr>\n    <tr>\n      <th>363664</th>\n      <td>Zulu 1964</td>\n      <td>2001-03-18</td>\n      <td>10</td>\n      <td>Although the film makes a few historical error...</td>\n      <td>-0.093720</td>\n      <td>0.047275</td>\n      <td>-0.065158</td>\n      <td>-0.000644</td>\n      <td>-0.043440</td>\n      <td>0.050563</td>\n      <td>...</td>\n      <td>0.012096</td>\n      <td>0.035983</td>\n      <td>-0.005378</td>\n      <td>0.036312</td>\n      <td>-0.014196</td>\n      <td>0.076289</td>\n      <td>-0.005047</td>\n      <td>-0.010306</td>\n      <td>-0.090026</td>\n      <td>-0.018628</td>\n    </tr>\n    <tr>\n      <th>363669</th>\n      <td>Zulu 1964</td>\n      <td>2007-09-03</td>\n      <td>9</td>\n      <td>I love the movie Zulu, as well as Russel Crowe...</td>\n      <td>-0.098427</td>\n      <td>0.068596</td>\n      <td>-0.106839</td>\n      <td>-0.069263</td>\n      <td>-0.100559</td>\n      <td>0.029045</td>\n      <td>...</td>\n      <td>0.035211</td>\n      <td>0.017315</td>\n      <td>-0.020371</td>\n      <td>0.040703</td>\n      <td>0.003274</td>\n      <td>0.047114</td>\n      <td>0.088187</td>\n      <td>0.082322</td>\n      <td>-0.018698</td>\n      <td>-0.025632</td>\n    </tr>\n    <tr>\n      <th>363670</th>\n      <td>Zulu 1964</td>\n      <td>2017-12-19</td>\n      <td>7</td>\n      <td>Although he had been acting in movies since at...</td>\n      <td>-0.110094</td>\n      <td>0.012454</td>\n      <td>-0.125467</td>\n      <td>0.041177</td>\n      <td>-0.137888</td>\n      <td>0.066763</td>\n      <td>...</td>\n      <td>0.024090</td>\n      <td>-0.051147</td>\n      <td>0.033784</td>\n      <td>0.025397</td>\n      <td>-0.037445</td>\n      <td>0.055676</td>\n      <td>0.089556</td>\n      <td>-0.058645</td>\n      <td>-0.025363</td>\n      <td>-0.006149</td>\n    </tr>\n  </tbody>\n</table>\n<p>323068 rows × 388 columns</p>\n</div>"
     },
     "execution_count": 5,
     "metadata": {},
     "output_type": "execute_result"
    }
   ],
   "source": [
    "df"
   ],
   "metadata": {
    "collapsed": false,
    "ExecuteTime": {
     "end_time": "2024-02-20T19:46:01.282602Z",
     "start_time": "2024-02-20T19:46:01.082452Z"
    }
   },
   "id": "a6ce73b99508a1df",
   "execution_count": 5
  },
  {
   "cell_type": "code",
   "outputs": [
    {
     "name": "stderr",
     "output_type": "stream",
     "text": [
      "/var/folders/zg/hxpx13fs79v6f0ps79jp1ymc0000gn/T/ipykernel_20350/38215892.py:2: SettingWithCopyWarning: \n",
      "A value is trying to be set on a copy of a slice from a DataFrame.\n",
      "Try using .loc[row_indexer,col_indexer] = value instead\n",
      "\n",
      "See the caveats in the documentation: https://pandas.pydata.org/pandas-docs/stable/user_guide/indexing.html#returning-a-view-versus-a-copy\n",
      "  df.loc[:, 'interest'] = df.loc[:, 'rating'] > 5\n"
     ]
    }
   ],
   "source": [
    "df.loc[:, 'rating'] = df.loc[:, 'rating'].astype(int)\n",
    "df.loc[:, 'interest'] = df.loc[:, 'rating'] > 5"
   ],
   "metadata": {
    "collapsed": false,
    "ExecuteTime": {
     "end_time": "2024-02-20T19:46:01.311012Z",
     "start_time": "2024-02-20T19:46:01.296393Z"
    }
   },
   "id": "e57074ea28032f44",
   "execution_count": 6
  },
  {
   "cell_type": "code",
   "outputs": [
    {
     "data": {
      "text/plain": "                           titre        date rating  \\\n0       10 Cloverfield Lane 2016  2017-02-19      3   \n1       10 Cloverfield Lane 2016  2017-02-10      5   \n2       10 Cloverfield Lane 2016  2016-12-14      1   \n3       10 Cloverfield Lane 2016  2016-08-30      6   \n4       10 Cloverfield Lane 2016  2016-07-21      5   \n...                          ...         ...    ...   \n363658                 Zulu 1964  2013-06-17      5   \n363659                 Zulu 1964  2006-07-09      3   \n363664                 Zulu 1964  2001-03-18     10   \n363669                 Zulu 1964  2007-09-03      9   \n363670                 Zulu 1964  2017-12-19      7   \n\n                                                   review     V_000     V_001  \\\n0       I wish I could rate the first hour of this mov... -0.028970 -0.001207   \n1       Movie Rating like this on IMDb makes it really... -0.059906 -0.007888   \n2       I would love to spoil this so you won't waste ... -0.112675  0.003736   \n3       Great suspense, Goodman doing an excellent job... -0.010714  0.002267   \n4       I've never seen the original \"Cloverfield\", bu... -0.027969 -0.152922   \n...                                                   ...       ...       ...   \n363658  ZULUWhat a disappointment. I was thinking this... -0.129043  0.001314   \n363659  It was painfully obviously watching 'Zulu' tha... -0.120940  0.022492   \n363664  Although the film makes a few historical error... -0.093720  0.047275   \n363669  I love the movie Zulu, as well as Russel Crowe... -0.098427  0.068596   \n363670  Although he had been acting in movies since at... -0.110094  0.012454   \n\n           V_002     V_003     V_004     V_005  ...     V_375     V_376  \\\n0      -0.002391  0.060831  0.074947  0.017567  ...  0.020172 -0.054436   \n1      -0.028277  0.062930  0.048968 -0.006634  ... -0.067951 -0.039774   \n2       0.003658  0.030246  0.031492  0.056028  ... -0.034838 -0.026177   \n3      -0.064918  0.096290  0.062443  0.076409  ... -0.017621 -0.001879   \n4      -0.013353  0.007773  0.055064  0.032211  ...  0.047383 -0.039394   \n...          ...       ...       ...       ...  ...       ...       ...   \n363658 -0.109946  0.018224 -0.091467  0.053675  ...  0.026565  0.018836   \n363659 -0.049983  0.031896  0.003427  0.133443  ... -0.026632  0.049450   \n363664 -0.065158 -0.000644 -0.043440  0.050563  ...  0.035983 -0.005378   \n363669 -0.106839 -0.069263 -0.100559  0.029045  ...  0.017315 -0.020371   \n363670 -0.125467  0.041177 -0.137888  0.066763  ... -0.051147  0.033784   \n\n           V_377     V_378     V_379     V_380     V_381     V_382     V_383  \\\n0       0.017774 -0.041132  0.079366 -0.017481  0.001618 -0.063559 -0.035152   \n1       0.009251 -0.061647  0.077600  0.022015 -0.027876  0.033053  0.054762   \n2       0.079169 -0.056632  0.022633 -0.022436 -0.030744 -0.034435 -0.019224   \n3      -0.132019 -0.046799 -0.004026 -0.038562 -0.024723 -0.074742 -0.052700   \n4       0.018294  0.004541  0.039569 -0.033773  0.007929  0.034427  0.022803   \n...          ...       ...       ...       ...       ...       ...       ...   \n363658  0.039882 -0.017201  0.051592  0.069132 -0.068010 -0.097546  0.018902   \n363659  0.075306 -0.056932  0.032155  0.052508 -0.071337 -0.055896  0.004316   \n363664  0.036312 -0.014196  0.076289 -0.005047 -0.010306 -0.090026 -0.018628   \n363669  0.040703  0.003274  0.047114  0.088187  0.082322 -0.018698 -0.025632   \n363670  0.025397 -0.037445  0.055676  0.089556 -0.058645 -0.025363 -0.006149   \n\n        interest  \n0          False  \n1          False  \n2          False  \n3           True  \n4          False  \n...          ...  \n363658     False  \n363659     False  \n363664      True  \n363669      True  \n363670      True  \n\n[323068 rows x 389 columns]",
      "text/html": "<div>\n<style scoped>\n    .dataframe tbody tr th:only-of-type {\n        vertical-align: middle;\n    }\n\n    .dataframe tbody tr th {\n        vertical-align: top;\n    }\n\n    .dataframe thead th {\n        text-align: right;\n    }\n</style>\n<table border=\"1\" class=\"dataframe\">\n  <thead>\n    <tr style=\"text-align: right;\">\n      <th></th>\n      <th>titre</th>\n      <th>date</th>\n      <th>rating</th>\n      <th>review</th>\n      <th>V_000</th>\n      <th>V_001</th>\n      <th>V_002</th>\n      <th>V_003</th>\n      <th>V_004</th>\n      <th>V_005</th>\n      <th>...</th>\n      <th>V_375</th>\n      <th>V_376</th>\n      <th>V_377</th>\n      <th>V_378</th>\n      <th>V_379</th>\n      <th>V_380</th>\n      <th>V_381</th>\n      <th>V_382</th>\n      <th>V_383</th>\n      <th>interest</th>\n    </tr>\n  </thead>\n  <tbody>\n    <tr>\n      <th>0</th>\n      <td>10 Cloverfield Lane 2016</td>\n      <td>2017-02-19</td>\n      <td>3</td>\n      <td>I wish I could rate the first hour of this mov...</td>\n      <td>-0.028970</td>\n      <td>-0.001207</td>\n      <td>-0.002391</td>\n      <td>0.060831</td>\n      <td>0.074947</td>\n      <td>0.017567</td>\n      <td>...</td>\n      <td>0.020172</td>\n      <td>-0.054436</td>\n      <td>0.017774</td>\n      <td>-0.041132</td>\n      <td>0.079366</td>\n      <td>-0.017481</td>\n      <td>0.001618</td>\n      <td>-0.063559</td>\n      <td>-0.035152</td>\n      <td>False</td>\n    </tr>\n    <tr>\n      <th>1</th>\n      <td>10 Cloverfield Lane 2016</td>\n      <td>2017-02-10</td>\n      <td>5</td>\n      <td>Movie Rating like this on IMDb makes it really...</td>\n      <td>-0.059906</td>\n      <td>-0.007888</td>\n      <td>-0.028277</td>\n      <td>0.062930</td>\n      <td>0.048968</td>\n      <td>-0.006634</td>\n      <td>...</td>\n      <td>-0.067951</td>\n      <td>-0.039774</td>\n      <td>0.009251</td>\n      <td>-0.061647</td>\n      <td>0.077600</td>\n      <td>0.022015</td>\n      <td>-0.027876</td>\n      <td>0.033053</td>\n      <td>0.054762</td>\n      <td>False</td>\n    </tr>\n    <tr>\n      <th>2</th>\n      <td>10 Cloverfield Lane 2016</td>\n      <td>2016-12-14</td>\n      <td>1</td>\n      <td>I would love to spoil this so you won't waste ...</td>\n      <td>-0.112675</td>\n      <td>0.003736</td>\n      <td>0.003658</td>\n      <td>0.030246</td>\n      <td>0.031492</td>\n      <td>0.056028</td>\n      <td>...</td>\n      <td>-0.034838</td>\n      <td>-0.026177</td>\n      <td>0.079169</td>\n      <td>-0.056632</td>\n      <td>0.022633</td>\n      <td>-0.022436</td>\n      <td>-0.030744</td>\n      <td>-0.034435</td>\n      <td>-0.019224</td>\n      <td>False</td>\n    </tr>\n    <tr>\n      <th>3</th>\n      <td>10 Cloverfield Lane 2016</td>\n      <td>2016-08-30</td>\n      <td>6</td>\n      <td>Great suspense, Goodman doing an excellent job...</td>\n      <td>-0.010714</td>\n      <td>0.002267</td>\n      <td>-0.064918</td>\n      <td>0.096290</td>\n      <td>0.062443</td>\n      <td>0.076409</td>\n      <td>...</td>\n      <td>-0.017621</td>\n      <td>-0.001879</td>\n      <td>-0.132019</td>\n      <td>-0.046799</td>\n      <td>-0.004026</td>\n      <td>-0.038562</td>\n      <td>-0.024723</td>\n      <td>-0.074742</td>\n      <td>-0.052700</td>\n      <td>True</td>\n    </tr>\n    <tr>\n      <th>4</th>\n      <td>10 Cloverfield Lane 2016</td>\n      <td>2016-07-21</td>\n      <td>5</td>\n      <td>I've never seen the original \"Cloverfield\", bu...</td>\n      <td>-0.027969</td>\n      <td>-0.152922</td>\n      <td>-0.013353</td>\n      <td>0.007773</td>\n      <td>0.055064</td>\n      <td>0.032211</td>\n      <td>...</td>\n      <td>0.047383</td>\n      <td>-0.039394</td>\n      <td>0.018294</td>\n      <td>0.004541</td>\n      <td>0.039569</td>\n      <td>-0.033773</td>\n      <td>0.007929</td>\n      <td>0.034427</td>\n      <td>0.022803</td>\n      <td>False</td>\n    </tr>\n    <tr>\n      <th>...</th>\n      <td>...</td>\n      <td>...</td>\n      <td>...</td>\n      <td>...</td>\n      <td>...</td>\n      <td>...</td>\n      <td>...</td>\n      <td>...</td>\n      <td>...</td>\n      <td>...</td>\n      <td>...</td>\n      <td>...</td>\n      <td>...</td>\n      <td>...</td>\n      <td>...</td>\n      <td>...</td>\n      <td>...</td>\n      <td>...</td>\n      <td>...</td>\n      <td>...</td>\n      <td>...</td>\n    </tr>\n    <tr>\n      <th>363658</th>\n      <td>Zulu 1964</td>\n      <td>2013-06-17</td>\n      <td>5</td>\n      <td>ZULUWhat a disappointment. I was thinking this...</td>\n      <td>-0.129043</td>\n      <td>0.001314</td>\n      <td>-0.109946</td>\n      <td>0.018224</td>\n      <td>-0.091467</td>\n      <td>0.053675</td>\n      <td>...</td>\n      <td>0.026565</td>\n      <td>0.018836</td>\n      <td>0.039882</td>\n      <td>-0.017201</td>\n      <td>0.051592</td>\n      <td>0.069132</td>\n      <td>-0.068010</td>\n      <td>-0.097546</td>\n      <td>0.018902</td>\n      <td>False</td>\n    </tr>\n    <tr>\n      <th>363659</th>\n      <td>Zulu 1964</td>\n      <td>2006-07-09</td>\n      <td>3</td>\n      <td>It was painfully obviously watching 'Zulu' tha...</td>\n      <td>-0.120940</td>\n      <td>0.022492</td>\n      <td>-0.049983</td>\n      <td>0.031896</td>\n      <td>0.003427</td>\n      <td>0.133443</td>\n      <td>...</td>\n      <td>-0.026632</td>\n      <td>0.049450</td>\n      <td>0.075306</td>\n      <td>-0.056932</td>\n      <td>0.032155</td>\n      <td>0.052508</td>\n      <td>-0.071337</td>\n      <td>-0.055896</td>\n      <td>0.004316</td>\n      <td>False</td>\n    </tr>\n    <tr>\n      <th>363664</th>\n      <td>Zulu 1964</td>\n      <td>2001-03-18</td>\n      <td>10</td>\n      <td>Although the film makes a few historical error...</td>\n      <td>-0.093720</td>\n      <td>0.047275</td>\n      <td>-0.065158</td>\n      <td>-0.000644</td>\n      <td>-0.043440</td>\n      <td>0.050563</td>\n      <td>...</td>\n      <td>0.035983</td>\n      <td>-0.005378</td>\n      <td>0.036312</td>\n      <td>-0.014196</td>\n      <td>0.076289</td>\n      <td>-0.005047</td>\n      <td>-0.010306</td>\n      <td>-0.090026</td>\n      <td>-0.018628</td>\n      <td>True</td>\n    </tr>\n    <tr>\n      <th>363669</th>\n      <td>Zulu 1964</td>\n      <td>2007-09-03</td>\n      <td>9</td>\n      <td>I love the movie Zulu, as well as Russel Crowe...</td>\n      <td>-0.098427</td>\n      <td>0.068596</td>\n      <td>-0.106839</td>\n      <td>-0.069263</td>\n      <td>-0.100559</td>\n      <td>0.029045</td>\n      <td>...</td>\n      <td>0.017315</td>\n      <td>-0.020371</td>\n      <td>0.040703</td>\n      <td>0.003274</td>\n      <td>0.047114</td>\n      <td>0.088187</td>\n      <td>0.082322</td>\n      <td>-0.018698</td>\n      <td>-0.025632</td>\n      <td>True</td>\n    </tr>\n    <tr>\n      <th>363670</th>\n      <td>Zulu 1964</td>\n      <td>2017-12-19</td>\n      <td>7</td>\n      <td>Although he had been acting in movies since at...</td>\n      <td>-0.110094</td>\n      <td>0.012454</td>\n      <td>-0.125467</td>\n      <td>0.041177</td>\n      <td>-0.137888</td>\n      <td>0.066763</td>\n      <td>...</td>\n      <td>-0.051147</td>\n      <td>0.033784</td>\n      <td>0.025397</td>\n      <td>-0.037445</td>\n      <td>0.055676</td>\n      <td>0.089556</td>\n      <td>-0.058645</td>\n      <td>-0.025363</td>\n      <td>-0.006149</td>\n      <td>True</td>\n    </tr>\n  </tbody>\n</table>\n<p>323068 rows × 389 columns</p>\n</div>"
     },
     "execution_count": 7,
     "metadata": {},
     "output_type": "execute_result"
    }
   ],
   "source": [
    "df"
   ],
   "metadata": {
    "collapsed": false,
    "ExecuteTime": {
     "end_time": "2024-02-20T19:46:01.490239Z",
     "start_time": "2024-02-20T19:46:01.309804Z"
    }
   },
   "id": "c063356214c1cead",
   "execution_count": 7
  },
  {
   "cell_type": "code",
   "outputs": [],
   "source": [
    "from sklearn.model_selection import train_test_split\n",
    "from sklearn.ensemble import RandomForestClassifier\n",
    "\n",
    "all_embeddings = df.loc[:, 'V_000':'V_383'].values"
   ],
   "metadata": {
    "collapsed": false,
    "ExecuteTime": {
     "end_time": "2024-02-20T19:46:02.570634Z",
     "start_time": "2024-02-20T19:46:01.415719Z"
    }
   },
   "id": "7ee69af3961108c7",
   "execution_count": 8
  },
  {
   "cell_type": "code",
   "outputs": [
    {
     "data": {
      "text/plain": "array([[-0.02897027, -0.00120731, -0.00239063, ...,  0.00161753,\n        -0.06355875, -0.03515229],\n       [-0.0599062 , -0.0078885 , -0.02827744, ..., -0.02787636,\n         0.03305256,  0.05476224],\n       [-0.11267489,  0.00373579,  0.00365808, ..., -0.03074365,\n        -0.03443517, -0.01922402],\n       ...,\n       [-0.09371997,  0.0472754 , -0.06515842, ..., -0.01030607,\n        -0.09002556, -0.01862782],\n       [-0.09842689,  0.06859558, -0.10683938, ...,  0.08232174,\n        -0.01869815, -0.0256323 ],\n       [-0.1100945 ,  0.01245435, -0.1254672 , ..., -0.05864544,\n        -0.02536283, -0.00614893]])"
     },
     "execution_count": 9,
     "metadata": {},
     "output_type": "execute_result"
    }
   ],
   "source": [
    "all_embeddings"
   ],
   "metadata": {
    "collapsed": false,
    "ExecuteTime": {
     "end_time": "2024-02-20T19:46:02.575447Z",
     "start_time": "2024-02-20T19:46:02.559445Z"
    }
   },
   "id": "14f5a5ee813f0e93",
   "execution_count": 9
  },
  {
   "cell_type": "code",
   "outputs": [
    {
     "data": {
      "text/plain": "numpy.ndarray"
     },
     "execution_count": 10,
     "metadata": {},
     "output_type": "execute_result"
    }
   ],
   "source": [
    "type(all_embeddings)"
   ],
   "metadata": {
    "collapsed": false,
    "ExecuteTime": {
     "end_time": "2024-02-20T19:46:02.576952Z",
     "start_time": "2024-02-20T19:46:02.569221Z"
    }
   },
   "id": "2ab675b7dec540e8",
   "execution_count": 10
  },
  {
   "cell_type": "code",
   "outputs": [],
   "source": [
    "X = all_embeddings\n",
    "y = df['interest'].replace({False: 0, True: 1}).values\n",
    "X_train, X_test, y_train, y_test = train_test_split(X, y, test_size=0.2, random_state=42, shuffle=True)"
   ],
   "metadata": {
    "collapsed": false,
    "ExecuteTime": {
     "end_time": "2024-02-20T20:09:32.401853Z",
     "start_time": "2024-02-20T20:09:29.869913Z"
    }
   },
   "id": "f25759d23c71dab2",
   "execution_count": 39
  },
  {
   "cell_type": "code",
   "outputs": [
    {
     "name": "stdout",
     "output_type": "stream",
     "text": [
      "Epoch 1/100\n",
      "4039/4039 [==============================] - 76s 19ms/step - loss: 0.3565 - accuracy: 0.8404 - val_loss: 0.3454 - val_accuracy: 0.8464\n",
      "Epoch 2/100\n",
      "4039/4039 [==============================] - 81s 20ms/step - loss: 0.3343 - accuracy: 0.8516 - val_loss: 0.3393 - val_accuracy: 0.8487\n",
      "Epoch 3/100\n",
      "4039/4039 [==============================] - 84s 21ms/step - loss: 0.3221 - accuracy: 0.8575 - val_loss: 0.3344 - val_accuracy: 0.8522\n",
      "Epoch 4/100\n",
      "4039/4039 [==============================] - 83s 20ms/step - loss: 0.3083 - accuracy: 0.8639 - val_loss: 0.3440 - val_accuracy: 0.8501\n",
      "Epoch 5/100\n",
      "4039/4039 [==============================] - 76s 19ms/step - loss: 0.2925 - accuracy: 0.8714 - val_loss: 0.3428 - val_accuracy: 0.8474\n",
      "Epoch 6/100\n",
      "3755/4039 [==========================>...] - ETA: 5s - loss: 0.2707 - accuracy: 0.8818"
     ]
    },
    {
     "ename": "KeyboardInterrupt",
     "evalue": "",
     "output_type": "error",
     "traceback": [
      "\u001B[0;31m---------------------------------------------------------------------------\u001B[0m",
      "\u001B[0;31mKeyboardInterrupt\u001B[0m                         Traceback (most recent call last)",
      "Cell \u001B[0;32mIn[40], line 30\u001B[0m\n\u001B[1;32m     27\u001B[0m model\u001B[38;5;241m.\u001B[39mcompile(optimizer\u001B[38;5;241m=\u001B[39m\u001B[38;5;124m'\u001B[39m\u001B[38;5;124madam\u001B[39m\u001B[38;5;124m'\u001B[39m, loss\u001B[38;5;241m=\u001B[39m\u001B[38;5;124m'\u001B[39m\u001B[38;5;124mbinary_crossentropy\u001B[39m\u001B[38;5;124m'\u001B[39m, metrics\u001B[38;5;241m=\u001B[39m[\u001B[38;5;124m'\u001B[39m\u001B[38;5;124maccuracy\u001B[39m\u001B[38;5;124m'\u001B[39m])\n\u001B[1;32m     29\u001B[0m \u001B[38;5;66;03m# Entraînement du modèle\u001B[39;00m\n\u001B[0;32m---> 30\u001B[0m history \u001B[38;5;241m=\u001B[39m model\u001B[38;5;241m.\u001B[39mfit(X_train, y_train, epochs\u001B[38;5;241m=\u001B[39m\u001B[38;5;241m100\u001B[39m, batch_size\u001B[38;5;241m=\u001B[39m\u001B[38;5;241m64\u001B[39m, validation_data\u001B[38;5;241m=\u001B[39m(X_val, y_val), verbose\u001B[38;5;241m=\u001B[39m\u001B[38;5;241m1\u001B[39m)\n\u001B[1;32m     32\u001B[0m \u001B[38;5;66;03m# Affichage de la courbe d'apprentissage\u001B[39;00m\n\u001B[1;32m     33\u001B[0m \u001B[38;5;28;01mimport\u001B[39;00m \u001B[38;5;21;01mmatplotlib\u001B[39;00m\u001B[38;5;21;01m.\u001B[39;00m\u001B[38;5;21;01mpyplot\u001B[39;00m \u001B[38;5;28;01mas\u001B[39;00m \u001B[38;5;21;01mplt\u001B[39;00m\n",
      "File \u001B[0;32m~/anaconda3/envs/imdb-env/lib/python3.11/site-packages/keras/src/utils/traceback_utils.py:65\u001B[0m, in \u001B[0;36mfilter_traceback.<locals>.error_handler\u001B[0;34m(*args, **kwargs)\u001B[0m\n\u001B[1;32m     63\u001B[0m filtered_tb \u001B[38;5;241m=\u001B[39m \u001B[38;5;28;01mNone\u001B[39;00m\n\u001B[1;32m     64\u001B[0m \u001B[38;5;28;01mtry\u001B[39;00m:\n\u001B[0;32m---> 65\u001B[0m     \u001B[38;5;28;01mreturn\u001B[39;00m fn(\u001B[38;5;241m*\u001B[39margs, \u001B[38;5;241m*\u001B[39m\u001B[38;5;241m*\u001B[39mkwargs)\n\u001B[1;32m     66\u001B[0m \u001B[38;5;28;01mexcept\u001B[39;00m \u001B[38;5;167;01mException\u001B[39;00m \u001B[38;5;28;01mas\u001B[39;00m e:\n\u001B[1;32m     67\u001B[0m     filtered_tb \u001B[38;5;241m=\u001B[39m _process_traceback_frames(e\u001B[38;5;241m.\u001B[39m__traceback__)\n",
      "File \u001B[0;32m~/anaconda3/envs/imdb-env/lib/python3.11/site-packages/keras/src/engine/training.py:1807\u001B[0m, in \u001B[0;36mModel.fit\u001B[0;34m(self, x, y, batch_size, epochs, verbose, callbacks, validation_split, validation_data, shuffle, class_weight, sample_weight, initial_epoch, steps_per_epoch, validation_steps, validation_batch_size, validation_freq, max_queue_size, workers, use_multiprocessing)\u001B[0m\n\u001B[1;32m   1799\u001B[0m \u001B[38;5;28;01mwith\u001B[39;00m tf\u001B[38;5;241m.\u001B[39mprofiler\u001B[38;5;241m.\u001B[39mexperimental\u001B[38;5;241m.\u001B[39mTrace(\n\u001B[1;32m   1800\u001B[0m     \u001B[38;5;124m\"\u001B[39m\u001B[38;5;124mtrain\u001B[39m\u001B[38;5;124m\"\u001B[39m,\n\u001B[1;32m   1801\u001B[0m     epoch_num\u001B[38;5;241m=\u001B[39mepoch,\n\u001B[0;32m   (...)\u001B[0m\n\u001B[1;32m   1804\u001B[0m     _r\u001B[38;5;241m=\u001B[39m\u001B[38;5;241m1\u001B[39m,\n\u001B[1;32m   1805\u001B[0m ):\n\u001B[1;32m   1806\u001B[0m     callbacks\u001B[38;5;241m.\u001B[39mon_train_batch_begin(step)\n\u001B[0;32m-> 1807\u001B[0m     tmp_logs \u001B[38;5;241m=\u001B[39m \u001B[38;5;28mself\u001B[39m\u001B[38;5;241m.\u001B[39mtrain_function(iterator)\n\u001B[1;32m   1808\u001B[0m     \u001B[38;5;28;01mif\u001B[39;00m data_handler\u001B[38;5;241m.\u001B[39mshould_sync:\n\u001B[1;32m   1809\u001B[0m         context\u001B[38;5;241m.\u001B[39masync_wait()\n",
      "File \u001B[0;32m~/anaconda3/envs/imdb-env/lib/python3.11/site-packages/tensorflow/python/util/traceback_utils.py:150\u001B[0m, in \u001B[0;36mfilter_traceback.<locals>.error_handler\u001B[0;34m(*args, **kwargs)\u001B[0m\n\u001B[1;32m    148\u001B[0m filtered_tb \u001B[38;5;241m=\u001B[39m \u001B[38;5;28;01mNone\u001B[39;00m\n\u001B[1;32m    149\u001B[0m \u001B[38;5;28;01mtry\u001B[39;00m:\n\u001B[0;32m--> 150\u001B[0m   \u001B[38;5;28;01mreturn\u001B[39;00m fn(\u001B[38;5;241m*\u001B[39margs, \u001B[38;5;241m*\u001B[39m\u001B[38;5;241m*\u001B[39mkwargs)\n\u001B[1;32m    151\u001B[0m \u001B[38;5;28;01mexcept\u001B[39;00m \u001B[38;5;167;01mException\u001B[39;00m \u001B[38;5;28;01mas\u001B[39;00m e:\n\u001B[1;32m    152\u001B[0m   filtered_tb \u001B[38;5;241m=\u001B[39m _process_traceback_frames(e\u001B[38;5;241m.\u001B[39m__traceback__)\n",
      "File \u001B[0;32m~/anaconda3/envs/imdb-env/lib/python3.11/site-packages/tensorflow/python/eager/polymorphic_function/polymorphic_function.py:832\u001B[0m, in \u001B[0;36mFunction.__call__\u001B[0;34m(self, *args, **kwds)\u001B[0m\n\u001B[1;32m    829\u001B[0m compiler \u001B[38;5;241m=\u001B[39m \u001B[38;5;124m\"\u001B[39m\u001B[38;5;124mxla\u001B[39m\u001B[38;5;124m\"\u001B[39m \u001B[38;5;28;01mif\u001B[39;00m \u001B[38;5;28mself\u001B[39m\u001B[38;5;241m.\u001B[39m_jit_compile \u001B[38;5;28;01melse\u001B[39;00m \u001B[38;5;124m\"\u001B[39m\u001B[38;5;124mnonXla\u001B[39m\u001B[38;5;124m\"\u001B[39m\n\u001B[1;32m    831\u001B[0m \u001B[38;5;28;01mwith\u001B[39;00m OptionalXlaContext(\u001B[38;5;28mself\u001B[39m\u001B[38;5;241m.\u001B[39m_jit_compile):\n\u001B[0;32m--> 832\u001B[0m   result \u001B[38;5;241m=\u001B[39m \u001B[38;5;28mself\u001B[39m\u001B[38;5;241m.\u001B[39m_call(\u001B[38;5;241m*\u001B[39margs, \u001B[38;5;241m*\u001B[39m\u001B[38;5;241m*\u001B[39mkwds)\n\u001B[1;32m    834\u001B[0m new_tracing_count \u001B[38;5;241m=\u001B[39m \u001B[38;5;28mself\u001B[39m\u001B[38;5;241m.\u001B[39mexperimental_get_tracing_count()\n\u001B[1;32m    835\u001B[0m without_tracing \u001B[38;5;241m=\u001B[39m (tracing_count \u001B[38;5;241m==\u001B[39m new_tracing_count)\n",
      "File \u001B[0;32m~/anaconda3/envs/imdb-env/lib/python3.11/site-packages/tensorflow/python/eager/polymorphic_function/polymorphic_function.py:868\u001B[0m, in \u001B[0;36mFunction._call\u001B[0;34m(self, *args, **kwds)\u001B[0m\n\u001B[1;32m    865\u001B[0m   \u001B[38;5;28mself\u001B[39m\u001B[38;5;241m.\u001B[39m_lock\u001B[38;5;241m.\u001B[39mrelease()\n\u001B[1;32m    866\u001B[0m   \u001B[38;5;66;03m# In this case we have created variables on the first call, so we run the\u001B[39;00m\n\u001B[1;32m    867\u001B[0m   \u001B[38;5;66;03m# defunned version which is guaranteed to never create variables.\u001B[39;00m\n\u001B[0;32m--> 868\u001B[0m   \u001B[38;5;28;01mreturn\u001B[39;00m tracing_compilation\u001B[38;5;241m.\u001B[39mcall_function(\n\u001B[1;32m    869\u001B[0m       args, kwds, \u001B[38;5;28mself\u001B[39m\u001B[38;5;241m.\u001B[39m_no_variable_creation_config\n\u001B[1;32m    870\u001B[0m   )\n\u001B[1;32m    871\u001B[0m \u001B[38;5;28;01melif\u001B[39;00m \u001B[38;5;28mself\u001B[39m\u001B[38;5;241m.\u001B[39m_variable_creation_config \u001B[38;5;129;01mis\u001B[39;00m \u001B[38;5;129;01mnot\u001B[39;00m \u001B[38;5;28;01mNone\u001B[39;00m:\n\u001B[1;32m    872\u001B[0m   \u001B[38;5;66;03m# Release the lock early so that multiple threads can perform the call\u001B[39;00m\n\u001B[1;32m    873\u001B[0m   \u001B[38;5;66;03m# in parallel.\u001B[39;00m\n\u001B[1;32m    874\u001B[0m   \u001B[38;5;28mself\u001B[39m\u001B[38;5;241m.\u001B[39m_lock\u001B[38;5;241m.\u001B[39mrelease()\n",
      "File \u001B[0;32m~/anaconda3/envs/imdb-env/lib/python3.11/site-packages/tensorflow/python/eager/polymorphic_function/tracing_compilation.py:139\u001B[0m, in \u001B[0;36mcall_function\u001B[0;34m(args, kwargs, tracing_options)\u001B[0m\n\u001B[1;32m    137\u001B[0m bound_args \u001B[38;5;241m=\u001B[39m function\u001B[38;5;241m.\u001B[39mfunction_type\u001B[38;5;241m.\u001B[39mbind(\u001B[38;5;241m*\u001B[39margs, \u001B[38;5;241m*\u001B[39m\u001B[38;5;241m*\u001B[39mkwargs)\n\u001B[1;32m    138\u001B[0m flat_inputs \u001B[38;5;241m=\u001B[39m function\u001B[38;5;241m.\u001B[39mfunction_type\u001B[38;5;241m.\u001B[39munpack_inputs(bound_args)\n\u001B[0;32m--> 139\u001B[0m \u001B[38;5;28;01mreturn\u001B[39;00m function\u001B[38;5;241m.\u001B[39m_call_flat(  \u001B[38;5;66;03m# pylint: disable=protected-access\u001B[39;00m\n\u001B[1;32m    140\u001B[0m     flat_inputs, captured_inputs\u001B[38;5;241m=\u001B[39mfunction\u001B[38;5;241m.\u001B[39mcaptured_inputs\n\u001B[1;32m    141\u001B[0m )\n",
      "File \u001B[0;32m~/anaconda3/envs/imdb-env/lib/python3.11/site-packages/tensorflow/python/eager/polymorphic_function/concrete_function.py:1323\u001B[0m, in \u001B[0;36mConcreteFunction._call_flat\u001B[0;34m(self, tensor_inputs, captured_inputs)\u001B[0m\n\u001B[1;32m   1319\u001B[0m possible_gradient_type \u001B[38;5;241m=\u001B[39m gradients_util\u001B[38;5;241m.\u001B[39mPossibleTapeGradientTypes(args)\n\u001B[1;32m   1320\u001B[0m \u001B[38;5;28;01mif\u001B[39;00m (possible_gradient_type \u001B[38;5;241m==\u001B[39m gradients_util\u001B[38;5;241m.\u001B[39mPOSSIBLE_GRADIENT_TYPES_NONE\n\u001B[1;32m   1321\u001B[0m     \u001B[38;5;129;01mand\u001B[39;00m executing_eagerly):\n\u001B[1;32m   1322\u001B[0m   \u001B[38;5;66;03m# No tape is watching; skip to running the function.\u001B[39;00m\n\u001B[0;32m-> 1323\u001B[0m   \u001B[38;5;28;01mreturn\u001B[39;00m \u001B[38;5;28mself\u001B[39m\u001B[38;5;241m.\u001B[39m_inference_function\u001B[38;5;241m.\u001B[39mcall_preflattened(args)\n\u001B[1;32m   1324\u001B[0m forward_backward \u001B[38;5;241m=\u001B[39m \u001B[38;5;28mself\u001B[39m\u001B[38;5;241m.\u001B[39m_select_forward_and_backward_functions(\n\u001B[1;32m   1325\u001B[0m     args,\n\u001B[1;32m   1326\u001B[0m     possible_gradient_type,\n\u001B[1;32m   1327\u001B[0m     executing_eagerly)\n\u001B[1;32m   1328\u001B[0m forward_function, args_with_tangents \u001B[38;5;241m=\u001B[39m forward_backward\u001B[38;5;241m.\u001B[39mforward()\n",
      "File \u001B[0;32m~/anaconda3/envs/imdb-env/lib/python3.11/site-packages/tensorflow/python/eager/polymorphic_function/atomic_function.py:216\u001B[0m, in \u001B[0;36mAtomicFunction.call_preflattened\u001B[0;34m(self, args)\u001B[0m\n\u001B[1;32m    214\u001B[0m \u001B[38;5;28;01mdef\u001B[39;00m \u001B[38;5;21mcall_preflattened\u001B[39m(\u001B[38;5;28mself\u001B[39m, args: Sequence[core\u001B[38;5;241m.\u001B[39mTensor]) \u001B[38;5;241m-\u001B[39m\u001B[38;5;241m>\u001B[39m Any:\n\u001B[1;32m    215\u001B[0m \u001B[38;5;250m  \u001B[39m\u001B[38;5;124;03m\"\"\"Calls with flattened tensor inputs and returns the structured output.\"\"\"\u001B[39;00m\n\u001B[0;32m--> 216\u001B[0m   flat_outputs \u001B[38;5;241m=\u001B[39m \u001B[38;5;28mself\u001B[39m\u001B[38;5;241m.\u001B[39mcall_flat(\u001B[38;5;241m*\u001B[39margs)\n\u001B[1;32m    217\u001B[0m   \u001B[38;5;28;01mreturn\u001B[39;00m \u001B[38;5;28mself\u001B[39m\u001B[38;5;241m.\u001B[39mfunction_type\u001B[38;5;241m.\u001B[39mpack_output(flat_outputs)\n",
      "File \u001B[0;32m~/anaconda3/envs/imdb-env/lib/python3.11/site-packages/tensorflow/python/eager/polymorphic_function/atomic_function.py:251\u001B[0m, in \u001B[0;36mAtomicFunction.call_flat\u001B[0;34m(self, *args)\u001B[0m\n\u001B[1;32m    249\u001B[0m \u001B[38;5;28;01mwith\u001B[39;00m record\u001B[38;5;241m.\u001B[39mstop_recording():\n\u001B[1;32m    250\u001B[0m   \u001B[38;5;28;01mif\u001B[39;00m \u001B[38;5;28mself\u001B[39m\u001B[38;5;241m.\u001B[39m_bound_context\u001B[38;5;241m.\u001B[39mexecuting_eagerly():\n\u001B[0;32m--> 251\u001B[0m     outputs \u001B[38;5;241m=\u001B[39m \u001B[38;5;28mself\u001B[39m\u001B[38;5;241m.\u001B[39m_bound_context\u001B[38;5;241m.\u001B[39mcall_function(\n\u001B[1;32m    252\u001B[0m         \u001B[38;5;28mself\u001B[39m\u001B[38;5;241m.\u001B[39mname,\n\u001B[1;32m    253\u001B[0m         \u001B[38;5;28mlist\u001B[39m(args),\n\u001B[1;32m    254\u001B[0m         \u001B[38;5;28mlen\u001B[39m(\u001B[38;5;28mself\u001B[39m\u001B[38;5;241m.\u001B[39mfunction_type\u001B[38;5;241m.\u001B[39mflat_outputs),\n\u001B[1;32m    255\u001B[0m     )\n\u001B[1;32m    256\u001B[0m   \u001B[38;5;28;01melse\u001B[39;00m:\n\u001B[1;32m    257\u001B[0m     outputs \u001B[38;5;241m=\u001B[39m make_call_op_in_graph(\n\u001B[1;32m    258\u001B[0m         \u001B[38;5;28mself\u001B[39m,\n\u001B[1;32m    259\u001B[0m         \u001B[38;5;28mlist\u001B[39m(args),\n\u001B[1;32m    260\u001B[0m         \u001B[38;5;28mself\u001B[39m\u001B[38;5;241m.\u001B[39m_bound_context\u001B[38;5;241m.\u001B[39mfunction_call_options\u001B[38;5;241m.\u001B[39mas_attrs(),\n\u001B[1;32m    261\u001B[0m     )\n",
      "File \u001B[0;32m~/anaconda3/envs/imdb-env/lib/python3.11/site-packages/tensorflow/python/eager/context.py:1486\u001B[0m, in \u001B[0;36mContext.call_function\u001B[0;34m(self, name, tensor_inputs, num_outputs)\u001B[0m\n\u001B[1;32m   1484\u001B[0m cancellation_context \u001B[38;5;241m=\u001B[39m cancellation\u001B[38;5;241m.\u001B[39mcontext()\n\u001B[1;32m   1485\u001B[0m \u001B[38;5;28;01mif\u001B[39;00m cancellation_context \u001B[38;5;129;01mis\u001B[39;00m \u001B[38;5;28;01mNone\u001B[39;00m:\n\u001B[0;32m-> 1486\u001B[0m   outputs \u001B[38;5;241m=\u001B[39m execute\u001B[38;5;241m.\u001B[39mexecute(\n\u001B[1;32m   1487\u001B[0m       name\u001B[38;5;241m.\u001B[39mdecode(\u001B[38;5;124m\"\u001B[39m\u001B[38;5;124mutf-8\u001B[39m\u001B[38;5;124m\"\u001B[39m),\n\u001B[1;32m   1488\u001B[0m       num_outputs\u001B[38;5;241m=\u001B[39mnum_outputs,\n\u001B[1;32m   1489\u001B[0m       inputs\u001B[38;5;241m=\u001B[39mtensor_inputs,\n\u001B[1;32m   1490\u001B[0m       attrs\u001B[38;5;241m=\u001B[39mattrs,\n\u001B[1;32m   1491\u001B[0m       ctx\u001B[38;5;241m=\u001B[39m\u001B[38;5;28mself\u001B[39m,\n\u001B[1;32m   1492\u001B[0m   )\n\u001B[1;32m   1493\u001B[0m \u001B[38;5;28;01melse\u001B[39;00m:\n\u001B[1;32m   1494\u001B[0m   outputs \u001B[38;5;241m=\u001B[39m execute\u001B[38;5;241m.\u001B[39mexecute_with_cancellation(\n\u001B[1;32m   1495\u001B[0m       name\u001B[38;5;241m.\u001B[39mdecode(\u001B[38;5;124m\"\u001B[39m\u001B[38;5;124mutf-8\u001B[39m\u001B[38;5;124m\"\u001B[39m),\n\u001B[1;32m   1496\u001B[0m       num_outputs\u001B[38;5;241m=\u001B[39mnum_outputs,\n\u001B[0;32m   (...)\u001B[0m\n\u001B[1;32m   1500\u001B[0m       cancellation_manager\u001B[38;5;241m=\u001B[39mcancellation_context,\n\u001B[1;32m   1501\u001B[0m   )\n",
      "File \u001B[0;32m~/anaconda3/envs/imdb-env/lib/python3.11/site-packages/tensorflow/python/eager/execute.py:53\u001B[0m, in \u001B[0;36mquick_execute\u001B[0;34m(op_name, num_outputs, inputs, attrs, ctx, name)\u001B[0m\n\u001B[1;32m     51\u001B[0m \u001B[38;5;28;01mtry\u001B[39;00m:\n\u001B[1;32m     52\u001B[0m   ctx\u001B[38;5;241m.\u001B[39mensure_initialized()\n\u001B[0;32m---> 53\u001B[0m   tensors \u001B[38;5;241m=\u001B[39m pywrap_tfe\u001B[38;5;241m.\u001B[39mTFE_Py_Execute(ctx\u001B[38;5;241m.\u001B[39m_handle, device_name, op_name,\n\u001B[1;32m     54\u001B[0m                                       inputs, attrs, num_outputs)\n\u001B[1;32m     55\u001B[0m \u001B[38;5;28;01mexcept\u001B[39;00m core\u001B[38;5;241m.\u001B[39m_NotOkStatusException \u001B[38;5;28;01mas\u001B[39;00m e:\n\u001B[1;32m     56\u001B[0m   \u001B[38;5;28;01mif\u001B[39;00m name \u001B[38;5;129;01mis\u001B[39;00m \u001B[38;5;129;01mnot\u001B[39;00m \u001B[38;5;28;01mNone\u001B[39;00m:\n",
      "\u001B[0;31mKeyboardInterrupt\u001B[0m: "
     ]
    }
   ],
   "source": [
    "import tensorflow as tf\n",
    "from tensorflow.keras.layers import Conv1D, Flatten, Dense\n",
    "from tensorflow.keras.models import Sequential\n",
    "\n",
    "# Définition du modèle CNN\n",
    "def create_model():\n",
    "    model = Sequential([\n",
    "        Conv1D(32, kernel_size=3, padding='same', activation='relu', input_shape=(384, 1)),\n",
    "        Conv1D(64, kernel_size=3, padding='same', activation='relu'),\n",
    "        Flatten(),\n",
    "        Dense(128, activation='relu'),\n",
    "        Dense(1, activation='sigmoid')\n",
    "    ])\n",
    "    return model\n",
    "\n",
    "# Supposons que vous avez déjà vos données X et y\n",
    "# Assurez-vous que vos données sont préalablement séparées en ensembles d'entraînement et de validation\n",
    "\n",
    "# Séparation des données en ensembles d'entraînement et de validation\n",
    "from sklearn.model_selection import train_test_split\n",
    "X_train, X_val, y_train, y_val = train_test_split(X, y, test_size=0.2, random_state=42, shuffle=True)\n",
    "\n",
    "# Création du modèle\n",
    "model = create_model()\n",
    "\n",
    "# Compilation du modèle\n",
    "model.compile(optimizer='adam', loss='binary_crossentropy', metrics=['accuracy'])\n",
    "\n",
    "# Entraînement du modèle\n",
    "history = model.fit(X_train, y_train, epochs=100, batch_size=64, validation_data=(X_val, y_val), verbose=1)\n",
    "\n",
    "# Affichage de la courbe d'apprentissage\n",
    "import matplotlib.pyplot as plt\n",
    "\n",
    "plt.plot(history.history['loss'], label='Train Loss')\n",
    "plt.plot(history.history['val_loss'], label='Val Loss')\n",
    "plt.plot(history.history['accuracy'], label='Train Accuracy')\n",
    "plt.plot(history.history['val_accuracy'], label='Val Accuracy')\n",
    "plt.xlabel('Epoch')\n",
    "plt.legend()\n",
    "plt.show()"
   ],
   "metadata": {
    "collapsed": false,
    "ExecuteTime": {
     "end_time": "2024-02-20T20:17:32.849053Z",
     "start_time": "2024-02-20T20:09:40.125562Z"
    }
   },
   "id": "a6dadd84dc6ed528",
   "execution_count": 40
  },
  {
   "cell_type": "code",
   "outputs": [],
   "source": [],
   "metadata": {
    "collapsed": false
   },
   "id": "321a4a6660ea11b4"
  }
 ],
 "metadata": {
  "kernelspec": {
   "display_name": "Python 3",
   "language": "python",
   "name": "python3"
  },
  "language_info": {
   "codemirror_mode": {
    "name": "ipython",
    "version": 2
   },
   "file_extension": ".py",
   "mimetype": "text/x-python",
   "name": "python",
   "nbconvert_exporter": "python",
   "pygments_lexer": "ipython2",
   "version": "2.7.6"
  }
 },
 "nbformat": 4,
 "nbformat_minor": 5
}
