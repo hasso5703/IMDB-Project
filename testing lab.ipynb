{
 "cells": [
  {
   "cell_type": "code",
   "outputs": [],
   "source": [
    "from constants_app import DF_COMMENTAIRE_PLONGEMENT, LISTE_FILMS_INITIAL, MODELE_LANGAGE, LABEL_COMMENTAIRE_UTILISATEUR\n",
    "from comments import filtrer_commentaire\n",
    "from constants import NB_MAX_COMMENTAIRE_PAR_FILM_INITIAL, MIN_MAX_MOT_INITIAL, PERPLEXITE_TSNE_INITIAL, DISTANCE_TSNE_INITIAL\n",
    "import pandas as pd\n",
    "from io import StringIO\n",
    "from sklearn.manifold import TSNE\n",
    "from sklearn.neighbors import NearestNeighbors"
   ],
   "metadata": {
    "collapsed": false,
    "ExecuteTime": {
     "end_time": "2024-02-19T17:34:57.611782Z",
     "start_time": "2024-02-19T17:34:36.195540Z"
    }
   },
   "id": "f19804423159400c",
   "execution_count": 1
  },
  {
   "cell_type": "code",
   "outputs": [],
   "source": [
    "df_filtre = filtrer_commentaire(DF_COMMENTAIRE_PLONGEMENT, nb_max_commentaire_par_film=NB_MAX_COMMENTAIRE_PAR_FILM_INITIAL, min_max_mot=MIN_MAX_MOT_INITIAL)"
   ],
   "metadata": {
    "collapsed": false,
    "ExecuteTime": {
     "end_time": "2024-02-19T17:35:00.260621Z",
     "start_time": "2024-02-19T17:34:57.689447Z"
    }
   },
   "id": "29e19fca186591d0",
   "execution_count": 2
  },
  {
   "cell_type": "code",
   "outputs": [
    {
     "data": {
      "text/plain": "                           titre        date rating  \\\n0       10 Cloverfield Lane 2016  2017-02-19      3   \n1       10 Cloverfield Lane 2016  2017-02-10      5   \n2       10 Cloverfield Lane 2016  2016-12-14      1   \n3       10 Cloverfield Lane 2016  2016-08-30      6   \n4       10 Cloverfield Lane 2016  2016-07-21      5   \n...                          ...         ...    ...   \n363568                 Zulu 1964  2004-10-20     10   \n363569                 Zulu 1964  2004-01-18     10   \n363570                 Zulu 1964  1999-12-02   Null   \n363571                 Zulu 1964  2006-02-20      9   \n363572                 Zulu 1964  2002-01-14     10   \n\n                                                   review     V_000     V_001  \\\n0       I wish I could rate the first hour of this mov... -0.028970 -0.001207   \n1       Movie Rating like this on IMDb makes it really... -0.059906 -0.007888   \n2       I would love to spoil this so you won't waste ... -0.112675  0.003736   \n3       Great suspense, Goodman doing an excellent job... -0.010714  0.002267   \n4       I've never seen the original \"Cloverfield\", bu... -0.027969 -0.152922   \n...                                                   ...       ...       ...   \n363568  When one sees this film you know great pains w... -0.101831  0.067059   \n363569  While quite a lot of today's action movies dep... -0.006235 -0.131908   \n363570  A stirring, inspiring film about ordinary Brit... -0.133035  0.028559   \n363571  Zulu is my favourite all time film and has bee... -0.102526  0.113231   \n363572  simply my favourite film. A true story well to... -0.112757  0.067062   \n\n           V_002     V_003     V_004     V_005  ...     V_374     V_375  \\\n0      -0.002391  0.060831  0.074947  0.017567  ...  0.118595  0.020172   \n1      -0.028277  0.062930  0.048968 -0.006634  ...  0.155309 -0.067951   \n2       0.003658  0.030246  0.031492  0.056028  ...  0.078484 -0.034838   \n3      -0.064918  0.096290  0.062443  0.076409  ...  0.091952 -0.017621   \n4      -0.013353  0.007773  0.055064  0.032211  ...  0.067877  0.047383   \n...          ...       ...       ...       ...  ...       ...       ...   \n363568 -0.055036  0.012404 -0.035793  0.090411  ...  0.064207  0.027225   \n363569 -0.033591 -0.062634  0.018265  0.093581  ...  0.025185  0.071643   \n363570 -0.051200 -0.045377 -0.061504  0.037782  ...  0.013474  0.089520   \n363571 -0.099816  0.003368 -0.028530  0.036549  ...  0.046299  0.023127   \n363572 -0.069362 -0.013325 -0.045737  0.055752  ...  0.074638 -0.023234   \n\n           V_376     V_377     V_378     V_379     V_380     V_381     V_382  \\\n0      -0.054436  0.017774 -0.041132  0.079366 -0.017481  0.001618 -0.063559   \n1      -0.039774  0.009251 -0.061647  0.077600  0.022015 -0.027876  0.033053   \n2      -0.026177  0.079169 -0.056632  0.022633 -0.022436 -0.030744 -0.034435   \n3      -0.001879 -0.132019 -0.046799 -0.004026 -0.038562 -0.024723 -0.074742   \n4      -0.039394  0.018294  0.004541  0.039569 -0.033773  0.007929  0.034427   \n...          ...       ...       ...       ...       ...       ...       ...   \n363568  0.034250  0.069083  0.007103  0.028638  0.144963 -0.039573 -0.097090   \n363569 -0.006097  0.071878  0.002889  0.027185  0.093982 -0.073659 -0.010753   \n363570  0.027840 -0.000864 -0.076700  0.051896 -0.098770  0.015675 -0.032107   \n363571  0.008594  0.014692 -0.035033  0.035107  0.051330 -0.039209 -0.097382   \n363572  0.000719 -0.012392 -0.011617  0.020496  0.054850  0.019823 -0.038236   \n\n           V_383  \n0      -0.035152  \n1       0.054762  \n2      -0.019224  \n3      -0.052700  \n4       0.022803  \n...          ...  \n363568 -0.005697  \n363569  0.063041  \n363570 -0.018967  \n363571  0.024714  \n363572 -0.048281  \n\n[63194 rows x 388 columns]",
      "text/html": "<div>\n<style scoped>\n    .dataframe tbody tr th:only-of-type {\n        vertical-align: middle;\n    }\n\n    .dataframe tbody tr th {\n        vertical-align: top;\n    }\n\n    .dataframe thead th {\n        text-align: right;\n    }\n</style>\n<table border=\"1\" class=\"dataframe\">\n  <thead>\n    <tr style=\"text-align: right;\">\n      <th></th>\n      <th>titre</th>\n      <th>date</th>\n      <th>rating</th>\n      <th>review</th>\n      <th>V_000</th>\n      <th>V_001</th>\n      <th>V_002</th>\n      <th>V_003</th>\n      <th>V_004</th>\n      <th>V_005</th>\n      <th>...</th>\n      <th>V_374</th>\n      <th>V_375</th>\n      <th>V_376</th>\n      <th>V_377</th>\n      <th>V_378</th>\n      <th>V_379</th>\n      <th>V_380</th>\n      <th>V_381</th>\n      <th>V_382</th>\n      <th>V_383</th>\n    </tr>\n  </thead>\n  <tbody>\n    <tr>\n      <th>0</th>\n      <td>10 Cloverfield Lane 2016</td>\n      <td>2017-02-19</td>\n      <td>3</td>\n      <td>I wish I could rate the first hour of this mov...</td>\n      <td>-0.028970</td>\n      <td>-0.001207</td>\n      <td>-0.002391</td>\n      <td>0.060831</td>\n      <td>0.074947</td>\n      <td>0.017567</td>\n      <td>...</td>\n      <td>0.118595</td>\n      <td>0.020172</td>\n      <td>-0.054436</td>\n      <td>0.017774</td>\n      <td>-0.041132</td>\n      <td>0.079366</td>\n      <td>-0.017481</td>\n      <td>0.001618</td>\n      <td>-0.063559</td>\n      <td>-0.035152</td>\n    </tr>\n    <tr>\n      <th>1</th>\n      <td>10 Cloverfield Lane 2016</td>\n      <td>2017-02-10</td>\n      <td>5</td>\n      <td>Movie Rating like this on IMDb makes it really...</td>\n      <td>-0.059906</td>\n      <td>-0.007888</td>\n      <td>-0.028277</td>\n      <td>0.062930</td>\n      <td>0.048968</td>\n      <td>-0.006634</td>\n      <td>...</td>\n      <td>0.155309</td>\n      <td>-0.067951</td>\n      <td>-0.039774</td>\n      <td>0.009251</td>\n      <td>-0.061647</td>\n      <td>0.077600</td>\n      <td>0.022015</td>\n      <td>-0.027876</td>\n      <td>0.033053</td>\n      <td>0.054762</td>\n    </tr>\n    <tr>\n      <th>2</th>\n      <td>10 Cloverfield Lane 2016</td>\n      <td>2016-12-14</td>\n      <td>1</td>\n      <td>I would love to spoil this so you won't waste ...</td>\n      <td>-0.112675</td>\n      <td>0.003736</td>\n      <td>0.003658</td>\n      <td>0.030246</td>\n      <td>0.031492</td>\n      <td>0.056028</td>\n      <td>...</td>\n      <td>0.078484</td>\n      <td>-0.034838</td>\n      <td>-0.026177</td>\n      <td>0.079169</td>\n      <td>-0.056632</td>\n      <td>0.022633</td>\n      <td>-0.022436</td>\n      <td>-0.030744</td>\n      <td>-0.034435</td>\n      <td>-0.019224</td>\n    </tr>\n    <tr>\n      <th>3</th>\n      <td>10 Cloverfield Lane 2016</td>\n      <td>2016-08-30</td>\n      <td>6</td>\n      <td>Great suspense, Goodman doing an excellent job...</td>\n      <td>-0.010714</td>\n      <td>0.002267</td>\n      <td>-0.064918</td>\n      <td>0.096290</td>\n      <td>0.062443</td>\n      <td>0.076409</td>\n      <td>...</td>\n      <td>0.091952</td>\n      <td>-0.017621</td>\n      <td>-0.001879</td>\n      <td>-0.132019</td>\n      <td>-0.046799</td>\n      <td>-0.004026</td>\n      <td>-0.038562</td>\n      <td>-0.024723</td>\n      <td>-0.074742</td>\n      <td>-0.052700</td>\n    </tr>\n    <tr>\n      <th>4</th>\n      <td>10 Cloverfield Lane 2016</td>\n      <td>2016-07-21</td>\n      <td>5</td>\n      <td>I've never seen the original \"Cloverfield\", bu...</td>\n      <td>-0.027969</td>\n      <td>-0.152922</td>\n      <td>-0.013353</td>\n      <td>0.007773</td>\n      <td>0.055064</td>\n      <td>0.032211</td>\n      <td>...</td>\n      <td>0.067877</td>\n      <td>0.047383</td>\n      <td>-0.039394</td>\n      <td>0.018294</td>\n      <td>0.004541</td>\n      <td>0.039569</td>\n      <td>-0.033773</td>\n      <td>0.007929</td>\n      <td>0.034427</td>\n      <td>0.022803</td>\n    </tr>\n    <tr>\n      <th>...</th>\n      <td>...</td>\n      <td>...</td>\n      <td>...</td>\n      <td>...</td>\n      <td>...</td>\n      <td>...</td>\n      <td>...</td>\n      <td>...</td>\n      <td>...</td>\n      <td>...</td>\n      <td>...</td>\n      <td>...</td>\n      <td>...</td>\n      <td>...</td>\n      <td>...</td>\n      <td>...</td>\n      <td>...</td>\n      <td>...</td>\n      <td>...</td>\n      <td>...</td>\n      <td>...</td>\n    </tr>\n    <tr>\n      <th>363568</th>\n      <td>Zulu 1964</td>\n      <td>2004-10-20</td>\n      <td>10</td>\n      <td>When one sees this film you know great pains w...</td>\n      <td>-0.101831</td>\n      <td>0.067059</td>\n      <td>-0.055036</td>\n      <td>0.012404</td>\n      <td>-0.035793</td>\n      <td>0.090411</td>\n      <td>...</td>\n      <td>0.064207</td>\n      <td>0.027225</td>\n      <td>0.034250</td>\n      <td>0.069083</td>\n      <td>0.007103</td>\n      <td>0.028638</td>\n      <td>0.144963</td>\n      <td>-0.039573</td>\n      <td>-0.097090</td>\n      <td>-0.005697</td>\n    </tr>\n    <tr>\n      <th>363569</th>\n      <td>Zulu 1964</td>\n      <td>2004-01-18</td>\n      <td>10</td>\n      <td>While quite a lot of today's action movies dep...</td>\n      <td>-0.006235</td>\n      <td>-0.131908</td>\n      <td>-0.033591</td>\n      <td>-0.062634</td>\n      <td>0.018265</td>\n      <td>0.093581</td>\n      <td>...</td>\n      <td>0.025185</td>\n      <td>0.071643</td>\n      <td>-0.006097</td>\n      <td>0.071878</td>\n      <td>0.002889</td>\n      <td>0.027185</td>\n      <td>0.093982</td>\n      <td>-0.073659</td>\n      <td>-0.010753</td>\n      <td>0.063041</td>\n    </tr>\n    <tr>\n      <th>363570</th>\n      <td>Zulu 1964</td>\n      <td>1999-12-02</td>\n      <td>Null</td>\n      <td>A stirring, inspiring film about ordinary Brit...</td>\n      <td>-0.133035</td>\n      <td>0.028559</td>\n      <td>-0.051200</td>\n      <td>-0.045377</td>\n      <td>-0.061504</td>\n      <td>0.037782</td>\n      <td>...</td>\n      <td>0.013474</td>\n      <td>0.089520</td>\n      <td>0.027840</td>\n      <td>-0.000864</td>\n      <td>-0.076700</td>\n      <td>0.051896</td>\n      <td>-0.098770</td>\n      <td>0.015675</td>\n      <td>-0.032107</td>\n      <td>-0.018967</td>\n    </tr>\n    <tr>\n      <th>363571</th>\n      <td>Zulu 1964</td>\n      <td>2006-02-20</td>\n      <td>9</td>\n      <td>Zulu is my favourite all time film and has bee...</td>\n      <td>-0.102526</td>\n      <td>0.113231</td>\n      <td>-0.099816</td>\n      <td>0.003368</td>\n      <td>-0.028530</td>\n      <td>0.036549</td>\n      <td>...</td>\n      <td>0.046299</td>\n      <td>0.023127</td>\n      <td>0.008594</td>\n      <td>0.014692</td>\n      <td>-0.035033</td>\n      <td>0.035107</td>\n      <td>0.051330</td>\n      <td>-0.039209</td>\n      <td>-0.097382</td>\n      <td>0.024714</td>\n    </tr>\n    <tr>\n      <th>363572</th>\n      <td>Zulu 1964</td>\n      <td>2002-01-14</td>\n      <td>10</td>\n      <td>simply my favourite film. A true story well to...</td>\n      <td>-0.112757</td>\n      <td>0.067062</td>\n      <td>-0.069362</td>\n      <td>-0.013325</td>\n      <td>-0.045737</td>\n      <td>0.055752</td>\n      <td>...</td>\n      <td>0.074638</td>\n      <td>-0.023234</td>\n      <td>0.000719</td>\n      <td>-0.012392</td>\n      <td>-0.011617</td>\n      <td>0.020496</td>\n      <td>0.054850</td>\n      <td>0.019823</td>\n      <td>-0.038236</td>\n      <td>-0.048281</td>\n    </tr>\n  </tbody>\n</table>\n<p>63194 rows × 388 columns</p>\n</div>"
     },
     "execution_count": 3,
     "metadata": {},
     "output_type": "execute_result"
    }
   ],
   "source": [
    "df_filtre"
   ],
   "metadata": {
    "collapsed": false,
    "ExecuteTime": {
     "end_time": "2024-02-19T17:35:00.302596Z",
     "start_time": "2024-02-19T17:35:00.260036Z"
    }
   },
   "id": "16ed25f42e762c67",
   "execution_count": 3
  },
  {
   "cell_type": "code",
   "outputs": [
    {
     "name": "stdout",
     "output_type": "stream",
     "text": [
      "['10 Cloverfield Lane 2016', '10 Things I Hate About You 1999', '12 Angry Men 1957', '12 Monkeys 1995', '12 Strong 2018']\n"
     ]
    }
   ],
   "source": [
    "print(LISTE_FILMS_INITIAL)\n",
    "df_filtre = df_filtre.query(\"titre in @LISTE_FILMS_INITIAL\")"
   ],
   "metadata": {
    "collapsed": false,
    "ExecuteTime": {
     "end_time": "2024-02-19T17:35:00.312573Z",
     "start_time": "2024-02-19T17:35:00.297928Z"
    }
   },
   "id": "5ade86adf1640d0a",
   "execution_count": 4
  },
  {
   "cell_type": "code",
   "outputs": [
    {
     "data": {
      "text/plain": "                         titre        date rating  \\\n0     10 Cloverfield Lane 2016  2017-02-19      3   \n1     10 Cloverfield Lane 2016  2017-02-10      5   \n2     10 Cloverfield Lane 2016  2016-12-14      1   \n3     10 Cloverfield Lane 2016  2016-08-30      6   \n4     10 Cloverfield Lane 2016  2016-07-21      5   \n...                        ...         ...    ...   \n1612            12 Strong 2018  2018-04-13     10   \n1613            12 Strong 2018  2018-06-03      8   \n1614            12 Strong 2018  2020-02-10      1   \n1615            12 Strong 2018  2018-12-14      4   \n1616            12 Strong 2018  2018-03-18      7   \n\n                                                 review     V_000     V_001  \\\n0     I wish I could rate the first hour of this mov... -0.028970 -0.001207   \n1     Movie Rating like this on IMDb makes it really... -0.059906 -0.007888   \n2     I would love to spoil this so you won't waste ... -0.112675  0.003736   \n3     Great suspense, Goodman doing an excellent job... -0.010714  0.002267   \n4     I've never seen the original \"Cloverfield\", bu... -0.027969 -0.152922   \n...                                                 ...       ...       ...   \n1612  It is unimaginable to go to Afghanistan, and e... -0.074956  0.007687   \n1613  It very good war movie. It brings back the mem... -0.072772 -0.067160   \n1614  I see al lot of reviews like: \"american propag... -0.057923 -0.006791   \n1615  After the tragic events of 9/11, the US determ... -0.069424 -0.075507   \n1616  This military film exceeded my expectations. I...  0.015108 -0.000571   \n\n         V_002     V_003     V_004     V_005  ...     V_374     V_375  \\\n0    -0.002391  0.060831  0.074947  0.017567  ...  0.118595  0.020172   \n1    -0.028277  0.062930  0.048968 -0.006634  ...  0.155309 -0.067951   \n2     0.003658  0.030246  0.031492  0.056028  ...  0.078484 -0.034838   \n3    -0.064918  0.096290  0.062443  0.076409  ...  0.091952 -0.017621   \n4    -0.013353  0.007773  0.055064  0.032211  ...  0.067877  0.047383   \n...        ...       ...       ...       ...  ...       ...       ...   \n1612  0.007526 -0.032629 -0.035816  0.029308  ...  0.023888  0.039797   \n1613 -0.062672 -0.057667 -0.027165  0.066148  ...  0.060927  0.064094   \n1614 -0.057569 -0.037657  0.026253  0.066385  ...  0.069454  0.033990   \n1615 -0.011454 -0.005499  0.023167  0.050003  ...  0.008316  0.079670   \n1616  0.009139 -0.031863 -0.004330  0.087497  ... -0.012764  0.006254   \n\n         V_376     V_377     V_378     V_379     V_380     V_381     V_382  \\\n0    -0.054436  0.017774 -0.041132  0.079366 -0.017481  0.001618 -0.063559   \n1    -0.039774  0.009251 -0.061647  0.077600  0.022015 -0.027876  0.033053   \n2    -0.026177  0.079169 -0.056632  0.022633 -0.022436 -0.030744 -0.034435   \n3    -0.001879 -0.132019 -0.046799 -0.004026 -0.038562 -0.024723 -0.074742   \n4    -0.039394  0.018294  0.004541  0.039569 -0.033773  0.007929  0.034427   \n...        ...       ...       ...       ...       ...       ...       ...   \n1612  0.070033  0.027971 -0.013184  0.024363  0.028984 -0.107008  0.013743   \n1613 -0.044070  0.011718  0.052528 -0.013307  0.063377 -0.077481 -0.027340   \n1614 -0.053433  0.015815  0.029048  0.028465  0.043841 -0.064877 -0.034143   \n1615  0.086630  0.048784 -0.049305 -0.021616 -0.004585 -0.045977  0.038047   \n1616  0.069413 -0.020076 -0.059468  0.030689  0.040234 -0.068265 -0.016019   \n\n         V_383  \n0    -0.035152  \n1     0.054762  \n2    -0.019224  \n3    -0.052700  \n4     0.022803  \n...        ...  \n1612  0.022045  \n1613  0.058107  \n1614 -0.010508  \n1615  0.015678  \n1616  0.016092  \n\n[275 rows x 388 columns]",
      "text/html": "<div>\n<style scoped>\n    .dataframe tbody tr th:only-of-type {\n        vertical-align: middle;\n    }\n\n    .dataframe tbody tr th {\n        vertical-align: top;\n    }\n\n    .dataframe thead th {\n        text-align: right;\n    }\n</style>\n<table border=\"1\" class=\"dataframe\">\n  <thead>\n    <tr style=\"text-align: right;\">\n      <th></th>\n      <th>titre</th>\n      <th>date</th>\n      <th>rating</th>\n      <th>review</th>\n      <th>V_000</th>\n      <th>V_001</th>\n      <th>V_002</th>\n      <th>V_003</th>\n      <th>V_004</th>\n      <th>V_005</th>\n      <th>...</th>\n      <th>V_374</th>\n      <th>V_375</th>\n      <th>V_376</th>\n      <th>V_377</th>\n      <th>V_378</th>\n      <th>V_379</th>\n      <th>V_380</th>\n      <th>V_381</th>\n      <th>V_382</th>\n      <th>V_383</th>\n    </tr>\n  </thead>\n  <tbody>\n    <tr>\n      <th>0</th>\n      <td>10 Cloverfield Lane 2016</td>\n      <td>2017-02-19</td>\n      <td>3</td>\n      <td>I wish I could rate the first hour of this mov...</td>\n      <td>-0.028970</td>\n      <td>-0.001207</td>\n      <td>-0.002391</td>\n      <td>0.060831</td>\n      <td>0.074947</td>\n      <td>0.017567</td>\n      <td>...</td>\n      <td>0.118595</td>\n      <td>0.020172</td>\n      <td>-0.054436</td>\n      <td>0.017774</td>\n      <td>-0.041132</td>\n      <td>0.079366</td>\n      <td>-0.017481</td>\n      <td>0.001618</td>\n      <td>-0.063559</td>\n      <td>-0.035152</td>\n    </tr>\n    <tr>\n      <th>1</th>\n      <td>10 Cloverfield Lane 2016</td>\n      <td>2017-02-10</td>\n      <td>5</td>\n      <td>Movie Rating like this on IMDb makes it really...</td>\n      <td>-0.059906</td>\n      <td>-0.007888</td>\n      <td>-0.028277</td>\n      <td>0.062930</td>\n      <td>0.048968</td>\n      <td>-0.006634</td>\n      <td>...</td>\n      <td>0.155309</td>\n      <td>-0.067951</td>\n      <td>-0.039774</td>\n      <td>0.009251</td>\n      <td>-0.061647</td>\n      <td>0.077600</td>\n      <td>0.022015</td>\n      <td>-0.027876</td>\n      <td>0.033053</td>\n      <td>0.054762</td>\n    </tr>\n    <tr>\n      <th>2</th>\n      <td>10 Cloverfield Lane 2016</td>\n      <td>2016-12-14</td>\n      <td>1</td>\n      <td>I would love to spoil this so you won't waste ...</td>\n      <td>-0.112675</td>\n      <td>0.003736</td>\n      <td>0.003658</td>\n      <td>0.030246</td>\n      <td>0.031492</td>\n      <td>0.056028</td>\n      <td>...</td>\n      <td>0.078484</td>\n      <td>-0.034838</td>\n      <td>-0.026177</td>\n      <td>0.079169</td>\n      <td>-0.056632</td>\n      <td>0.022633</td>\n      <td>-0.022436</td>\n      <td>-0.030744</td>\n      <td>-0.034435</td>\n      <td>-0.019224</td>\n    </tr>\n    <tr>\n      <th>3</th>\n      <td>10 Cloverfield Lane 2016</td>\n      <td>2016-08-30</td>\n      <td>6</td>\n      <td>Great suspense, Goodman doing an excellent job...</td>\n      <td>-0.010714</td>\n      <td>0.002267</td>\n      <td>-0.064918</td>\n      <td>0.096290</td>\n      <td>0.062443</td>\n      <td>0.076409</td>\n      <td>...</td>\n      <td>0.091952</td>\n      <td>-0.017621</td>\n      <td>-0.001879</td>\n      <td>-0.132019</td>\n      <td>-0.046799</td>\n      <td>-0.004026</td>\n      <td>-0.038562</td>\n      <td>-0.024723</td>\n      <td>-0.074742</td>\n      <td>-0.052700</td>\n    </tr>\n    <tr>\n      <th>4</th>\n      <td>10 Cloverfield Lane 2016</td>\n      <td>2016-07-21</td>\n      <td>5</td>\n      <td>I've never seen the original \"Cloverfield\", bu...</td>\n      <td>-0.027969</td>\n      <td>-0.152922</td>\n      <td>-0.013353</td>\n      <td>0.007773</td>\n      <td>0.055064</td>\n      <td>0.032211</td>\n      <td>...</td>\n      <td>0.067877</td>\n      <td>0.047383</td>\n      <td>-0.039394</td>\n      <td>0.018294</td>\n      <td>0.004541</td>\n      <td>0.039569</td>\n      <td>-0.033773</td>\n      <td>0.007929</td>\n      <td>0.034427</td>\n      <td>0.022803</td>\n    </tr>\n    <tr>\n      <th>...</th>\n      <td>...</td>\n      <td>...</td>\n      <td>...</td>\n      <td>...</td>\n      <td>...</td>\n      <td>...</td>\n      <td>...</td>\n      <td>...</td>\n      <td>...</td>\n      <td>...</td>\n      <td>...</td>\n      <td>...</td>\n      <td>...</td>\n      <td>...</td>\n      <td>...</td>\n      <td>...</td>\n      <td>...</td>\n      <td>...</td>\n      <td>...</td>\n      <td>...</td>\n      <td>...</td>\n    </tr>\n    <tr>\n      <th>1612</th>\n      <td>12 Strong 2018</td>\n      <td>2018-04-13</td>\n      <td>10</td>\n      <td>It is unimaginable to go to Afghanistan, and e...</td>\n      <td>-0.074956</td>\n      <td>0.007687</td>\n      <td>0.007526</td>\n      <td>-0.032629</td>\n      <td>-0.035816</td>\n      <td>0.029308</td>\n      <td>...</td>\n      <td>0.023888</td>\n      <td>0.039797</td>\n      <td>0.070033</td>\n      <td>0.027971</td>\n      <td>-0.013184</td>\n      <td>0.024363</td>\n      <td>0.028984</td>\n      <td>-0.107008</td>\n      <td>0.013743</td>\n      <td>0.022045</td>\n    </tr>\n    <tr>\n      <th>1613</th>\n      <td>12 Strong 2018</td>\n      <td>2018-06-03</td>\n      <td>8</td>\n      <td>It very good war movie. It brings back the mem...</td>\n      <td>-0.072772</td>\n      <td>-0.067160</td>\n      <td>-0.062672</td>\n      <td>-0.057667</td>\n      <td>-0.027165</td>\n      <td>0.066148</td>\n      <td>...</td>\n      <td>0.060927</td>\n      <td>0.064094</td>\n      <td>-0.044070</td>\n      <td>0.011718</td>\n      <td>0.052528</td>\n      <td>-0.013307</td>\n      <td>0.063377</td>\n      <td>-0.077481</td>\n      <td>-0.027340</td>\n      <td>0.058107</td>\n    </tr>\n    <tr>\n      <th>1614</th>\n      <td>12 Strong 2018</td>\n      <td>2020-02-10</td>\n      <td>1</td>\n      <td>I see al lot of reviews like: \"american propag...</td>\n      <td>-0.057923</td>\n      <td>-0.006791</td>\n      <td>-0.057569</td>\n      <td>-0.037657</td>\n      <td>0.026253</td>\n      <td>0.066385</td>\n      <td>...</td>\n      <td>0.069454</td>\n      <td>0.033990</td>\n      <td>-0.053433</td>\n      <td>0.015815</td>\n      <td>0.029048</td>\n      <td>0.028465</td>\n      <td>0.043841</td>\n      <td>-0.064877</td>\n      <td>-0.034143</td>\n      <td>-0.010508</td>\n    </tr>\n    <tr>\n      <th>1615</th>\n      <td>12 Strong 2018</td>\n      <td>2018-12-14</td>\n      <td>4</td>\n      <td>After the tragic events of 9/11, the US determ...</td>\n      <td>-0.069424</td>\n      <td>-0.075507</td>\n      <td>-0.011454</td>\n      <td>-0.005499</td>\n      <td>0.023167</td>\n      <td>0.050003</td>\n      <td>...</td>\n      <td>0.008316</td>\n      <td>0.079670</td>\n      <td>0.086630</td>\n      <td>0.048784</td>\n      <td>-0.049305</td>\n      <td>-0.021616</td>\n      <td>-0.004585</td>\n      <td>-0.045977</td>\n      <td>0.038047</td>\n      <td>0.015678</td>\n    </tr>\n    <tr>\n      <th>1616</th>\n      <td>12 Strong 2018</td>\n      <td>2018-03-18</td>\n      <td>7</td>\n      <td>This military film exceeded my expectations. I...</td>\n      <td>0.015108</td>\n      <td>-0.000571</td>\n      <td>0.009139</td>\n      <td>-0.031863</td>\n      <td>-0.004330</td>\n      <td>0.087497</td>\n      <td>...</td>\n      <td>-0.012764</td>\n      <td>0.006254</td>\n      <td>0.069413</td>\n      <td>-0.020076</td>\n      <td>-0.059468</td>\n      <td>0.030689</td>\n      <td>0.040234</td>\n      <td>-0.068265</td>\n      <td>-0.016019</td>\n      <td>0.016092</td>\n    </tr>\n  </tbody>\n</table>\n<p>275 rows × 388 columns</p>\n</div>"
     },
     "execution_count": 5,
     "metadata": {},
     "output_type": "execute_result"
    }
   ],
   "source": [
    "df_filtre"
   ],
   "metadata": {
    "collapsed": false,
    "ExecuteTime": {
     "end_time": "2024-02-19T17:35:00.354596Z",
     "start_time": "2024-02-19T17:35:00.318702Z"
    }
   },
   "id": "4668da65c3e44c1c",
   "execution_count": 5
  },
  {
   "cell_type": "code",
   "outputs": [],
   "source": [
    "plongement = MODELE_LANGAGE(\"i love programming\")"
   ],
   "metadata": {
    "collapsed": false,
    "ExecuteTime": {
     "end_time": "2024-02-19T17:35:01.541524Z",
     "start_time": "2024-02-19T17:35:00.324682Z"
    }
   },
   "id": "93fd3e682d6e89bf",
   "execution_count": 6
  },
  {
   "cell_type": "code",
   "outputs": [],
   "source": [
    "plongement = plongement.values"
   ],
   "metadata": {
    "collapsed": false,
    "ExecuteTime": {
     "end_time": "2024-02-19T17:39:02.562986Z",
     "start_time": "2024-02-19T17:39:02.549301Z"
    }
   },
   "id": "735bc8b699872e32",
   "execution_count": 22
  },
  {
   "cell_type": "code",
   "outputs": [],
   "source": [
    "all_embeddings = df_filtre.loc[:, 'V_000':].values"
   ],
   "metadata": {
    "collapsed": false,
    "ExecuteTime": {
     "end_time": "2024-02-19T17:39:03.867745Z",
     "start_time": "2024-02-19T17:39:03.861681Z"
    }
   },
   "id": "b295919cb1f65931",
   "execution_count": 23
  },
  {
   "cell_type": "code",
   "outputs": [
    {
     "name": "stdout",
     "output_type": "stream",
     "text": [
      "Probabilité pour la classe 10 Cloverfield Lane 2016: 0.20209402803707202\n",
      "Probabilité pour la classe 10 Things I Hate About You 1999: 0.396412553965521\n",
      "Probabilité pour la classe 12 Angry Men 1957: 0.0\n",
      "Probabilité pour la classe 12 Monkeys 1995: 0.40149341799740695\n",
      "Probabilité pour la classe 12 Strong 2018: 0.0\n"
     ]
    }
   ],
   "source": [
    "from sklearn.neighbors import KNeighborsClassifier\n",
    "import numpy as np\n",
    "\n",
    "labels = df_filtre.titre.values\n",
    "\n",
    "# Créez un modèle k-NN avec pondération et probabilité\n",
    "k = 5  # Nombre de voisins à considérer\n",
    "knn_model = KNeighborsClassifier(n_neighbors=k, weights='distance')\n",
    "\n",
    "# Entraînez le modèle avec vos embeddings et leurs étiquettes\n",
    "knn_model.fit(all_embeddings, labels)\n",
    "\n",
    "# Nouveau plongement que vous voulez classer\n",
    "nouveau_plongement = plongement\n",
    "\n",
    "# Estimez les probabilités pour chaque classe\n",
    "probabilites = knn_model.predict_proba(nouveau_plongement)\n",
    "\n",
    "classes = knn_model.classes_\n",
    "\n",
    "# Affichez les labels avec les probabilités estimées pour chaque classe\n",
    "for i, classe in enumerate(classes):\n",
    "    print(f\"Probabilité pour la classe {classe}: {probabilites[0][i]}\")"
   ],
   "metadata": {
    "collapsed": false,
    "ExecuteTime": {
     "end_time": "2024-02-19T17:46:04.956094Z",
     "start_time": "2024-02-19T17:46:04.880447Z"
    }
   },
   "id": "b3420fbe95c5776f",
   "execution_count": 31
  },
  {
   "cell_type": "code",
   "outputs": [],
   "source": [
    "nbrs = NearestNeighbors(n_neighbors=6, metric=DISTANCE_TSNE_INITIAL).fit(all_embeddings)"
   ],
   "metadata": {
    "collapsed": false,
    "ExecuteTime": {
     "end_time": "2024-02-19T17:39:04.310866Z",
     "start_time": "2024-02-19T17:39:04.307570Z"
    }
   },
   "id": "b79adebafbe88e5",
   "execution_count": 24
  },
  {
   "cell_type": "code",
   "outputs": [
    {
     "data": {
      "text/plain": "NearestNeighbors(metric='cosine', n_neighbors=6)",
      "text/html": "<style>#sk-container-id-2 {color: black;background-color: white;}#sk-container-id-2 pre{padding: 0;}#sk-container-id-2 div.sk-toggleable {background-color: white;}#sk-container-id-2 label.sk-toggleable__label {cursor: pointer;display: block;width: 100%;margin-bottom: 0;padding: 0.3em;box-sizing: border-box;text-align: center;}#sk-container-id-2 label.sk-toggleable__label-arrow:before {content: \"▸\";float: left;margin-right: 0.25em;color: #696969;}#sk-container-id-2 label.sk-toggleable__label-arrow:hover:before {color: black;}#sk-container-id-2 div.sk-estimator:hover label.sk-toggleable__label-arrow:before {color: black;}#sk-container-id-2 div.sk-toggleable__content {max-height: 0;max-width: 0;overflow: hidden;text-align: left;background-color: #f0f8ff;}#sk-container-id-2 div.sk-toggleable__content pre {margin: 0.2em;color: black;border-radius: 0.25em;background-color: #f0f8ff;}#sk-container-id-2 input.sk-toggleable__control:checked~div.sk-toggleable__content {max-height: 200px;max-width: 100%;overflow: auto;}#sk-container-id-2 input.sk-toggleable__control:checked~label.sk-toggleable__label-arrow:before {content: \"▾\";}#sk-container-id-2 div.sk-estimator input.sk-toggleable__control:checked~label.sk-toggleable__label {background-color: #d4ebff;}#sk-container-id-2 div.sk-label input.sk-toggleable__control:checked~label.sk-toggleable__label {background-color: #d4ebff;}#sk-container-id-2 input.sk-hidden--visually {border: 0;clip: rect(1px 1px 1px 1px);clip: rect(1px, 1px, 1px, 1px);height: 1px;margin: -1px;overflow: hidden;padding: 0;position: absolute;width: 1px;}#sk-container-id-2 div.sk-estimator {font-family: monospace;background-color: #f0f8ff;border: 1px dotted black;border-radius: 0.25em;box-sizing: border-box;margin-bottom: 0.5em;}#sk-container-id-2 div.sk-estimator:hover {background-color: #d4ebff;}#sk-container-id-2 div.sk-parallel-item::after {content: \"\";width: 100%;border-bottom: 1px solid gray;flex-grow: 1;}#sk-container-id-2 div.sk-label:hover label.sk-toggleable__label {background-color: #d4ebff;}#sk-container-id-2 div.sk-serial::before {content: \"\";position: absolute;border-left: 1px solid gray;box-sizing: border-box;top: 0;bottom: 0;left: 50%;z-index: 0;}#sk-container-id-2 div.sk-serial {display: flex;flex-direction: column;align-items: center;background-color: white;padding-right: 0.2em;padding-left: 0.2em;position: relative;}#sk-container-id-2 div.sk-item {position: relative;z-index: 1;}#sk-container-id-2 div.sk-parallel {display: flex;align-items: stretch;justify-content: center;background-color: white;position: relative;}#sk-container-id-2 div.sk-item::before, #sk-container-id-2 div.sk-parallel-item::before {content: \"\";position: absolute;border-left: 1px solid gray;box-sizing: border-box;top: 0;bottom: 0;left: 50%;z-index: -1;}#sk-container-id-2 div.sk-parallel-item {display: flex;flex-direction: column;z-index: 1;position: relative;background-color: white;}#sk-container-id-2 div.sk-parallel-item:first-child::after {align-self: flex-end;width: 50%;}#sk-container-id-2 div.sk-parallel-item:last-child::after {align-self: flex-start;width: 50%;}#sk-container-id-2 div.sk-parallel-item:only-child::after {width: 0;}#sk-container-id-2 div.sk-dashed-wrapped {border: 1px dashed gray;margin: 0 0.4em 0.5em 0.4em;box-sizing: border-box;padding-bottom: 0.4em;background-color: white;}#sk-container-id-2 div.sk-label label {font-family: monospace;font-weight: bold;display: inline-block;line-height: 1.2em;}#sk-container-id-2 div.sk-label-container {text-align: center;}#sk-container-id-2 div.sk-container {/* jupyter's `normalize.less` sets `[hidden] { display: none; }` but bootstrap.min.css set `[hidden] { display: none !important; }` so we also need the `!important` here to be able to override the default hidden behavior on the sphinx rendered scikit-learn.org. See: https://github.com/scikit-learn/scikit-learn/issues/21755 */display: inline-block !important;position: relative;}#sk-container-id-2 div.sk-text-repr-fallback {display: none;}</style><div id=\"sk-container-id-2\" class=\"sk-top-container\"><div class=\"sk-text-repr-fallback\"><pre>NearestNeighbors(metric=&#x27;cosine&#x27;, n_neighbors=6)</pre><b>In a Jupyter environment, please rerun this cell to show the HTML representation or trust the notebook. <br />On GitHub, the HTML representation is unable to render, please try loading this page with nbviewer.org.</b></div><div class=\"sk-container\" hidden><div class=\"sk-item\"><div class=\"sk-estimator sk-toggleable\"><input class=\"sk-toggleable__control sk-hidden--visually\" id=\"sk-estimator-id-2\" type=\"checkbox\" checked><label for=\"sk-estimator-id-2\" class=\"sk-toggleable__label sk-toggleable__label-arrow\">NearestNeighbors</label><div class=\"sk-toggleable__content\"><pre>NearestNeighbors(metric=&#x27;cosine&#x27;, n_neighbors=6)</pre></div></div></div></div></div>"
     },
     "execution_count": 25,
     "metadata": {},
     "output_type": "execute_result"
    }
   ],
   "source": [
    "nbrs"
   ],
   "metadata": {
    "collapsed": false,
    "ExecuteTime": {
     "end_time": "2024-02-19T17:39:04.685254Z",
     "start_time": "2024-02-19T17:39:04.680725Z"
    }
   },
   "id": "8af4f583dbd61ce",
   "execution_count": 25
  },
  {
   "cell_type": "code",
   "outputs": [],
   "source": [
    "distances, indices = nbrs.kneighbors(plongement)"
   ],
   "metadata": {
    "collapsed": false,
    "ExecuteTime": {
     "end_time": "2024-02-19T17:39:05.396067Z",
     "start_time": "2024-02-19T17:39:05.333466Z"
    }
   },
   "id": "ab16834f34842460",
   "execution_count": 26
  },
  {
   "cell_type": "code",
   "outputs": [
    {
     "ename": "AttributeError",
     "evalue": "'NearestNeighbors' object has no attribute 'predict_proba'",
     "output_type": "error",
     "traceback": [
      "\u001B[0;31m---------------------------------------------------------------------------\u001B[0m",
      "\u001B[0;31mAttributeError\u001B[0m                            Traceback (most recent call last)",
      "Cell \u001B[0;32mIn[29], line 1\u001B[0m\n\u001B[0;32m----> 1\u001B[0m nbrs\u001B[38;5;241m.\u001B[39mpredict_proba(plongement)\n",
      "\u001B[0;31mAttributeError\u001B[0m: 'NearestNeighbors' object has no attribute 'predict_proba'"
     ]
    }
   ],
   "source": [
    "nbrs.predict_proba(plongement)"
   ],
   "metadata": {
    "collapsed": false,
    "ExecuteTime": {
     "end_time": "2024-02-19T17:40:12.745792Z",
     "start_time": "2024-02-19T17:40:12.695052Z"
    }
   },
   "id": "4dfd86b4c7771c17",
   "execution_count": 29
  },
  {
   "cell_type": "code",
   "outputs": [
    {
     "data": {
      "text/plain": "[[8, 208, 210, 103, 76, 96]]"
     },
     "execution_count": 27,
     "metadata": {},
     "output_type": "execute_result"
    }
   ],
   "source": [
    "indices.tolist()"
   ],
   "metadata": {
    "collapsed": false,
    "ExecuteTime": {
     "end_time": "2024-02-19T17:39:08.609321Z",
     "start_time": "2024-02-19T17:39:08.604867Z"
    }
   },
   "id": "ccc6997da79c0175",
   "execution_count": 27
  },
  {
   "cell_type": "code",
   "outputs": [
    {
     "data": {
      "text/plain": "[[0.8598503960998686,\n  0.867594432597797,\n  0.8752929945732033,\n  0.8923055137431114,\n  0.895524014696836,\n  0.9008069775662051]]"
     },
     "execution_count": 28,
     "metadata": {},
     "output_type": "execute_result"
    }
   ],
   "source": [
    "distances.tolist()"
   ],
   "metadata": {
    "collapsed": false,
    "ExecuteTime": {
     "end_time": "2024-02-19T17:39:16.795773Z",
     "start_time": "2024-02-19T17:39:16.786149Z"
    }
   },
   "id": "ec16c866ccf6a7",
   "execution_count": 28
  },
  {
   "cell_type": "code",
   "outputs": [],
   "source": [
    "nearest_movies_names = df_filtre.iloc[indices[-1]][\"titre\"]"
   ],
   "metadata": {
    "collapsed": false,
    "ExecuteTime": {
     "end_time": "2024-02-18T17:08:49.623522Z",
     "start_time": "2024-02-18T17:08:49.564548Z"
    }
   },
   "id": "1d6f89cecf034ad",
   "execution_count": 70
  },
  {
   "cell_type": "code",
   "outputs": [
    {
     "data": {
      "text/plain": "0                 |---USER---|\n0     10 Cloverfield Lane 2016\n53    10 Cloverfield Lane 2016\n26    10 Cloverfield Lane 2016\n8     10 Cloverfield Lane 2016\n1     10 Cloverfield Lane 2016\nName: titre, dtype: object"
     },
     "execution_count": 71,
     "metadata": {},
     "output_type": "execute_result"
    }
   ],
   "source": [
    "nearest_movies_names"
   ],
   "metadata": {
    "collapsed": false,
    "ExecuteTime": {
     "end_time": "2024-02-18T17:08:49.626847Z",
     "start_time": "2024-02-18T17:08:49.593234Z"
    }
   },
   "id": "9b6295d2988bf622",
   "execution_count": 71
  },
  {
   "cell_type": "code",
   "outputs": [],
   "source": [
    "list_films = nearest_movies_names.tolist()[1:]"
   ],
   "metadata": {
    "collapsed": false,
    "ExecuteTime": {
     "end_time": "2024-02-18T17:08:49.647322Z",
     "start_time": "2024-02-18T17:08:49.599887Z"
    }
   },
   "id": "bd642160d9e98d79",
   "execution_count": 72
  },
  {
   "cell_type": "code",
   "outputs": [
    {
     "data": {
      "text/plain": "['10 Cloverfield Lane 2016',\n '10 Cloverfield Lane 2016',\n '10 Cloverfield Lane 2016',\n '10 Cloverfield Lane 2016',\n '10 Cloverfield Lane 2016']"
     },
     "execution_count": 102,
     "metadata": {},
     "output_type": "execute_result"
    }
   ],
   "source": [
    "list_films"
   ],
   "metadata": {
    "collapsed": false,
    "ExecuteTime": {
     "end_time": "2024-02-18T17:23:55.042235Z",
     "start_time": "2024-02-18T17:23:55.036990Z"
    }
   },
   "id": "5534f95b4ceb84b8",
   "execution_count": 102
  },
  {
   "cell_type": "code",
   "outputs": [],
   "source": [],
   "metadata": {
    "collapsed": false
   },
   "id": "fb2c0b3d3dbf1218"
  },
  {
   "cell_type": "code",
   "outputs": [],
   "source": [
    "list_films_name = list(set(df_filtre.titre.tolist()[:-1]))"
   ],
   "metadata": {
    "collapsed": false,
    "ExecuteTime": {
     "end_time": "2024-02-18T17:24:09.923938Z",
     "start_time": "2024-02-18T17:24:09.917847Z"
    }
   },
   "id": "28193707b95c0ac6",
   "execution_count": 107
  },
  {
   "cell_type": "code",
   "outputs": [
    {
     "data": {
      "text/plain": "['10 Cloverfield Lane 2016',\n '12 Monkeys 1995',\n '12 Strong 2018',\n '12 Angry Men 1957',\n '10 Things I Hate About You 1999']"
     },
     "execution_count": 108,
     "metadata": {},
     "output_type": "execute_result"
    }
   ],
   "source": [
    "list_films_name"
   ],
   "metadata": {
    "collapsed": false,
    "ExecuteTime": {
     "end_time": "2024-02-18T17:24:10.457033Z",
     "start_time": "2024-02-18T17:24:10.452221Z"
    }
   },
   "id": "fe560598da6eef9d",
   "execution_count": 108
  },
  {
   "cell_type": "code",
   "outputs": [
    {
     "data": {
      "text/plain": "[5, 0, 0, 0, 0]"
     },
     "execution_count": 110,
     "metadata": {},
     "output_type": "execute_result"
    }
   ],
   "source": [
    "[list_films.count(film) for film in list_films_name]"
   ],
   "metadata": {
    "collapsed": false,
    "ExecuteTime": {
     "end_time": "2024-02-18T17:25:57.384211Z",
     "start_time": "2024-02-18T17:25:57.362354Z"
    }
   },
   "id": "1080ed2399fab491",
   "execution_count": 110
  },
  {
   "cell_type": "code",
   "outputs": [],
   "source": [],
   "metadata": {
    "collapsed": false
   },
   "id": "6c2b7820b8b3ba65"
  }
 ],
 "metadata": {
  "kernelspec": {
   "display_name": "Python 3",
   "language": "python",
   "name": "python3"
  },
  "language_info": {
   "codemirror_mode": {
    "name": "ipython",
    "version": 2
   },
   "file_extension": ".py",
   "mimetype": "text/x-python",
   "name": "python",
   "nbconvert_exporter": "python",
   "pygments_lexer": "ipython2",
   "version": "2.7.6"
  }
 },
 "nbformat": 4,
 "nbformat_minor": 5
}
